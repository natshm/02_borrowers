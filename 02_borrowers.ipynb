{
 "cells": [
  {
   "cell_type": "markdown",
   "metadata": {},
   "source": [
    "# Исследование надёжности заёмщиков\n",
    "\n",
    "Заказчик — кредитный отдел банка. Нужно разобраться, влияет ли семейное положение и количество детей клиента на факт погашения кредита в срок. Входные данные от банка — статистика о платёжеспособности клиентов.\n",
    "\n",
    "Результаты исследования будут учтены при построении модели **кредитного скоринга** — специальной системы, которая оценивает способность потенциального заёмщика вернуть кредит банку.\n",
    "\n",
    "***Описание данных***\n",
    "\n",
    "children — количество детей в семье\n",
    "\n",
    "days_employed — общий трудовой стаж в днях\n",
    "\n",
    "dob_years — возраст клиента в годах\n",
    "\n",
    "education — уровень образования клиента\n",
    "\n",
    "education_id — идентификатор уровня образования\n",
    "\n",
    "family_status — семейное положение\n",
    "\n",
    "family_status_id — идентификатор семейного положения\n",
    "\n",
    "gender — пол клиента\n",
    "\n",
    "income_type — тип занятости\n",
    "\n",
    "debt — имел ли задолженность по возврату кредитов\n",
    "\n",
    "total_income — ежемесячный доход\n",
    "\n",
    "purpose — цель получения кредита\n"
   ]
  },
  {
   "cell_type": "markdown",
   "metadata": {},
   "source": [
    "## Шаг 1. Откройте файл с данными и изучите общую информацию"
   ]
  },
  {
   "cell_type": "code",
   "execution_count": null,
   "metadata": {
    "scrolled": true
   },
   "outputs": [
    {
     "data": {
      "text/html": [
       "<div>\n",
       "<style scoped>\n",
       "    .dataframe tbody tr th:only-of-type {\n",
       "        vertical-align: middle;\n",
       "    }\n",
       "\n",
       "    .dataframe tbody tr th {\n",
       "        vertical-align: top;\n",
       "    }\n",
       "\n",
       "    .dataframe thead th {\n",
       "        text-align: right;\n",
       "    }\n",
       "</style>\n",
       "<table border=\"1\" class=\"dataframe\">\n",
       "  <thead>\n",
       "    <tr style=\"text-align: right;\">\n",
       "      <th></th>\n",
       "      <th>children</th>\n",
       "      <th>days_employed</th>\n",
       "      <th>dob_years</th>\n",
       "      <th>education</th>\n",
       "      <th>education_id</th>\n",
       "      <th>family_status</th>\n",
       "      <th>family_status_id</th>\n",
       "      <th>gender</th>\n",
       "      <th>income_type</th>\n",
       "      <th>debt</th>\n",
       "      <th>total_income</th>\n",
       "      <th>purpose</th>\n",
       "    </tr>\n",
       "  </thead>\n",
       "  <tbody>\n",
       "    <tr>\n",
       "      <td>0</td>\n",
       "      <td>1</td>\n",
       "      <td>-8437.673028</td>\n",
       "      <td>42</td>\n",
       "      <td>высшее</td>\n",
       "      <td>0</td>\n",
       "      <td>женат / замужем</td>\n",
       "      <td>0</td>\n",
       "      <td>F</td>\n",
       "      <td>сотрудник</td>\n",
       "      <td>0</td>\n",
       "      <td>253875.639453</td>\n",
       "      <td>покупка жилья</td>\n",
       "    </tr>\n",
       "    <tr>\n",
       "      <td>1</td>\n",
       "      <td>1</td>\n",
       "      <td>-4024.803754</td>\n",
       "      <td>36</td>\n",
       "      <td>среднее</td>\n",
       "      <td>1</td>\n",
       "      <td>женат / замужем</td>\n",
       "      <td>0</td>\n",
       "      <td>F</td>\n",
       "      <td>сотрудник</td>\n",
       "      <td>0</td>\n",
       "      <td>112080.014102</td>\n",
       "      <td>приобретение автомобиля</td>\n",
       "    </tr>\n",
       "    <tr>\n",
       "      <td>2</td>\n",
       "      <td>0</td>\n",
       "      <td>-5623.422610</td>\n",
       "      <td>33</td>\n",
       "      <td>Среднее</td>\n",
       "      <td>1</td>\n",
       "      <td>женат / замужем</td>\n",
       "      <td>0</td>\n",
       "      <td>M</td>\n",
       "      <td>сотрудник</td>\n",
       "      <td>0</td>\n",
       "      <td>145885.952297</td>\n",
       "      <td>покупка жилья</td>\n",
       "    </tr>\n",
       "    <tr>\n",
       "      <td>3</td>\n",
       "      <td>3</td>\n",
       "      <td>-4124.747207</td>\n",
       "      <td>32</td>\n",
       "      <td>среднее</td>\n",
       "      <td>1</td>\n",
       "      <td>женат / замужем</td>\n",
       "      <td>0</td>\n",
       "      <td>M</td>\n",
       "      <td>сотрудник</td>\n",
       "      <td>0</td>\n",
       "      <td>267628.550329</td>\n",
       "      <td>дополнительное образование</td>\n",
       "    </tr>\n",
       "    <tr>\n",
       "      <td>4</td>\n",
       "      <td>0</td>\n",
       "      <td>340266.072047</td>\n",
       "      <td>53</td>\n",
       "      <td>среднее</td>\n",
       "      <td>1</td>\n",
       "      <td>гражданский брак</td>\n",
       "      <td>1</td>\n",
       "      <td>F</td>\n",
       "      <td>пенсионер</td>\n",
       "      <td>0</td>\n",
       "      <td>158616.077870</td>\n",
       "      <td>сыграть свадьбу</td>\n",
       "    </tr>\n",
       "  </tbody>\n",
       "</table>\n",
       "</div>"
      ],
      "text/plain": [
       "   children  days_employed  dob_years education  education_id  \\\n",
       "0         1   -8437.673028         42    высшее             0   \n",
       "1         1   -4024.803754         36   среднее             1   \n",
       "2         0   -5623.422610         33   Среднее             1   \n",
       "3         3   -4124.747207         32   среднее             1   \n",
       "4         0  340266.072047         53   среднее             1   \n",
       "\n",
       "      family_status  family_status_id gender income_type  debt   total_income  \\\n",
       "0   женат / замужем                 0      F   сотрудник     0  253875.639453   \n",
       "1   женат / замужем                 0      F   сотрудник     0  112080.014102   \n",
       "2   женат / замужем                 0      M   сотрудник     0  145885.952297   \n",
       "3   женат / замужем                 0      M   сотрудник     0  267628.550329   \n",
       "4  гражданский брак                 1      F   пенсионер     0  158616.077870   \n",
       "\n",
       "                      purpose  \n",
       "0               покупка жилья  \n",
       "1     приобретение автомобиля  \n",
       "2               покупка жилья  \n",
       "3  дополнительное образование  \n",
       "4             сыграть свадьбу  "
      ]
     },
     "metadata": {},
     "output_type": "display_data"
    }
   ],
   "source": [
    "import pandas as pd\n",
    "# <открытие файла для чтения и вывод первых 5-ти строк>\n",
    "df = pd.read_csv('/datasets/data.csv')\n",
    "display(df.head())\n",
    "\n"
   ]
  },
  {
   "cell_type": "code",
   "execution_count": null,
   "metadata": {},
   "outputs": [
    {
     "name": "stdout",
     "output_type": "stream",
     "text": [
      "<class 'pandas.core.frame.DataFrame'>\n",
      "RangeIndex: 21525 entries, 0 to 21524\n",
      "Data columns (total 12 columns):\n",
      "children            21525 non-null int64\n",
      "days_employed       19351 non-null float64\n",
      "dob_years           21525 non-null int64\n",
      "education           21525 non-null object\n",
      "education_id        21525 non-null int64\n",
      "family_status       21525 non-null object\n",
      "family_status_id    21525 non-null int64\n",
      "gender              21525 non-null object\n",
      "income_type         21525 non-null object\n",
      "debt                21525 non-null int64\n",
      "total_income        19351 non-null float64\n",
      "purpose             21525 non-null object\n",
      "dtypes: float64(2), int64(5), object(5)\n",
      "memory usage: 2.0+ MB\n",
      "----------------------------------\n",
      "Явных дубликатов в таблице: 54\n"
     ]
    }
   ],
   "source": [
    "# <Получим общую информацию о данных в таблице>\n",
    "df.info()\n",
    "#df.describe()\n",
    "print('----------------------------------')\n",
    "print('Явных дубликатов в таблице:', (df.duplicated().sum()))\n"
   ]
  },
  {
   "cell_type": "raw",
   "metadata": {},
   "source": [
    "Таблица содержит  21525 строк (в том числе 54 явных дубликата) и  12 колонок с тремя типами данных: float(2), int(5), object(5).\n",
    "\n",
    "Количество значений в столбцах отличается, что говорит о наличии пропущенных значений в датасете. Значения пропущены в колонках days_employed и total_income, причём количество пропусков в столбцах совпадает.\n",
    "    \n",
    "Столбец \"days_employed\" содержит большие положительные и отрицательные значения.\n",
    "\n",
    "В столбце \"education\" значения записаны с нарушением стиля (прописные и строчные буквы).\n",
    "\n",
    "Создадим функцию для замены отрицательных чисел на положительные,применим к колонке по стажу. Для проверки выведем первые пять значений столбца на экран:"
   ]
  },
  {
   "cell_type": "code",
   "execution_count": null,
   "metadata": {},
   "outputs": [],
   "source": [
    "# Создадим функцию для замены отрицательных чисел на положительные:\n",
    "def negative_to_pozitive(value):\n",
    "    if value < 0:\n",
    "        value *= -1\n",
    "        return value\n",
    "    else:\n",
    "        return value\n",
    "    \n",
    "#<Применим функцию для столбца 'days_employed'>\n",
    "df['days_employed'] = df['days_employed'].apply(negative_to_pozitive)\n",
    "\n",
    "# <вывод на экран>\n",
    "# display(df['days_employed'].sort_values(ascending=False).head(30))\n",
    "# display(df.sort_values(by = 'days_employed', ascending=False).head(3444))\n",
    "# df.sort_values('dob_years')\n"
   ]
  },
  {
   "cell_type": "code",
   "execution_count": null,
   "metadata": {},
   "outputs": [
    {
     "name": "stdout",
     "output_type": "stream",
     "text": [
      "[ 1  0  3  2 -1  4 20  5]\n",
      "[8437.67302776 4024.80375385 5623.42261023 ... 2113.3468877  3112.4817052\n",
      " 1984.50758853]\n",
      "[42 36 33 32 53 27 43 50 35 41 40 65 54 56 26 48 24 21 57 67 28 63 62 47\n",
      " 34 68 25 31 30 20 49 37 45 61 64 44 52 46 23 38 39 51  0 59 29 60 55 58\n",
      " 71 22 73 66 69 19 72 70 74 75]\n",
      "['высшее' 'среднее' 'Среднее' 'СРЕДНЕЕ' 'ВЫСШЕЕ' 'неоконченное высшее'\n",
      " 'начальное' 'Высшее' 'НЕОКОНЧЕННОЕ ВЫСШЕЕ' 'Неоконченное высшее'\n",
      " 'НАЧАЛЬНОЕ' 'Начальное' 'Ученая степень' 'УЧЕНАЯ СТЕПЕНЬ'\n",
      " 'ученая степень']\n",
      "[0 1 2 3 4]\n",
      "['женат / замужем' 'гражданский брак' 'вдовец / вдова' 'в разводе'\n",
      " 'Не женат / не замужем']\n",
      "[0 1 2 3 4]\n",
      "['F' 'M' 'XNA']\n",
      "['сотрудник' 'пенсионер' 'компаньон' 'госслужащий' 'безработный'\n",
      " 'предприниматель' 'студент' 'в декрете']\n",
      "[0 1]\n",
      "[253875.6394526  112080.01410244 145885.95229686 ...  89672.56115303\n",
      " 244093.05050043  82047.41889948]\n",
      "['покупка жилья' 'приобретение автомобиля' 'дополнительное образование'\n",
      " 'сыграть свадьбу' 'операции с жильем' 'образование'\n",
      " 'на проведение свадьбы' 'покупка жилья для семьи' 'покупка недвижимости'\n",
      " 'покупка коммерческой недвижимости' 'покупка жилой недвижимости'\n",
      " 'строительство собственной недвижимости' 'недвижимость'\n",
      " 'строительство недвижимости' 'на покупку подержанного автомобиля'\n",
      " 'на покупку своего автомобиля' 'операции с коммерческой недвижимостью'\n",
      " 'строительство жилой недвижимости' 'жилье'\n",
      " 'операции со своей недвижимостью' 'автомобили' 'заняться образованием'\n",
      " 'сделка с подержанным автомобилем' 'получение образования' 'автомобиль'\n",
      " 'свадьба' 'получение дополнительного образования' 'покупка своего жилья'\n",
      " 'операции с недвижимостью' 'получение высшего образования'\n",
      " 'свой автомобиль' 'сделка с автомобилем' 'профильное образование'\n",
      " 'высшее образование' 'покупка жилья для сдачи' 'на покупку автомобиля'\n",
      " 'ремонт жилью' 'заняться высшим образованием']\n"
     ]
    }
   ],
   "source": [
    "# < определим все уникальные значения в каждом столбце>\n",
    "for column in df:\n",
    "    print(df[column].unique())\n",
    "#    print(df[row].value_counts())\n"
   ]
  },
  {
   "cell_type": "markdown",
   "metadata": {},
   "source": [
    "***Вывод***\n",
    "    \n",
    "Столбец \"children\"содержит ошибочные значения равные '20' и '-1'. Количество не может быть отрицательным, \n",
    "\n",
    "Столбец \"days_employed\" содержит артефакты и отрицательные значения.\n",
    "\n",
    "Столбец \"dob_years\". Значений равных \"0\" = 101,высока вероятность, что так передаются пропущенные значения. Возраст не может быть \"0\", так как кредиты банками выдаются с 18-ти лет. Доля пропущеных значений в столбце составляет менее 1 % от всех значений датафрейма. \n",
    "\n",
    "Столбец \"education\". Нявные дубликаты в названиях. Привести к единому регистру.\n",
    "\n",
    "Столб  \"education_id\". количество категорий 5 (от 0 до 4) с точки зрения статистики, эти значения не будут количественными. Числа в этом столбце обозначают категории, и всего их пять.\n",
    "\n",
    "Столбец \"family_status\". количество категорий 5 \n",
    "\n",
    "Столбец \"family_status_id\". количество категорий 5 (от 0 до 4)\n",
    "\n",
    "Столбец \"gender\". F - 14236, M - 7288, XNA - 1. Присутствует строка с пропущенными данными.\n",
    "\n",
    "Столбец \"income_type\".Привети к нижнему регистру. \n",
    "\n",
    "Столбец \"purpose\". Много дубликатов с похожими или идентичными целями. Лемматизация.\n",
    "\n",
    "Столбец \"total_income\". Пропущенные значения (2174)\n",
    "\n",
    "Столбец \"days_employed\". Пропущенные значения (2174)\n",
    "\n",
    "\n",
    "В доходе пропуски заменили на медианное значение. \n"
   ]
  },
  {
   "cell_type": "markdown",
   "metadata": {},
   "source": [
    "Поскольку количество детей в столбце \"children\" - величина абсолютная, заменим отрицательное значение на положительное. \n",
    "\n",
    "Число 20 в столбце заменим на 2, так как вероятность человеческого фактора достаточно высока, учитывая близкое расположение на клавиатуре цифр \"2\" и \"0\",медиана по количеству детей = 2,5 и наличие 2 детей более частое явление чем наличие 3-х.  "
   ]
  },
  {
   "cell_type": "code",
   "execution_count": null,
   "metadata": {},
   "outputs": [
    {
     "data": {
      "text/plain": [
       "0    14149\n",
       "1     4865\n",
       "2     2131\n",
       "3      330\n",
       "4       41\n",
       "5        9\n",
       "Name: children, dtype: int64"
      ]
     },
     "metadata": {},
     "output_type": "display_data"
    }
   ],
   "source": [
    "# <Применим функцию negative_to_pozitive для замены отрицательного значения в'children'>\n",
    "df['children'] = df['children'].apply(negative_to_pozitive)\n",
    "\n",
    "df['children'] = df['children'].replace(20,2)\n",
    "display(df['children'].value_counts())"
   ]
  },
  {
   "cell_type": "code",
   "execution_count": null,
   "metadata": {},
   "outputs": [
    {
     "data": {
      "text/html": [
       "<div>\n",
       "<style scoped>\n",
       "    .dataframe tbody tr th:only-of-type {\n",
       "        vertical-align: middle;\n",
       "    }\n",
       "\n",
       "    .dataframe tbody tr th {\n",
       "        vertical-align: top;\n",
       "    }\n",
       "\n",
       "    .dataframe thead th {\n",
       "        text-align: right;\n",
       "    }\n",
       "</style>\n",
       "<table border=\"1\" class=\"dataframe\">\n",
       "  <thead>\n",
       "    <tr style=\"text-align: right;\">\n",
       "      <th></th>\n",
       "      <th>children</th>\n",
       "      <th>days_employed</th>\n",
       "      <th>dob_years</th>\n",
       "      <th>education</th>\n",
       "      <th>education_id</th>\n",
       "      <th>family_status</th>\n",
       "      <th>family_status_id</th>\n",
       "      <th>gender</th>\n",
       "      <th>income_type</th>\n",
       "      <th>debt</th>\n",
       "      <th>total_income</th>\n",
       "      <th>purpose</th>\n",
       "    </tr>\n",
       "  </thead>\n",
       "  <tbody>\n",
       "  </tbody>\n",
       "</table>\n",
       "</div>"
      ],
      "text/plain": [
       "Empty DataFrame\n",
       "Columns: [children, days_employed, dob_years, education, education_id, family_status, family_status_id, gender, income_type, debt, total_income, purpose]\n",
       "Index: []"
      ]
     },
     "metadata": {},
     "output_type": "display_data"
    }
   ],
   "source": [
    "# <Исключим из выборки строку с пропущеным значением по колонне 'gender'>\n",
    "\n",
    "df = df[df['gender'] != 'XNA']\n",
    "\n",
    "display(df[df['gender'] == 'XNA'])\n"
   ]
  },
  {
   "cell_type": "markdown",
   "metadata": {},
   "source": [
    "## Шаг 2. Предобработка данных"
   ]
  },
  {
   "cell_type": "markdown",
   "metadata": {},
   "source": [
    "### Обработка пропусков"
   ]
  },
  {
   "cell_type": "code",
   "execution_count": null,
   "metadata": {
    "scrolled": true
   },
   "outputs": [
    {
     "data": {
      "text/html": [
       "<div>\n",
       "<style scoped>\n",
       "    .dataframe tbody tr th:only-of-type {\n",
       "        vertical-align: middle;\n",
       "    }\n",
       "\n",
       "    .dataframe tbody tr th {\n",
       "        vertical-align: top;\n",
       "    }\n",
       "\n",
       "    .dataframe thead th {\n",
       "        text-align: right;\n",
       "    }\n",
       "</style>\n",
       "<table border=\"1\" class=\"dataframe\">\n",
       "  <thead>\n",
       "    <tr style=\"text-align: right;\">\n",
       "      <th></th>\n",
       "      <th>dob_years</th>\n",
       "    </tr>\n",
       "    <tr>\n",
       "      <th>income_type</th>\n",
       "      <th></th>\n",
       "    </tr>\n",
       "  </thead>\n",
       "  <tbody>\n",
       "    <tr>\n",
       "      <td>безработный</td>\n",
       "      <td>38.0</td>\n",
       "    </tr>\n",
       "    <tr>\n",
       "      <td>в декрете</td>\n",
       "      <td>39.0</td>\n",
       "    </tr>\n",
       "    <tr>\n",
       "      <td>госслужащий</td>\n",
       "      <td>40.0</td>\n",
       "    </tr>\n",
       "    <tr>\n",
       "      <td>компаньон</td>\n",
       "      <td>39.0</td>\n",
       "    </tr>\n",
       "    <tr>\n",
       "      <td>пенсионер</td>\n",
       "      <td>60.0</td>\n",
       "    </tr>\n",
       "    <tr>\n",
       "      <td>предприниматель</td>\n",
       "      <td>42.5</td>\n",
       "    </tr>\n",
       "    <tr>\n",
       "      <td>сотрудник</td>\n",
       "      <td>39.0</td>\n",
       "    </tr>\n",
       "    <tr>\n",
       "      <td>студент</td>\n",
       "      <td>22.0</td>\n",
       "    </tr>\n",
       "  </tbody>\n",
       "</table>\n",
       "</div>"
      ],
      "text/plain": [
       "                 dob_years\n",
       "income_type               \n",
       "безработный           38.0\n",
       "в декрете             39.0\n",
       "госслужащий           40.0\n",
       "компаньон             39.0\n",
       "пенсионер             60.0\n",
       "предприниматель       42.5\n",
       "сотрудник             39.0\n",
       "студент               22.0"
      ]
     },
     "metadata": {},
     "output_type": "display_data"
    },
    {
     "name": "stdout",
     "output_type": "stream",
     "text": [
      "________________________________\n",
      "Проверка на наличие значений равных \"0\"\n",
      "False    21524\n",
      "Name: dob_years, dtype: int64\n"
     ]
    }
   ],
   "source": [
    "# # <Замена значения 0 в 'dob_years'>\n",
    "# dob_years_mean = int(df['dob_years'].mean())\n",
    "# print('Среднее значение по возрасту -', dob_years_mean)\n",
    "\n",
    "# df['dob_years'] = df['dob_years'].replace(0,dob_years_mean).astype('int')\n",
    "# display(df['dob_years'].value_counts().head())\n",
    "\n",
    "dob_years_mean_by_income_type = df.groupby('income_type')['dob_years'].median()\n",
    "display(pd.DataFrame(dob_years_mean_by_income_type))\n",
    "\n",
    "for inc_type, years in dob_years_mean_by_income_type.iteritems():\n",
    "    df.loc[(df['income_type'] == inc_type) & (df['dob_years'] == 0), 'dob_years'] = years   \n",
    "\n",
    "#<Проверка на наличие значений равных \"0\". Для имеющихся значений должна вернуть 'True'.>\n",
    "print('________________________________')\n",
    "print('Проверка на наличие значений равных \"0\"')\n",
    "print((df['dob_years'] == 0).value_counts())"
   ]
  },
  {
   "cell_type": "code",
   "execution_count": null,
   "metadata": {},
   "outputs": [
    {
     "name": "stdout",
     "output_type": "stream",
     "text": [
      "days_employed    0.0\n",
      "total_income     0.0\n",
      "dtype: float64\n",
      "\n",
      "Общее количество пропущеных строк по \"total_income\"- 2174\n"
     ]
    }
   ],
   "source": [
    "print(df.query('total_income.isnull()')[['days_employed', 'total_income']].sum())\n",
    "print('')\n",
    "print('Общее количество пропущеных строк по \"total_income\"-', len(df[df['total_income'].isna()]))\n"
   ]
  },
  {
   "cell_type": "code",
   "execution_count": null,
   "metadata": {},
   "outputs": [
    {
     "data": {
      "text/plain": [
       "income_type\n",
       "безработный        131339.751676\n",
       "в декрете           53829.130729\n",
       "госслужащий        150447.935283\n",
       "компаньон          172319.266339\n",
       "пенсионер          118514.486412\n",
       "предприниматель    499163.144947\n",
       "сотрудник          142594.396847\n",
       "студент             98201.625314\n",
       "Name: total_income, dtype: float64"
      ]
     },
     "metadata": {},
     "output_type": "display_data"
    }
   ],
   "source": [
    "#<Посчитатем медиану заработной платы по каждому типу дохода>\n",
    "median_income_type = df.groupby('income_type')['total_income'].median()\n",
    "display(median_income_type)\n",
    "# print(type(median_income_type))\n",
    "# print('Median_income_type-', median_income_type[5])\n",
    "\n",
    "# заменим пропущеные значения на 0\n",
    "# df['total_income'] = df['total_income'].fillna(0)\n",
    "# df.loc[(df['total_income'] == 0) & (['income_type'] == 'предприниматель')] = df.groupby('income_type')['total_income'].median()[5]\n",
    "# df[df['total_income'] == 'предприниматель'] = df[df['total_income'] == 'предприниматель'].fillna(median_income_type[0])\n",
    "\n",
    "# <Заменим пропущенные значения колонки 'total_income' на значение медианы>\n",
    "# for i in median_income_type.iteritems():\n",
    "#     category = i[0]\n",
    "#     value = i[1]\n",
    "#     df[(df['income_type'] == category)] = df[(df['income_type'] == category)].fillna(value)\n"
   ]
  },
  {
   "cell_type": "code",
   "execution_count": null,
   "metadata": {},
   "outputs": [
    {
     "name": "stdout",
     "output_type": "stream",
     "text": [
      "Median_total_incom - 145011.70929552132\n",
      "Общее количество пропущеных строк по \"total_income\"- 0\n"
     ]
    }
   ],
   "source": [
    "# <Для заполнения пропусков в колонке 'total_income' расчитаем медиану и заменим на неё пропущенные значения>\n",
    "median_total_incom = df['total_income'].median()\n",
    "print('Median_total_incom -', median_total_incom)\n",
    "df['total_income'] = df['total_income'].fillna(median_total_incom)\n",
    "print('Общее количество пропущеных строк по \"total_income\"-', len(df[df['total_income'].isna()]))"
   ]
  },
  {
   "cell_type": "code",
   "execution_count": null,
   "metadata": {},
   "outputs": [
    {
     "name": "stdout",
     "output_type": "stream",
     "text": [
      "days_employed    0.0\n",
      "total_income     0.0\n",
      "dtype: float64\n",
      "\n",
      "Общее количество пропущеных строк по \"days_employed\"- 2174\n"
     ]
    }
   ],
   "source": [
    "\n",
    "print(df.query('total_income.isnull()')[['days_employed', 'total_income']].sum())\n",
    "print('')\n",
    "print('Общее количество пропущеных строк по \"days_employed\"-', len(df[df['days_employed'].isna()]))\n"
   ]
  },
  {
   "cell_type": "code",
   "execution_count": null,
   "metadata": {
    "scrolled": true
   },
   "outputs": [
    {
     "name": "stdout",
     "output_type": "stream",
     "text": [
      "Max значение по стажу - 401755.40047533\n",
      "Медиана по стажу - 2194.218767670908\n"
     ]
    },
    {
     "data": {
      "text/plain": [
       "children            3856\n",
       "days_employed       3443\n",
       "dob_years           3856\n",
       "education           3856\n",
       "education_id        3856\n",
       "family_status       3856\n",
       "family_status_id    3856\n",
       "gender              3856\n",
       "income_type         3856\n",
       "debt                3856\n",
       "total_income        3856\n",
       "purpose             3856\n",
       "dtype: int64"
      ]
     },
     "metadata": {},
     "output_type": "display_data"
    },
    {
     "name": "stdout",
     "output_type": "stream",
     "text": [
      "_______________________\n"
     ]
    },
    {
     "data": {
      "text/plain": [
       "age_group\n",
       "31-40 лет вкл.      1412.031728\n",
       "41-55 лет вкл.      2110.703906\n",
       "56-80 лет вкл.    341240.834401\n",
       "до 30 лет вкл.       937.517764\n",
       "Name: days_employed, dtype: float64"
      ]
     },
     "execution_count": 12,
     "metadata": {},
     "output_type": "execute_result"
    }
   ],
   "source": [
    "# <Заменим пропущенные значения колонки 'days_employed'>\n",
    "\n",
    "# print('Min значение по стажу -', df['days_employed'].min())\n",
    "print('Max значение по стажу -', df['days_employed'].max())\n",
    "# print('Среднее значение по стажу -', df['days_employed'].mean())\n",
    "print('Медиана по стажу -', df['days_employed'].median())\n",
    "\n",
    "retiree =df[df['income_type'] == 'пенсионер']\n",
    "display(retiree.count())\n",
    "\n",
    "#display(df.groupby('income_type')['debt'].count())\n",
    "#df['days_employed'] = df['days_employed'].fillna(days_employed_mean)\n",
    "\n",
    "def  ages_grouping(ages):\n",
    "      \n",
    "    if ages <= 30:\n",
    "        return 'до 30 лет вкл.'\n",
    "    \n",
    "    if ages <= 40 and ages > 30:\n",
    "        return '31-40 лет вкл.'\n",
    "\n",
    "    if ages <= 55 and ages > 40:\n",
    "        return '41-55 лет вкл.'\n",
    "    \n",
    "    if ages <= 80 and ages > 55:\n",
    "        return '56-80 лет вкл.'\n",
    "\n",
    "df['age_group'] = df['dob_years'].apply(ages_grouping)\n",
    "# display(df.head())\n",
    "\n",
    "\n",
    "# <Заменим пустые значения на 0 >\n",
    "df['days_employed'] = df['days_employed'].fillna(0)\n",
    "#df = df.fillna(0)\n",
    "# display(df.head())\n",
    "print('_______________________')\n",
    "df.groupby('age_group')['days_employed'].median()[0:4]\n",
    " \n",
    "# df.loc[(df['age_group'] == 'до 30 лет вкл.') & (df['days_employed'] == 0 )] = df.groupby('age_group')['days_employed'].mean()[0]\n",
    "# display(df['days_employed'].head())\n",
    "# display(df.head(12))\n"
   ]
  },
  {
   "cell_type": "code",
   "execution_count": null,
   "metadata": {},
   "outputs": [
    {
     "name": "stdout",
     "output_type": "stream",
     "text": [
      "Общее количество пропущеных строк по \"total_income\"- 0\n",
      "\n",
      "Общее количество пропущеных строк по \"days_employed\"- 0\n"
     ]
    }
   ],
   "source": [
    "print('Общее количество пропущеных строк по \"total_income\"-', len(df[df['total_income'].isna()]))\n",
    "print('')\n",
    "print('Общее количество пропущеных строк по \"days_employed\"-', len(df[df['days_employed'].isna()]))\n"
   ]
  },
  {
   "cell_type": "markdown",
   "metadata": {},
   "source": [
    "**Вывод**"
   ]
  },
  {
   "cell_type": "markdown",
   "metadata": {},
   "source": [
    "Из 21525 строк 3443 значения по стажу в днях - большие положительные числа(328 728 - 401755 дней) , это 16%. Пропущенных значений по столбцу - 2174,это ещё 10%. Итого - некорректных данных - немногим более 26%. \n",
    "\n",
    "Из группировки стажа по типам дохода ('income_type')видно, что из общего числа значений всех колонок (3856) с типом дохода 'пенсионер' выделяется колонка days_employed       3443, где  3443 - большие положительные числа(328 728 - 401755 дней) и  413 пропущенных значений.\n",
    "\n",
    "Так как для обработки столбца  \"days_employed\" не достаточно данных ( отсутствует категоризация) о типе стажа ( общий трудовой, страховой, стаж за последние 5 лет и.т.д.), а замена значений расчетным путем приводит к некорректным данным, и \"days_employed\" не понадобится для проведения анализа в рамках данного проекта, принято решение не менять большие положительные числа, а пропущенные значения заменить на ноль."
   ]
  },
  {
   "cell_type": "markdown",
   "metadata": {},
   "source": [
    "### Замена типа данных"
   ]
  },
  {
   "cell_type": "code",
   "execution_count": null,
   "metadata": {
    "scrolled": true
   },
   "outputs": [
    {
     "data": {
      "text/html": [
       "<div>\n",
       "<style scoped>\n",
       "    .dataframe tbody tr th:only-of-type {\n",
       "        vertical-align: middle;\n",
       "    }\n",
       "\n",
       "    .dataframe tbody tr th {\n",
       "        vertical-align: top;\n",
       "    }\n",
       "\n",
       "    .dataframe thead th {\n",
       "        text-align: right;\n",
       "    }\n",
       "</style>\n",
       "<table border=\"1\" class=\"dataframe\">\n",
       "  <thead>\n",
       "    <tr style=\"text-align: right;\">\n",
       "      <th></th>\n",
       "      <th>children</th>\n",
       "      <th>days_employed</th>\n",
       "      <th>dob_years</th>\n",
       "      <th>education</th>\n",
       "      <th>education_id</th>\n",
       "      <th>family_status</th>\n",
       "      <th>family_status_id</th>\n",
       "      <th>gender</th>\n",
       "      <th>income_type</th>\n",
       "      <th>debt</th>\n",
       "      <th>total_income</th>\n",
       "      <th>purpose</th>\n",
       "      <th>age_group</th>\n",
       "    </tr>\n",
       "  </thead>\n",
       "  <tbody>\n",
       "    <tr>\n",
       "      <td>0</td>\n",
       "      <td>1</td>\n",
       "      <td>8437</td>\n",
       "      <td>42.0</td>\n",
       "      <td>высшее</td>\n",
       "      <td>0</td>\n",
       "      <td>женат / замужем</td>\n",
       "      <td>0</td>\n",
       "      <td>F</td>\n",
       "      <td>сотрудник</td>\n",
       "      <td>0</td>\n",
       "      <td>253875</td>\n",
       "      <td>покупка жилья</td>\n",
       "      <td>41-55 лет вкл.</td>\n",
       "    </tr>\n",
       "    <tr>\n",
       "      <td>1</td>\n",
       "      <td>1</td>\n",
       "      <td>4024</td>\n",
       "      <td>36.0</td>\n",
       "      <td>среднее</td>\n",
       "      <td>1</td>\n",
       "      <td>женат / замужем</td>\n",
       "      <td>0</td>\n",
       "      <td>F</td>\n",
       "      <td>сотрудник</td>\n",
       "      <td>0</td>\n",
       "      <td>112080</td>\n",
       "      <td>приобретение автомобиля</td>\n",
       "      <td>31-40 лет вкл.</td>\n",
       "    </tr>\n",
       "    <tr>\n",
       "      <td>2</td>\n",
       "      <td>0</td>\n",
       "      <td>5623</td>\n",
       "      <td>33.0</td>\n",
       "      <td>Среднее</td>\n",
       "      <td>1</td>\n",
       "      <td>женат / замужем</td>\n",
       "      <td>0</td>\n",
       "      <td>M</td>\n",
       "      <td>сотрудник</td>\n",
       "      <td>0</td>\n",
       "      <td>145885</td>\n",
       "      <td>покупка жилья</td>\n",
       "      <td>31-40 лет вкл.</td>\n",
       "    </tr>\n",
       "    <tr>\n",
       "      <td>3</td>\n",
       "      <td>3</td>\n",
       "      <td>4124</td>\n",
       "      <td>32.0</td>\n",
       "      <td>среднее</td>\n",
       "      <td>1</td>\n",
       "      <td>женат / замужем</td>\n",
       "      <td>0</td>\n",
       "      <td>M</td>\n",
       "      <td>сотрудник</td>\n",
       "      <td>0</td>\n",
       "      <td>267628</td>\n",
       "      <td>дополнительное образование</td>\n",
       "      <td>31-40 лет вкл.</td>\n",
       "    </tr>\n",
       "    <tr>\n",
       "      <td>4</td>\n",
       "      <td>0</td>\n",
       "      <td>340266</td>\n",
       "      <td>53.0</td>\n",
       "      <td>среднее</td>\n",
       "      <td>1</td>\n",
       "      <td>гражданский брак</td>\n",
       "      <td>1</td>\n",
       "      <td>F</td>\n",
       "      <td>пенсионер</td>\n",
       "      <td>0</td>\n",
       "      <td>158616</td>\n",
       "      <td>сыграть свадьбу</td>\n",
       "      <td>41-55 лет вкл.</td>\n",
       "    </tr>\n",
       "  </tbody>\n",
       "</table>\n",
       "</div>"
      ],
      "text/plain": [
       "   children  days_employed  dob_years education  education_id  \\\n",
       "0         1           8437       42.0    высшее             0   \n",
       "1         1           4024       36.0   среднее             1   \n",
       "2         0           5623       33.0   Среднее             1   \n",
       "3         3           4124       32.0   среднее             1   \n",
       "4         0         340266       53.0   среднее             1   \n",
       "\n",
       "      family_status  family_status_id gender income_type  debt  total_income  \\\n",
       "0   женат / замужем                 0      F   сотрудник     0        253875   \n",
       "1   женат / замужем                 0      F   сотрудник     0        112080   \n",
       "2   женат / замужем                 0      M   сотрудник     0        145885   \n",
       "3   женат / замужем                 0      M   сотрудник     0        267628   \n",
       "4  гражданский брак                 1      F   пенсионер     0        158616   \n",
       "\n",
       "                      purpose       age_group  \n",
       "0               покупка жилья  41-55 лет вкл.  \n",
       "1     приобретение автомобиля  31-40 лет вкл.  \n",
       "2               покупка жилья  31-40 лет вкл.  \n",
       "3  дополнительное образование  31-40 лет вкл.  \n",
       "4             сыграть свадьбу  41-55 лет вкл.  "
      ]
     },
     "metadata": {},
     "output_type": "display_data"
    }
   ],
   "source": [
    "df['total_income'] = df['total_income'].astype('int')\n",
    "df['days_employed'] = df['days_employed'].astype('int')\n",
    "display(df.head())\n"
   ]
  },
  {
   "cell_type": "markdown",
   "metadata": {},
   "source": [
    "### Обработка дубликатов"
   ]
  },
  {
   "cell_type": "code",
   "execution_count": null,
   "metadata": {},
   "outputs": [
    {
     "data": {
      "text/html": [
       "<div>\n",
       "<style scoped>\n",
       "    .dataframe tbody tr th:only-of-type {\n",
       "        vertical-align: middle;\n",
       "    }\n",
       "\n",
       "    .dataframe tbody tr th {\n",
       "        vertical-align: top;\n",
       "    }\n",
       "\n",
       "    .dataframe thead th {\n",
       "        text-align: right;\n",
       "    }\n",
       "</style>\n",
       "<table border=\"1\" class=\"dataframe\">\n",
       "  <thead>\n",
       "    <tr style=\"text-align: right;\">\n",
       "      <th></th>\n",
       "      <th>children</th>\n",
       "      <th>days_employed</th>\n",
       "      <th>dob_years</th>\n",
       "      <th>education</th>\n",
       "      <th>education_id</th>\n",
       "      <th>family_status</th>\n",
       "      <th>family_status_id</th>\n",
       "      <th>gender</th>\n",
       "      <th>income_type</th>\n",
       "      <th>debt</th>\n",
       "      <th>total_income</th>\n",
       "      <th>purpose</th>\n",
       "      <th>age_group</th>\n",
       "    </tr>\n",
       "  </thead>\n",
       "  <tbody>\n",
       "    <tr>\n",
       "      <td>2849</td>\n",
       "      <td>0</td>\n",
       "      <td>0</td>\n",
       "      <td>41.0</td>\n",
       "      <td>среднее</td>\n",
       "      <td>1</td>\n",
       "      <td>женат / замужем</td>\n",
       "      <td>0</td>\n",
       "      <td>F</td>\n",
       "      <td>сотрудник</td>\n",
       "      <td>0</td>\n",
       "      <td>145011</td>\n",
       "      <td>покупка жилья для семьи</td>\n",
       "      <td>41-55 лет вкл.</td>\n",
       "    </tr>\n",
       "    <tr>\n",
       "      <td>4182</td>\n",
       "      <td>1</td>\n",
       "      <td>0</td>\n",
       "      <td>34.0</td>\n",
       "      <td>ВЫСШЕЕ</td>\n",
       "      <td>0</td>\n",
       "      <td>гражданский брак</td>\n",
       "      <td>1</td>\n",
       "      <td>F</td>\n",
       "      <td>сотрудник</td>\n",
       "      <td>0</td>\n",
       "      <td>145011</td>\n",
       "      <td>свадьба</td>\n",
       "      <td>31-40 лет вкл.</td>\n",
       "    </tr>\n",
       "    <tr>\n",
       "      <td>4851</td>\n",
       "      <td>0</td>\n",
       "      <td>0</td>\n",
       "      <td>60.0</td>\n",
       "      <td>среднее</td>\n",
       "      <td>1</td>\n",
       "      <td>гражданский брак</td>\n",
       "      <td>1</td>\n",
       "      <td>F</td>\n",
       "      <td>пенсионер</td>\n",
       "      <td>0</td>\n",
       "      <td>145011</td>\n",
       "      <td>свадьба</td>\n",
       "      <td>56-80 лет вкл.</td>\n",
       "    </tr>\n",
       "    <tr>\n",
       "      <td>5557</td>\n",
       "      <td>0</td>\n",
       "      <td>0</td>\n",
       "      <td>58.0</td>\n",
       "      <td>среднее</td>\n",
       "      <td>1</td>\n",
       "      <td>гражданский брак</td>\n",
       "      <td>1</td>\n",
       "      <td>F</td>\n",
       "      <td>пенсионер</td>\n",
       "      <td>0</td>\n",
       "      <td>145011</td>\n",
       "      <td>сыграть свадьбу</td>\n",
       "      <td>56-80 лет вкл.</td>\n",
       "    </tr>\n",
       "    <tr>\n",
       "      <td>7808</td>\n",
       "      <td>0</td>\n",
       "      <td>0</td>\n",
       "      <td>57.0</td>\n",
       "      <td>среднее</td>\n",
       "      <td>1</td>\n",
       "      <td>гражданский брак</td>\n",
       "      <td>1</td>\n",
       "      <td>F</td>\n",
       "      <td>пенсионер</td>\n",
       "      <td>0</td>\n",
       "      <td>145011</td>\n",
       "      <td>на проведение свадьбы</td>\n",
       "      <td>56-80 лет вкл.</td>\n",
       "    </tr>\n",
       "  </tbody>\n",
       "</table>\n",
       "</div>"
      ],
      "text/plain": [
       "      children  days_employed  dob_years education  education_id  \\\n",
       "2849         0              0       41.0   среднее             1   \n",
       "4182         1              0       34.0    ВЫСШЕЕ             0   \n",
       "4851         0              0       60.0   среднее             1   \n",
       "5557         0              0       58.0   среднее             1   \n",
       "7808         0              0       57.0   среднее             1   \n",
       "\n",
       "         family_status  family_status_id gender income_type  debt  \\\n",
       "2849   женат / замужем                 0      F   сотрудник     0   \n",
       "4182  гражданский брак                 1      F   сотрудник     0   \n",
       "4851  гражданский брак                 1      F   пенсионер     0   \n",
       "5557  гражданский брак                 1      F   пенсионер     0   \n",
       "7808  гражданский брак                 1      F   пенсионер     0   \n",
       "\n",
       "      total_income                  purpose       age_group  \n",
       "2849        145011  покупка жилья для семьи  41-55 лет вкл.  \n",
       "4182        145011                  свадьба  31-40 лет вкл.  \n",
       "4851        145011                  свадьба  56-80 лет вкл.  \n",
       "5557        145011          сыграть свадьбу  56-80 лет вкл.  \n",
       "7808        145011    на проведение свадьбы  56-80 лет вкл.  "
      ]
     },
     "metadata": {},
     "output_type": "display_data"
    },
    {
     "name": "stdout",
     "output_type": "stream",
     "text": [
      "----------------------------------\n",
      "Явных дубликатов в таблице: 54\n"
     ]
    }
   ],
   "source": [
    "#<Выведем DataFrame на экран>\n",
    "display(df[df.duplicated()].head())\n",
    "\n",
    "# <Посчитаем явные дубликаты в df>\n",
    "print('----------------------------------')\n",
    "print('Явных дубликатов в таблице:', (df.duplicated().sum()))"
   ]
  },
  {
   "cell_type": "code",
   "execution_count": null,
   "metadata": {},
   "outputs": [
    {
     "data": {
      "text/plain": [
       "женат / замужем          12380\n",
       "гражданский брак          4176\n",
       "Не женат / не замужем     2813\n",
       "в разводе                 1195\n",
       "вдовец / вдова             960\n",
       "Name: family_status, dtype: int64"
      ]
     },
     "metadata": {},
     "output_type": "display_data"
    },
    {
     "data": {
      "text/plain": [
       "среднее                13750\n",
       "высшее                  4718\n",
       "СРЕДНЕЕ                  772\n",
       "Среднее                  711\n",
       "неоконченное высшее      667\n",
       "ВЫСШЕЕ                   274\n",
       "Высшее                   268\n",
       "начальное                250\n",
       "Неоконченное высшее       47\n",
       "НЕОКОНЧЕННОЕ ВЫСШЕЕ       29\n",
       "НАЧАЛЬНОЕ                 17\n",
       "Начальное                 15\n",
       "ученая степень             4\n",
       "УЧЕНАЯ СТЕПЕНЬ             1\n",
       "Ученая степень             1\n",
       "Name: education, dtype: int64"
      ]
     },
     "metadata": {},
     "output_type": "display_data"
    },
    {
     "name": "stdout",
     "output_type": "stream",
     "text": [
      "-----------------------------\n"
     ]
    },
    {
     "data": {
      "text/plain": [
       "среднее                15233\n",
       "высшее                  5260\n",
       "неоконченное высшее      743\n",
       "начальное                282\n",
       "ученая степень             6\n",
       "Name: education, dtype: int64"
      ]
     },
     "metadata": {},
     "output_type": "display_data"
    },
    {
     "name": "stdout",
     "output_type": "stream",
     "text": [
      "-----------------------------\n"
     ]
    },
    {
     "data": {
      "text/plain": [
       "женат / замужем          12380\n",
       "гражданский брак          4176\n",
       "не женат / не замужем     2813\n",
       "в разводе                 1195\n",
       "вдовец / вдова             960\n",
       "Name: family_status, dtype: int64"
      ]
     },
     "metadata": {},
     "output_type": "display_data"
    },
    {
     "name": "stdout",
     "output_type": "stream",
     "text": [
      "-----------------------------\n"
     ]
    }
   ],
   "source": [
    "\n",
    "# <Поиск дубликатов с учётом регистра по столбцам>\n",
    "\n",
    "display(df['family_status'].value_counts())\n",
    "display(df['education'].value_counts())\n",
    "print('-----------------------------')\n",
    "\n",
    "# <Приведем значения в столбцах к нижнему регистру>\n",
    "df['education'] = df['education'].str.lower()\n",
    "df['family_status'] = df['family_status'].str.lower()\n",
    "\n",
    "display(df['education'].value_counts())\n",
    "print('-----------------------------')\n",
    "display(df['family_status'].value_counts())\n",
    "print('-----------------------------')\n"
   ]
  },
  {
   "cell_type": "code",
   "execution_count": null,
   "metadata": {},
   "outputs": [
    {
     "name": "stdout",
     "output_type": "stream",
     "text": [
      "----------------------------------\n",
      "Явных дубликатов в таблице: 0\n",
      "----------------------------------\n",
      "<class 'pandas.core.frame.DataFrame'>\n",
      "RangeIndex: 21453 entries, 0 to 21452\n",
      "Data columns (total 13 columns):\n",
      "children            21453 non-null int64\n",
      "days_employed       21453 non-null int64\n",
      "dob_years           21453 non-null float64\n",
      "education           21453 non-null object\n",
      "education_id        21453 non-null int64\n",
      "family_status       21453 non-null object\n",
      "family_status_id    21453 non-null int64\n",
      "gender              21453 non-null object\n",
      "income_type         21453 non-null object\n",
      "debt                21453 non-null int64\n",
      "total_income        21453 non-null int64\n",
      "purpose             21453 non-null object\n",
      "age_group           21453 non-null object\n",
      "dtypes: float64(1), int64(6), object(6)\n",
      "memory usage: 2.1+ MB\n"
     ]
    }
   ],
   "source": [
    "#<Удалим явные дубликаты используя метод drop_duplicates() с новой индексацией>\n",
    "\n",
    "df = df.drop_duplicates().reset_index(drop=True)\n",
    "\n",
    "# <Посчитаем явные дубликаты в df>\n",
    "print('----------------------------------')\n",
    "print('Явных дубликатов в таблице:', (df.duplicated().sum()))\n",
    "print('----------------------------------')\n",
    "df.info()"
   ]
  },
  {
   "cell_type": "markdown",
   "metadata": {},
   "source": [
    "**Вывод**"
   ]
  },
  {
   "cell_type": "markdown",
   "metadata": {},
   "source": []
  },
  {
   "cell_type": "markdown",
   "metadata": {},
   "source": [
    "### Лемматизация"
   ]
  },
  {
   "cell_type": "code",
   "execution_count": null,
   "metadata": {},
   "outputs": [
    {
     "name": "stdout",
     "output_type": "stream",
     "text": [
      "Counter({' ': 59, '\\n': 38, 'покупка': 10, 'недвижимость': 10, 'автомобиль': 9, 'образование': 9, 'жилье': 7, 'с': 5, 'операция': 4, 'на': 4, 'свой': 4, 'свадьба': 3, 'строительство': 3, 'получение': 3, 'высокий': 3, 'дополнительный': 2, 'для': 2, 'коммерческий': 2, 'жилой': 2, 'заниматься': 2, 'сделка': 2, 'приобретение': 1, 'сыграть': 1, 'проведение': 1, 'семья': 1, 'собственный': 1, 'подержать': 1, 'со': 1, 'подержанный': 1, 'профильный': 1, 'сдача': 1, 'ремонт': 1})\n"
     ]
    }
   ],
   "source": [
    "# импортируем pymystem3 для лемматизации:\n",
    "\n",
    "from pymystem3 import Mystem\n",
    "m = Mystem()\n",
    "\n",
    "# <Присвоим переменной 'purpose_list' список уникальных значений целей получения кредита>\n",
    "purpose_list = df['purpose'].unique()\n",
    "#print(purpose_list)\n",
    "\n",
    "# импортируем Counter для подсчёта лемматизированных слов в 'purpose_list'\n",
    "from collections import Counter\n",
    "\n",
    "\n",
    "lemmas = []\n",
    "\n",
    "for purpose in purpose_list:\n",
    "    lemma = m.lemmatize(purpose)\n",
    "    lemmas += lemma\n",
    "\n",
    "print(Counter(lemmas))\n"
   ]
  },
  {
   "cell_type": "code",
   "execution_count": null,
   "metadata": {},
   "outputs": [
    {
     "data": {
      "text/plain": [
       "недвижимость    10810\n",
       "автомобиль       4306\n",
       "образование      4013\n",
       "свадьба          2324\n",
       "Name: purpose, dtype: int64"
      ]
     },
     "metadata": {},
     "output_type": "display_data"
    }
   ],
   "source": [
    "def purpose_change(purpose):\n",
    "        if 'авто' in purpose:\n",
    "            return 'автомобиль'\n",
    "        if 'недвиж' in purpose or 'жил' in purpose:\n",
    "            return  'недвижимость'\n",
    "        if 'свад' in purpose:\n",
    "            return  'свадьба'\n",
    "        if 'образов' in purpose:\n",
    "            return 'образование'\n",
    "        \n",
    "cnt = 0\n",
    "for row in df['purpose']:\n",
    "    df.loc[cnt, 'purpose'] = purpose_change(row)\n",
    "    cnt += 1\n",
    "\n",
    "display(df['purpose'].value_counts())"
   ]
  },
  {
   "cell_type": "markdown",
   "metadata": {},
   "source": [
    "### Категоризация данных"
   ]
  },
  {
   "cell_type": "markdown",
   "metadata": {},
   "source": [
    "По данным ВОЗ, население распределяется по следующим группам : \n",
    "    молодые – 9-17 лет; \n",
    "    взрослые – 18-44 года (ранняя зрелость – 18-24 года и зрелость – 25-44 года); \n",
    "    средний пожилой возраст – 45-64 года; ранняя старость – 65-74 года\n",
    "    поздняя старость – 75 лет и старше.\n",
    "\n",
    "Так как кредиты выдаются с 18 лет, категория \"молодые\" в выборку не попадет."
   ]
  },
  {
   "cell_type": "code",
   "execution_count": null,
   "metadata": {},
   "outputs": [
    {
     "data": {
      "text/html": [
       "<div>\n",
       "<style scoped>\n",
       "    .dataframe tbody tr th:only-of-type {\n",
       "        vertical-align: middle;\n",
       "    }\n",
       "\n",
       "    .dataframe tbody tr th {\n",
       "        vertical-align: top;\n",
       "    }\n",
       "\n",
       "    .dataframe thead th {\n",
       "        text-align: right;\n",
       "    }\n",
       "</style>\n",
       "<table border=\"1\" class=\"dataframe\">\n",
       "  <thead>\n",
       "    <tr style=\"text-align: right;\">\n",
       "      <th></th>\n",
       "      <th>категория</th>\n",
       "      <th>число клиентов</th>\n",
       "      <th>медиана стажа</th>\n",
       "    </tr>\n",
       "  </thead>\n",
       "  <tbody>\n",
       "    <tr>\n",
       "      <td>0</td>\n",
       "      <td>взрослые</td>\n",
       "      <td>11787</td>\n",
       "      <td>1248.0</td>\n",
       "    </tr>\n",
       "    <tr>\n",
       "      <td>1</td>\n",
       "      <td>пожилые</td>\n",
       "      <td>8771</td>\n",
       "      <td>3445.0</td>\n",
       "    </tr>\n",
       "    <tr>\n",
       "      <td>2</td>\n",
       "      <td>старые</td>\n",
       "      <td>894</td>\n",
       "      <td>356483.0</td>\n",
       "    </tr>\n",
       "    <tr>\n",
       "      <td>3</td>\n",
       "      <td>поздняя старость</td>\n",
       "      <td>1</td>\n",
       "      <td>1678.0</td>\n",
       "    </tr>\n",
       "  </tbody>\n",
       "</table>\n",
       "</div>"
      ],
      "text/plain": [
       "          категория  число клиентов  медиана стажа\n",
       "0          взрослые           11787         1248.0\n",
       "1           пожилые            8771         3445.0\n",
       "2            старые             894       356483.0\n",
       "3  поздняя старость               1         1678.0"
      ]
     },
     "metadata": {},
     "output_type": "display_data"
    }
   ],
   "source": [
    "# <  >\n",
    "# создадим словарь, где  ключ -  возрастная группа, а значение - кортеж из интервала лет, удовлетворяющий этой группе.\n",
    "ages = {\n",
    "    'взрослые': (18, 44),\n",
    "    'пожилые': (45, 64),\n",
    "    'старые': (65, 74),\n",
    "    'поздняя старость': (75, 999)\n",
    "}\n",
    "\n",
    "data = []\n",
    "for key, value in ages.items():\n",
    "\n",
    "    category = key\n",
    "    start = value[0]\n",
    "    stop = value[1]\n",
    "    result = df[(df['dob_years'] >= start) & (df['dob_years'] <= stop)]\n",
    "    days_employed_median = result['days_employed'].median()\n",
    "    data.append([category, len(result), days_employed_median])\n",
    "\n",
    "age_categories = pd.DataFrame(data=data, columns=['категория', 'число клиентов', 'медиана стажа'])\n",
    "display(age_categories)"
   ]
  },
  {
   "cell_type": "markdown",
   "metadata": {},
   "source": [
    "## Шаг 3. Ответьте на вопросы"
   ]
  },
  {
   "cell_type": "markdown",
   "metadata": {},
   "source": [
    "- Есть ли зависимость между наличием детей и возвратом кредита в срок?"
   ]
  },
  {
   "cell_type": "code",
   "execution_count": null,
   "metadata": {},
   "outputs": [
    {
     "data": {
      "text/html": [
       "<div>\n",
       "<style scoped>\n",
       "    .dataframe tbody tr th:only-of-type {\n",
       "        vertical-align: middle;\n",
       "    }\n",
       "\n",
       "    .dataframe tbody tr th {\n",
       "        vertical-align: top;\n",
       "    }\n",
       "\n",
       "    .dataframe thead th {\n",
       "        text-align: right;\n",
       "    }\n",
       "</style>\n",
       "<table border=\"1\" class=\"dataframe\">\n",
       "  <thead>\n",
       "    <tr style=\"text-align: right;\">\n",
       "      <th></th>\n",
       "      <th>borrowers</th>\n",
       "      <th>debtors</th>\n",
       "      <th>correlation</th>\n",
       "    </tr>\n",
       "    <tr>\n",
       "      <th>children</th>\n",
       "      <th></th>\n",
       "      <th></th>\n",
       "      <th></th>\n",
       "    </tr>\n",
       "  </thead>\n",
       "  <tbody>\n",
       "    <tr>\n",
       "      <td>4</td>\n",
       "      <td>41</td>\n",
       "      <td>4</td>\n",
       "      <td>0.097561</td>\n",
       "    </tr>\n",
       "    <tr>\n",
       "      <td>2</td>\n",
       "      <td>2128</td>\n",
       "      <td>202</td>\n",
       "      <td>0.094925</td>\n",
       "    </tr>\n",
       "    <tr>\n",
       "      <td>1</td>\n",
       "      <td>4855</td>\n",
       "      <td>445</td>\n",
       "      <td>0.091658</td>\n",
       "    </tr>\n",
       "    <tr>\n",
       "      <td>3</td>\n",
       "      <td>330</td>\n",
       "      <td>27</td>\n",
       "      <td>0.081818</td>\n",
       "    </tr>\n",
       "    <tr>\n",
       "      <td>0</td>\n",
       "      <td>14090</td>\n",
       "      <td>1063</td>\n",
       "      <td>0.075444</td>\n",
       "    </tr>\n",
       "    <tr>\n",
       "      <td>5</td>\n",
       "      <td>9</td>\n",
       "      <td>0</td>\n",
       "      <td>0.000000</td>\n",
       "    </tr>\n",
       "  </tbody>\n",
       "</table>\n",
       "</div>"
      ],
      "text/plain": [
       "          borrowers  debtors  correlation\n",
       "children                                 \n",
       "4                41        4     0.097561\n",
       "2              2128      202     0.094925\n",
       "1              4855      445     0.091658\n",
       "3               330       27     0.081818\n",
       "0             14090     1063     0.075444\n",
       "5                 9        0     0.000000"
      ]
     },
     "metadata": {},
     "output_type": "display_data"
    }
   ],
   "source": [
    "\n",
    "children_debt = pd.DataFrame()\n",
    "\n",
    "children_debt['borrowers'] = df.groupby('children')['debt'].count()\n",
    "children_debt['debtors'] = df.groupby('children')['debt'].sum()\n",
    "children_debt['correlation'] = children_debt['debtors'] / children_debt['borrowers']\n",
    "display(children_debt.sort_values('correlation', ascending = False))\n"
   ]
  },
  {
   "cell_type": "markdown",
   "metadata": {},
   "source": [
    "**Вывод**"
   ]
  },
  {
   "cell_type": "markdown",
   "metadata": {},
   "source": [
    "Зависимость между наличием детей в семье и возвратом кредита в срок очень слабая и не превышает 0,3. Тем не менее, появление детей в семье увеличивает вероятность несвоевременного погашения кредита, хотя в семья с 5 детьми, кредиты оплачивают в срок."
   ]
  },
  {
   "cell_type": "markdown",
   "metadata": {},
   "source": [
    "- Есть ли зависимость между семейным положением и возвратом кредита в срок?"
   ]
  },
  {
   "cell_type": "code",
   "execution_count": null,
   "metadata": {},
   "outputs": [
    {
     "data": {
      "text/html": [
       "<div>\n",
       "<style scoped>\n",
       "    .dataframe tbody tr th:only-of-type {\n",
       "        vertical-align: middle;\n",
       "    }\n",
       "\n",
       "    .dataframe tbody tr th {\n",
       "        vertical-align: top;\n",
       "    }\n",
       "\n",
       "    .dataframe thead th {\n",
       "        text-align: right;\n",
       "    }\n",
       "</style>\n",
       "<table border=\"1\" class=\"dataframe\">\n",
       "  <thead>\n",
       "    <tr style=\"text-align: right;\">\n",
       "      <th></th>\n",
       "      <th>borrowers</th>\n",
       "      <th>debtors</th>\n",
       "      <th>correlation</th>\n",
       "    </tr>\n",
       "    <tr>\n",
       "      <th>family_status_id</th>\n",
       "      <th></th>\n",
       "      <th></th>\n",
       "      <th></th>\n",
       "    </tr>\n",
       "  </thead>\n",
       "  <tbody>\n",
       "    <tr>\n",
       "      <td>4</td>\n",
       "      <td>2810</td>\n",
       "      <td>274</td>\n",
       "      <td>0.097509</td>\n",
       "    </tr>\n",
       "    <tr>\n",
       "      <td>1</td>\n",
       "      <td>4150</td>\n",
       "      <td>388</td>\n",
       "      <td>0.093494</td>\n",
       "    </tr>\n",
       "    <tr>\n",
       "      <td>0</td>\n",
       "      <td>12339</td>\n",
       "      <td>931</td>\n",
       "      <td>0.075452</td>\n",
       "    </tr>\n",
       "    <tr>\n",
       "      <td>3</td>\n",
       "      <td>1195</td>\n",
       "      <td>85</td>\n",
       "      <td>0.071130</td>\n",
       "    </tr>\n",
       "    <tr>\n",
       "      <td>2</td>\n",
       "      <td>959</td>\n",
       "      <td>63</td>\n",
       "      <td>0.065693</td>\n",
       "    </tr>\n",
       "  </tbody>\n",
       "</table>\n",
       "</div>"
      ],
      "text/plain": [
       "                  borrowers  debtors  correlation\n",
       "family_status_id                                 \n",
       "4                      2810      274     0.097509\n",
       "1                      4150      388     0.093494\n",
       "0                     12339      931     0.075452\n",
       "3                      1195       85     0.071130\n",
       "2                       959       63     0.065693"
      ]
     },
     "execution_count": 22,
     "metadata": {},
     "output_type": "execute_result"
    }
   ],
   "source": [
    "family_status_debt = pd.DataFrame()\n",
    "\n",
    "family_status_debt['borrowers'] = df.groupby('family_status_id')['debt'].count()\n",
    "family_status_debt['debtors'] = df.groupby('family_status_id')['debt'].sum()\n",
    "family_status_debt['correlation'] = family_status_debt['debtors'] / family_status_debt['borrowers']\n",
    "family_status_debt.sort_values('correlation', ascending = False)\n"
   ]
  },
  {
   "cell_type": "markdown",
   "metadata": {},
   "source": [
    "**Вывод**"
   ]
  },
  {
   "cell_type": "markdown",
   "metadata": {},
   "source": [
    "Зависимость между семейным положением и возвратом кредита в срок очень слабая и не превышает 0,3."
   ]
  },
  {
   "cell_type": "markdown",
   "metadata": {},
   "source": [
    "- Есть ли зависимость между уровнем дохода и возвратом кредита в срок?"
   ]
  },
  {
   "cell_type": "code",
   "execution_count": null,
   "metadata": {},
   "outputs": [
    {
     "data": {
      "image/png": "[encoded data removed]",
      "text/plain": [
       "<Figure size 1080x360 with 1 Axes>"
      ]
     },
     "metadata": {},
     "output_type": "display_data"
    }
   ],
   "source": [
    "import seaborn\n",
    "import matplotlib.pyplot as plt\n",
    "\n",
    "total_income_debt = pd.DataFrame()\n",
    "min_income = df['total_income'].min()\n",
    "max_income = df['total_income'].max()\n",
    "median_income = df['total_income'].median()\n",
    "mean_income = df['total_income'].mean()\n",
    "\n",
    "old_inc = 0\n",
    "income_categories = []\n",
    "debt_values = []\n",
    "\n",
    "for inc in range(min_income, max_income, 50000):\n",
    "    \n",
    "    incomers = df[(df['total_income'] >= old_inc) & (df['total_income'] <= inc)]\n",
    "    grouped_debt = incomers['debt'].sum()\n",
    "    \n",
    "    try:\n",
    "        correlation = int(grouped_debt) / len(incomers)\n",
    "    except:\n",
    "        correlation = 0\n",
    "        \n",
    "    old_inc = inc\n",
    "    income_categories.append(inc)\n",
    "    debt_values.append(correlation)\n",
    "\n",
    "seaborn.set(rc={'figure.figsize':(15,5)})\n",
    "plt.setp(seaborn.barplot(x=income_categories[1:-1], y=debt_values[1:-1]).get_xticklabels(), rotation=90);\n",
    "\n"
   ]
  },
  {
   "cell_type": "markdown",
   "metadata": {},
   "source": [
    "**Вывод**"
   ]
  },
  {
   "cell_type": "markdown",
   "metadata": {},
   "source": [
    "Из диаграммы видно, что возникновение просрочки кредита от уровня дохода почти не зависит. Коэффициенты корреляции в подгруппах не превышают 0.3."
   ]
  },
  {
   "cell_type": "markdown",
   "metadata": {},
   "source": [
    "- Как разные цели кредита влияют на его возврат в срок?"
   ]
  },
  {
   "cell_type": "code",
   "execution_count": null,
   "metadata": {},
   "outputs": [
    {
     "data": {
      "text/html": [
       "<div>\n",
       "<style scoped>\n",
       "    .dataframe tbody tr th:only-of-type {\n",
       "        vertical-align: middle;\n",
       "    }\n",
       "\n",
       "    .dataframe tbody tr th {\n",
       "        vertical-align: top;\n",
       "    }\n",
       "\n",
       "    .dataframe thead th {\n",
       "        text-align: right;\n",
       "    }\n",
       "</style>\n",
       "<table border=\"1\" class=\"dataframe\">\n",
       "  <thead>\n",
       "    <tr style=\"text-align: right;\">\n",
       "      <th></th>\n",
       "      <th>borrowers</th>\n",
       "      <th>debtors</th>\n",
       "      <th>correlation</th>\n",
       "    </tr>\n",
       "    <tr>\n",
       "      <th>purpose</th>\n",
       "      <th></th>\n",
       "      <th></th>\n",
       "      <th></th>\n",
       "    </tr>\n",
       "  </thead>\n",
       "  <tbody>\n",
       "    <tr>\n",
       "      <td>автомобиль</td>\n",
       "      <td>4306</td>\n",
       "      <td>403</td>\n",
       "      <td>0.093590</td>\n",
       "    </tr>\n",
       "    <tr>\n",
       "      <td>образование</td>\n",
       "      <td>4013</td>\n",
       "      <td>370</td>\n",
       "      <td>0.092200</td>\n",
       "    </tr>\n",
       "    <tr>\n",
       "      <td>свадьба</td>\n",
       "      <td>2324</td>\n",
       "      <td>186</td>\n",
       "      <td>0.080034</td>\n",
       "    </tr>\n",
       "    <tr>\n",
       "      <td>недвижимость</td>\n",
       "      <td>10810</td>\n",
       "      <td>782</td>\n",
       "      <td>0.072340</td>\n",
       "    </tr>\n",
       "  </tbody>\n",
       "</table>\n",
       "</div>"
      ],
      "text/plain": [
       "              borrowers  debtors  correlation\n",
       "purpose                                      \n",
       "автомобиль         4306      403     0.093590\n",
       "образование        4013      370     0.092200\n",
       "свадьба            2324      186     0.080034\n",
       "недвижимость      10810      782     0.072340"
      ]
     },
     "execution_count": 24,
     "metadata": {},
     "output_type": "execute_result"
    }
   ],
   "source": [
    "purpose_debt = pd.DataFrame()\n",
    "\n",
    "purpose_debt['borrowers'] = df.groupby('purpose')['debt'].count()\n",
    "purpose_debt['debtors'] = df.groupby('purpose')['debt'].sum()\n",
    "purpose_debt['correlation'] = purpose_debt['debtors'] / purpose_debt['borrowers']\n",
    "purpose_debt.sort_values('correlation', ascending = False)\n"
   ]
  },
  {
   "cell_type": "markdown",
   "metadata": {},
   "source": [
    "**Вывод**"
   ]
  },
  {
   "cell_type": "markdown",
   "metadata": {},
   "source": [
    "Люди с большей вероятностью выплачивают кредит в срок  если он взят на операции с недвижимостью или на свадьбу. "
   ]
  },
  {
   "cell_type": "markdown",
   "metadata": {},
   "source": [
    "## Шаг 4. Общий вывод"
   ]
  },
  {
   "cell_type": "markdown",
   "metadata": {},
   "source": [
    "<div style=\"border:solid rgba(80,0,240,0.5) 3px; padding: 20px\">\n",
    "    Мы ответили на три вопроса о зависимости между семейным положением, наличием детей, цели кредита и возвратом кредита в срок. Во всех трех случаях коэффициент зависимости менее 0.3, что говорит о слабой, не тесной связи данных факторов со своевременной оплатой кредита. Однако, небольшая корреляция все же прослеживается:\n",
    "\n",
    "люди с большей вероятностью выплачивают кредит в срок если он взят на операции с недвижимостью или на свадьбу;\n",
    "\n",
    "люди с доходом 120-371 тыс руб. менее дисциплинированные по сравнению с другими группами; \n",
    "\n",
    "появление детей в семье увеличивает вероятность несвоевременного погашения кредита, хотя в семья с 5 детьми, кредиты оплачивают в срок.\n",
    "    \n",
    "    Данное исследование требует расширения объема исходных данных и дополнительной детализации по типам дохода в месяц. Текущий набор недостаточно объемен, содержит большое (более 26%) количество пропусков и некорректных значений.\n",
    "  \n",
    "</div>\n"
   ]
  },
  {
   "cell_type": "markdown",
   "metadata": {},
   "source": [
    "## Чек-лист готовности проекта\n",
    "\n",
    "Поставьте 'x' в выполненных пунктах. Далее нажмите Shift+Enter."
   ]
  },
  {
   "cell_type": "markdown",
   "metadata": {},
   "source": [
    "- [x]  открыт файл;\n",
    "- [x]  файл изучен;\n",
    "- [x]  определены пропущенные значения;\n",
    "- [x]  заполнены пропущенные значения;\n",
    "- [x]  есть пояснение, какие пропущенные значения обнаружены;\n",
    "- [x]  описаны возможные причины появления пропусков в данных;\n",
    "- [x]  объяснено, по какому принципу заполнены пропуски;\n",
    "- [x]  заменен вещественный тип данных на целочисленный;\n",
    "- [x]  есть пояснение, какой метод используется для изменения типа данных и почему;\n",
    "- [x]  удалены дубликаты;\n",
    "- [x]  есть пояснение, какой метод используется для поиска и удаления дубликатов;\n",
    "- [x]  описаны возможные причины появления дубликатов в данных;\n",
    "- [x]  выделены леммы в значениях столбца с целями получения кредита;\n",
    "- [x]  описан процесс лемматизации;\n",
    "- [x]  данные категоризированы;\n",
    "- [x]  есть объяснение принципа категоризации данных;\n",
    "- [x]  есть ответ на вопрос: \"Есть ли зависимость между наличием детей и возвратом кредита в срок?\";\n",
    "- [x]  есть ответ на вопрос: \"Есть ли зависимость между семейным положением и возвратом кредита в срок?\";\n",
    "- [x]  есть ответ на вопрос: \"Есть ли зависимость между уровнем дохода и возвратом кредита в срок?\";\n",
    "- [x]  есть ответ на вопрос: \"Как разные цели кредита влияют на его возврат в срок?\";\n",
    "- [x]  в каждом этапе есть выводы;\n",
    "- [x]  есть общий вывод."
   ]
  }
 ],
 "metadata": {
  "ExecuteTimeLog": [
   {
    "duration": -950,
    "start_time": "2021-11-10T07:01:39.271Z"
   },
   {
    "duration": 97,
    "start_time": "2021-11-10T07:08:40.661Z"
   },
   {
    "duration": 798,
    "start_time": "2021-11-10T07:09:03.644Z"
   },
   {
    "duration": 27,
    "start_time": "2021-11-10T07:17:57.873Z"
   },
   {
    "duration": 498,
    "start_time": "2021-11-12T06:32:52.957Z"
   },
   {
    "duration": 651,
    "start_time": "2021-11-12T06:33:11.324Z"
   },
   {
    "duration": 910,
    "start_time": "2021-11-12T06:33:49.945Z"
   },
   {
    "duration": 18,
    "start_time": "2021-11-12T06:33:53.743Z"
   },
   {
    "duration": 462,
    "start_time": "2021-11-12T06:52:55.271Z"
   },
   {
    "duration": 77,
    "start_time": "2021-11-12T06:54:00.304Z"
   },
   {
    "duration": 88,
    "start_time": "2021-11-12T06:55:16.548Z"
   },
   {
    "duration": 15,
    "start_time": "2021-11-12T06:56:19.658Z"
   },
   {
    "duration": 41,
    "start_time": "2021-11-12T07:24:52.762Z"
   },
   {
    "duration": 40,
    "start_time": "2021-11-12T07:34:41.563Z"
   },
   {
    "duration": 40,
    "start_time": "2021-11-12T07:35:04.162Z"
   },
   {
    "duration": 38,
    "start_time": "2021-11-12T07:49:39.542Z"
   },
   {
    "duration": 12,
    "start_time": "2021-11-12T07:51:44.830Z"
   },
   {
    "duration": 1239,
    "start_time": "2021-11-12T08:04:45.966Z"
   },
   {
    "duration": -403,
    "start_time": "2021-11-12T08:04:47.611Z"
   },
   {
    "duration": -410,
    "start_time": "2021-11-12T08:04:47.620Z"
   },
   {
    "duration": 811,
    "start_time": "2021-11-12T08:05:44.811Z"
   },
   {
    "duration": 53,
    "start_time": "2021-11-12T08:05:45.624Z"
   },
   {
    "duration": 11,
    "start_time": "2021-11-12T08:05:45.679Z"
   },
   {
    "duration": 45,
    "start_time": "2021-11-12T08:14:17.772Z"
   },
   {
    "duration": 9234,
    "start_time": "2021-11-12T08:15:20.288Z"
   },
   {
    "duration": 114,
    "start_time": "2021-11-12T08:16:13.327Z"
   },
   {
    "duration": 42,
    "start_time": "2021-11-12T08:19:18.392Z"
   },
   {
    "duration": 418,
    "start_time": "2021-11-12T08:26:40.486Z"
   },
   {
    "duration": 133,
    "start_time": "2021-11-12T08:31:58.182Z"
   },
   {
    "duration": 921,
    "start_time": "2021-11-12T08:32:13.549Z"
   },
   {
    "duration": 372,
    "start_time": "2021-11-12T08:42:25.646Z"
   },
   {
    "duration": 114,
    "start_time": "2021-11-12T08:43:10.424Z"
   },
   {
    "duration": 40,
    "start_time": "2021-11-12T08:44:37.637Z"
   },
   {
    "duration": 79,
    "start_time": "2021-11-12T08:45:33.814Z"
   },
   {
    "duration": 37,
    "start_time": "2021-11-12T08:48:12.339Z"
   },
   {
    "duration": 43,
    "start_time": "2021-11-12T08:57:54.220Z"
   },
   {
    "duration": 122,
    "start_time": "2021-11-12T08:59:53.433Z"
   },
   {
    "duration": 118,
    "start_time": "2021-11-12T09:00:05.563Z"
   },
   {
    "duration": 360,
    "start_time": "2021-11-12T09:00:39.957Z"
   },
   {
    "duration": 140,
    "start_time": "2021-11-12T09:01:00.031Z"
   },
   {
    "duration": 43,
    "start_time": "2021-11-12T09:01:14.854Z"
   },
   {
    "duration": 552,
    "start_time": "2021-11-12T09:44:13.228Z"
   },
   {
    "duration": 47,
    "start_time": "2021-11-12T09:44:37.736Z"
   },
   {
    "duration": 842,
    "start_time": "2021-11-12T12:15:30.716Z"
   },
   {
    "duration": 38,
    "start_time": "2021-11-12T12:15:31.561Z"
   },
   {
    "duration": 64,
    "start_time": "2021-11-12T12:15:31.602Z"
   },
   {
    "duration": 11,
    "start_time": "2021-11-12T12:15:31.669Z"
   },
   {
    "duration": 34,
    "start_time": "2021-11-12T12:47:01.964Z"
   },
   {
    "duration": 151,
    "start_time": "2021-11-12T13:19:42.951Z"
   },
   {
    "duration": 33,
    "start_time": "2021-11-12T13:19:51.428Z"
   },
   {
    "duration": 857,
    "start_time": "2021-11-12T13:22:10.648Z"
   },
   {
    "duration": 37,
    "start_time": "2021-11-12T13:22:11.509Z"
   },
   {
    "duration": 47,
    "start_time": "2021-11-12T13:22:11.560Z"
   },
   {
    "duration": 12,
    "start_time": "2021-11-12T13:22:11.610Z"
   },
   {
    "duration": 472,
    "start_time": "2021-11-12T13:51:38.122Z"
   },
   {
    "duration": 27,
    "start_time": "2021-11-12T13:51:49.277Z"
   },
   {
    "duration": 62,
    "start_time": "2021-11-12T14:23:29.629Z"
   },
   {
    "duration": 69,
    "start_time": "2021-11-12T14:50:23.563Z"
   },
   {
    "duration": 41,
    "start_time": "2021-11-12T14:50:42.157Z"
   },
   {
    "duration": 68,
    "start_time": "2021-11-12T14:50:43.235Z"
   },
   {
    "duration": 917,
    "start_time": "2021-11-12T14:50:56.635Z"
   },
   {
    "duration": 47,
    "start_time": "2021-11-12T14:50:57.554Z"
   },
   {
    "duration": 81,
    "start_time": "2021-11-12T14:50:57.604Z"
   },
   {
    "duration": 3,
    "start_time": "2021-11-12T14:50:57.688Z"
   },
   {
    "duration": 39,
    "start_time": "2021-11-12T14:50:57.693Z"
   },
   {
    "duration": 32,
    "start_time": "2021-11-12T14:50:57.735Z"
   },
   {
    "duration": 4,
    "start_time": "2021-11-12T14:50:57.770Z"
   },
   {
    "duration": 26,
    "start_time": "2021-11-12T14:50:57.779Z"
   },
   {
    "duration": 548,
    "start_time": "2021-11-12T15:11:08.926Z"
   },
   {
    "duration": 76,
    "start_time": "2021-11-12T15:11:23.254Z"
   },
   {
    "duration": 127,
    "start_time": "2021-11-12T15:11:53.418Z"
   },
   {
    "duration": 78,
    "start_time": "2021-11-12T15:12:00.614Z"
   },
   {
    "duration": 871,
    "start_time": "2021-11-12T15:12:44.529Z"
   },
   {
    "duration": 42,
    "start_time": "2021-11-12T15:12:45.403Z"
   },
   {
    "duration": 66,
    "start_time": "2021-11-12T15:12:45.447Z"
   },
   {
    "duration": 13,
    "start_time": "2021-11-12T15:12:45.516Z"
   },
   {
    "duration": 47,
    "start_time": "2021-11-12T15:12:45.531Z"
   },
   {
    "duration": 28,
    "start_time": "2021-11-12T15:12:45.580Z"
   },
   {
    "duration": 16,
    "start_time": "2021-11-12T15:12:45.611Z"
   },
   {
    "duration": 25,
    "start_time": "2021-11-12T15:12:45.630Z"
   },
   {
    "duration": 20,
    "start_time": "2021-11-12T15:22:11.192Z"
   },
   {
    "duration": 18,
    "start_time": "2021-11-12T15:22:29.408Z"
   },
   {
    "duration": 264,
    "start_time": "2021-11-13T06:03:44.939Z"
   },
   {
    "duration": 649,
    "start_time": "2021-11-13T06:03:58.287Z"
   },
   {
    "duration": 27,
    "start_time": "2021-11-13T06:03:58.938Z"
   },
   {
    "duration": 48,
    "start_time": "2021-11-13T06:03:58.967Z"
   },
   {
    "duration": 11,
    "start_time": "2021-11-13T06:03:59.017Z"
   },
   {
    "duration": 16,
    "start_time": "2021-11-13T06:03:59.030Z"
   },
   {
    "duration": 7,
    "start_time": "2021-11-13T06:03:59.048Z"
   },
   {
    "duration": 3,
    "start_time": "2021-11-13T06:03:59.057Z"
   },
   {
    "duration": 18,
    "start_time": "2021-11-13T06:03:59.093Z"
   },
   {
    "duration": 4,
    "start_time": "2021-11-13T06:03:59.112Z"
   },
   {
    "duration": 15,
    "start_time": "2021-11-13T06:04:36.204Z"
   },
   {
    "duration": 27,
    "start_time": "2021-11-13T06:06:09.549Z"
   },
   {
    "duration": 618,
    "start_time": "2021-11-13T06:06:22.278Z"
   },
   {
    "duration": 40,
    "start_time": "2021-11-13T06:06:22.898Z"
   },
   {
    "duration": 69,
    "start_time": "2021-11-13T06:06:22.941Z"
   },
   {
    "duration": 13,
    "start_time": "2021-11-13T06:06:23.012Z"
   },
   {
    "duration": 22,
    "start_time": "2021-11-13T06:06:23.027Z"
   },
   {
    "duration": 11,
    "start_time": "2021-11-13T06:06:23.051Z"
   },
   {
    "duration": 3,
    "start_time": "2021-11-13T06:06:23.091Z"
   },
   {
    "duration": 21,
    "start_time": "2021-11-13T06:06:23.096Z"
   },
   {
    "duration": 4,
    "start_time": "2021-11-13T06:06:23.118Z"
   },
   {
    "duration": 16,
    "start_time": "2021-11-13T06:07:26.335Z"
   },
   {
    "duration": 606,
    "start_time": "2021-11-13T06:08:24.897Z"
   },
   {
    "duration": 19,
    "start_time": "2021-11-13T06:08:25.505Z"
   },
   {
    "duration": 42,
    "start_time": "2021-11-13T06:08:25.526Z"
   },
   {
    "duration": 33,
    "start_time": "2021-11-13T06:08:25.570Z"
   },
   {
    "duration": 19,
    "start_time": "2021-11-13T06:08:25.605Z"
   },
   {
    "duration": 10,
    "start_time": "2021-11-13T06:08:25.626Z"
   },
   {
    "duration": 3,
    "start_time": "2021-11-13T06:08:25.637Z"
   },
   {
    "duration": 49,
    "start_time": "2021-11-13T06:08:25.643Z"
   },
   {
    "duration": 4,
    "start_time": "2021-11-13T06:08:25.694Z"
   },
   {
    "duration": 248,
    "start_time": "2021-11-13T06:14:07.246Z"
   },
   {
    "duration": 33,
    "start_time": "2021-11-13T06:14:55.011Z"
   },
   {
    "duration": 30,
    "start_time": "2021-11-13T06:26:58.603Z"
   },
   {
    "duration": 33,
    "start_time": "2021-11-13T06:27:21.245Z"
   },
   {
    "duration": 36,
    "start_time": "2021-11-13T06:27:46.847Z"
   },
   {
    "duration": 56,
    "start_time": "2021-11-13T06:52:51.426Z"
   },
   {
    "duration": 67,
    "start_time": "2021-11-13T07:12:00.823Z"
   },
   {
    "duration": 67,
    "start_time": "2021-11-13T08:02:32.411Z"
   },
   {
    "duration": 57,
    "start_time": "2021-11-13T09:09:23.176Z"
   },
   {
    "duration": 10,
    "start_time": "2021-11-13T09:09:31.912Z"
   },
   {
    "duration": 57,
    "start_time": "2021-11-13T09:16:40.120Z"
   },
   {
    "duration": 10,
    "start_time": "2021-11-13T09:17:04.605Z"
   },
   {
    "duration": 11,
    "start_time": "2021-11-13T09:27:24.834Z"
   },
   {
    "duration": 20,
    "start_time": "2021-11-13T09:38:41.317Z"
   },
   {
    "duration": 60,
    "start_time": "2021-11-13T09:40:11.915Z"
   },
   {
    "duration": 63,
    "start_time": "2021-11-13T09:40:26.280Z"
   },
   {
    "duration": 60,
    "start_time": "2021-11-13T09:40:38.618Z"
   },
   {
    "duration": 63,
    "start_time": "2021-11-13T09:40:47.288Z"
   },
   {
    "duration": 58,
    "start_time": "2021-11-13T09:41:21.027Z"
   },
   {
    "duration": 21,
    "start_time": "2021-11-13T09:41:34.898Z"
   },
   {
    "duration": 21,
    "start_time": "2021-11-13T09:42:14.741Z"
   },
   {
    "duration": 22,
    "start_time": "2021-11-13T09:42:59.654Z"
   },
   {
    "duration": 22,
    "start_time": "2021-11-13T09:44:10.064Z"
   },
   {
    "duration": 21,
    "start_time": "2021-11-13T09:44:15.807Z"
   },
   {
    "duration": 11,
    "start_time": "2021-11-13T09:49:53.755Z"
   },
   {
    "duration": 23,
    "start_time": "2021-11-13T10:04:58.905Z"
   },
   {
    "duration": 25,
    "start_time": "2021-11-13T10:05:22.833Z"
   },
   {
    "duration": 632,
    "start_time": "2021-11-13T10:05:37.071Z"
   },
   {
    "duration": 26,
    "start_time": "2021-11-13T10:05:37.705Z"
   },
   {
    "duration": 23,
    "start_time": "2021-11-13T10:05:37.739Z"
   },
   {
    "duration": 65,
    "start_time": "2021-11-13T10:05:37.764Z"
   },
   {
    "duration": 12,
    "start_time": "2021-11-13T10:05:37.831Z"
   },
   {
    "duration": 22,
    "start_time": "2021-11-13T10:05:37.844Z"
   },
   {
    "duration": 22,
    "start_time": "2021-11-13T10:05:37.868Z"
   },
   {
    "duration": 7,
    "start_time": "2021-11-13T10:05:37.891Z"
   },
   {
    "duration": 41,
    "start_time": "2021-11-13T10:05:37.899Z"
   },
   {
    "duration": 4,
    "start_time": "2021-11-13T10:05:37.942Z"
   },
   {
    "duration": 59,
    "start_time": "2021-11-13T10:15:42.824Z"
   },
   {
    "duration": 22,
    "start_time": "2021-11-13T10:15:55.348Z"
   },
   {
    "duration": 24,
    "start_time": "2021-11-13T10:16:11.404Z"
   },
   {
    "duration": 38,
    "start_time": "2021-11-13T10:16:31.818Z"
   },
   {
    "duration": 25,
    "start_time": "2021-11-13T10:17:41.371Z"
   },
   {
    "duration": 39,
    "start_time": "2021-11-13T10:17:43.148Z"
   },
   {
    "duration": 14,
    "start_time": "2021-11-13T10:17:55.109Z"
   },
   {
    "duration": 16,
    "start_time": "2021-11-13T10:17:56.932Z"
   },
   {
    "duration": 10,
    "start_time": "2021-11-13T10:18:02.975Z"
   },
   {
    "duration": 2,
    "start_time": "2021-11-13T10:18:05.743Z"
   },
   {
    "duration": 803,
    "start_time": "2021-11-13T10:25:13.811Z"
   },
   {
    "duration": 13,
    "start_time": "2021-11-13T10:25:31.961Z"
   },
   {
    "duration": 624,
    "start_time": "2021-11-13T10:35:45.074Z"
   },
   {
    "duration": 20,
    "start_time": "2021-11-13T10:35:45.700Z"
   },
   {
    "duration": 24,
    "start_time": "2021-11-13T10:35:45.722Z"
   },
   {
    "duration": 58,
    "start_time": "2021-11-13T10:35:45.748Z"
   },
   {
    "duration": 10,
    "start_time": "2021-11-13T10:35:45.808Z"
   },
   {
    "duration": 32,
    "start_time": "2021-11-13T10:35:45.820Z"
   },
   {
    "duration": 34,
    "start_time": "2021-11-13T10:35:45.854Z"
   },
   {
    "duration": 17,
    "start_time": "2021-11-13T10:35:45.890Z"
   },
   {
    "duration": 48,
    "start_time": "2021-11-13T10:35:45.908Z"
   },
   {
    "duration": 4,
    "start_time": "2021-11-13T10:35:45.958Z"
   },
   {
    "duration": 25,
    "start_time": "2021-11-13T10:55:26.231Z"
   },
   {
    "duration": 23,
    "start_time": "2021-11-13T10:58:07.460Z"
   },
   {
    "duration": 24,
    "start_time": "2021-11-13T10:58:11.988Z"
   },
   {
    "duration": 15,
    "start_time": "2021-11-13T11:29:08.028Z"
   },
   {
    "duration": 12,
    "start_time": "2021-11-13T11:30:29.828Z"
   },
   {
    "duration": 232,
    "start_time": "2021-11-13T11:30:43.772Z"
   },
   {
    "duration": 21,
    "start_time": "2021-11-13T11:30:49.820Z"
   },
   {
    "duration": 12,
    "start_time": "2021-11-13T11:32:05.953Z"
   },
   {
    "duration": 16,
    "start_time": "2021-11-13T11:49:04.992Z"
   },
   {
    "duration": 17,
    "start_time": "2021-11-13T11:49:50.840Z"
   },
   {
    "duration": 18,
    "start_time": "2021-11-13T11:50:12.479Z"
   },
   {
    "duration": 25,
    "start_time": "2021-11-13T11:58:28.559Z"
   },
   {
    "duration": 62,
    "start_time": "2021-11-13T12:07:28.496Z"
   },
   {
    "duration": 13,
    "start_time": "2021-11-13T12:07:52.691Z"
   },
   {
    "duration": 65,
    "start_time": "2021-11-13T12:08:10.707Z"
   },
   {
    "duration": 59,
    "start_time": "2021-11-13T12:08:35.828Z"
   },
   {
    "duration": 9,
    "start_time": "2021-11-13T12:08:40.162Z"
   },
   {
    "duration": 14,
    "start_time": "2021-11-13T12:08:56.621Z"
   },
   {
    "duration": 181,
    "start_time": "2021-11-13T12:24:15.698Z"
   },
   {
    "duration": 177,
    "start_time": "2021-11-13T12:24:56.442Z"
   },
   {
    "duration": 180,
    "start_time": "2021-11-13T12:26:00.618Z"
   },
   {
    "duration": 167,
    "start_time": "2021-11-13T12:26:32.825Z"
   },
   {
    "duration": 179,
    "start_time": "2021-11-13T12:26:53.661Z"
   },
   {
    "duration": 2,
    "start_time": "2021-11-13T12:27:07.431Z"
   },
   {
    "duration": 6,
    "start_time": "2021-11-13T13:08:23.470Z"
   },
   {
    "duration": 8,
    "start_time": "2021-11-13T13:08:47.625Z"
   },
   {
    "duration": 178,
    "start_time": "2021-11-13T13:12:13.927Z"
   },
   {
    "duration": 6,
    "start_time": "2021-11-13T13:12:26.812Z"
   },
   {
    "duration": 7,
    "start_time": "2021-11-13T13:13:32.139Z"
   },
   {
    "duration": 22,
    "start_time": "2021-11-13T15:12:34.254Z"
   },
   {
    "duration": 614,
    "start_time": "2021-11-13T15:12:45.141Z"
   },
   {
    "duration": 22,
    "start_time": "2021-11-13T15:12:45.756Z"
   },
   {
    "duration": 33,
    "start_time": "2021-11-13T15:12:45.780Z"
   },
   {
    "duration": 37,
    "start_time": "2021-11-13T15:12:45.816Z"
   },
   {
    "duration": 11,
    "start_time": "2021-11-13T15:12:45.855Z"
   },
   {
    "duration": 45,
    "start_time": "2021-11-13T15:12:45.867Z"
   },
   {
    "duration": 10,
    "start_time": "2021-11-13T15:12:45.914Z"
   },
   {
    "duration": 7,
    "start_time": "2021-11-13T15:12:45.927Z"
   },
   {
    "duration": 9,
    "start_time": "2021-11-13T15:12:45.935Z"
   },
   {
    "duration": 3,
    "start_time": "2021-11-13T15:12:45.945Z"
   },
   {
    "duration": 60,
    "start_time": "2021-11-13T15:12:45.949Z"
   },
   {
    "duration": 4,
    "start_time": "2021-11-13T15:12:46.010Z"
   },
   {
    "duration": 23,
    "start_time": "2021-11-13T15:13:02.953Z"
   },
   {
    "duration": 24,
    "start_time": "2021-11-13T15:13:07.768Z"
   },
   {
    "duration": 14,
    "start_time": "2021-11-13T15:53:51.434Z"
   },
   {
    "duration": 14,
    "start_time": "2021-11-13T16:03:55.221Z"
   },
   {
    "duration": 14,
    "start_time": "2021-11-13T16:05:17.518Z"
   },
   {
    "duration": 799,
    "start_time": "2021-11-14T06:03:17.299Z"
   },
   {
    "duration": 862,
    "start_time": "2021-11-14T06:03:28.426Z"
   },
   {
    "duration": 34,
    "start_time": "2021-11-14T06:03:29.292Z"
   },
   {
    "duration": 59,
    "start_time": "2021-11-14T06:03:29.329Z"
   },
   {
    "duration": 80,
    "start_time": "2021-11-14T06:03:29.391Z"
   },
   {
    "duration": 19,
    "start_time": "2021-11-14T06:03:29.473Z"
   },
   {
    "duration": 29,
    "start_time": "2021-11-14T06:03:29.495Z"
   },
   {
    "duration": 43,
    "start_time": "2021-11-14T06:03:29.527Z"
   },
   {
    "duration": 20,
    "start_time": "2021-11-14T06:03:29.574Z"
   },
   {
    "duration": 10,
    "start_time": "2021-11-14T06:03:29.597Z"
   },
   {
    "duration": 3,
    "start_time": "2021-11-14T06:03:29.610Z"
   },
   {
    "duration": 76,
    "start_time": "2021-11-14T06:03:29.616Z"
   },
   {
    "duration": 8,
    "start_time": "2021-11-14T06:03:29.694Z"
   },
   {
    "duration": 6,
    "start_time": "2021-11-14T06:05:42.658Z"
   },
   {
    "duration": 10,
    "start_time": "2021-11-14T06:06:26.873Z"
   },
   {
    "duration": 788,
    "start_time": "2021-11-14T06:09:05.418Z"
   },
   {
    "duration": 34,
    "start_time": "2021-11-14T06:09:06.209Z"
   },
   {
    "duration": 52,
    "start_time": "2021-11-14T06:09:06.247Z"
   },
   {
    "duration": 81,
    "start_time": "2021-11-14T06:09:06.303Z"
   },
   {
    "duration": 18,
    "start_time": "2021-11-14T06:09:06.386Z"
   },
   {
    "duration": 32,
    "start_time": "2021-11-14T06:09:06.407Z"
   },
   {
    "duration": 38,
    "start_time": "2021-11-14T06:09:06.441Z"
   },
   {
    "duration": 24,
    "start_time": "2021-11-14T06:09:06.483Z"
   },
   {
    "duration": 19,
    "start_time": "2021-11-14T06:09:06.510Z"
   },
   {
    "duration": 6,
    "start_time": "2021-11-14T06:09:06.532Z"
   },
   {
    "duration": 61,
    "start_time": "2021-11-14T06:09:06.541Z"
   },
   {
    "duration": 8,
    "start_time": "2021-11-14T06:09:06.604Z"
   },
   {
    "duration": 81,
    "start_time": "2021-11-14T06:11:22.791Z"
   },
   {
    "duration": 34,
    "start_time": "2021-11-14T06:11:24.868Z"
   },
   {
    "duration": 37,
    "start_time": "2021-11-14T06:11:35.513Z"
   },
   {
    "duration": 60,
    "start_time": "2021-11-14T06:11:39.768Z"
   },
   {
    "duration": 20,
    "start_time": "2021-11-14T06:11:43.494Z"
   },
   {
    "duration": 25,
    "start_time": "2021-11-14T06:11:44.114Z"
   },
   {
    "duration": 18,
    "start_time": "2021-11-14T06:11:45.116Z"
   },
   {
    "duration": 34,
    "start_time": "2021-11-14T06:11:52.378Z"
   },
   {
    "duration": 826,
    "start_time": "2021-11-14T06:12:10.793Z"
   },
   {
    "duration": 34,
    "start_time": "2021-11-14T06:12:11.622Z"
   },
   {
    "duration": 37,
    "start_time": "2021-11-14T06:12:11.667Z"
   },
   {
    "duration": 86,
    "start_time": "2021-11-14T06:12:11.707Z"
   },
   {
    "duration": 19,
    "start_time": "2021-11-14T06:12:11.796Z"
   },
   {
    "duration": 52,
    "start_time": "2021-11-14T06:12:11.817Z"
   },
   {
    "duration": 18,
    "start_time": "2021-11-14T06:12:11.872Z"
   },
   {
    "duration": 16,
    "start_time": "2021-11-14T06:12:11.893Z"
   },
   {
    "duration": 9,
    "start_time": "2021-11-14T06:12:11.911Z"
   },
   {
    "duration": 45,
    "start_time": "2021-11-14T06:12:11.922Z"
   },
   {
    "duration": 39,
    "start_time": "2021-11-14T06:12:11.969Z"
   },
   {
    "duration": 8,
    "start_time": "2021-11-14T06:12:12.010Z"
   },
   {
    "duration": 16,
    "start_time": "2021-11-14T06:14:07.073Z"
   },
   {
    "duration": 14,
    "start_time": "2021-11-14T06:14:21.173Z"
   },
   {
    "duration": 814,
    "start_time": "2021-11-14T06:14:26.090Z"
   },
   {
    "duration": 34,
    "start_time": "2021-11-14T06:14:26.906Z"
   },
   {
    "duration": 39,
    "start_time": "2021-11-14T06:14:26.966Z"
   },
   {
    "duration": 83,
    "start_time": "2021-11-14T06:14:27.007Z"
   },
   {
    "duration": 19,
    "start_time": "2021-11-14T06:14:27.092Z"
   },
   {
    "duration": 25,
    "start_time": "2021-11-14T06:14:27.113Z"
   },
   {
    "duration": 45,
    "start_time": "2021-11-14T06:14:27.141Z"
   },
   {
    "duration": 15,
    "start_time": "2021-11-14T06:14:27.188Z"
   },
   {
    "duration": 9,
    "start_time": "2021-11-14T06:14:27.206Z"
   },
   {
    "duration": 3,
    "start_time": "2021-11-14T06:14:27.218Z"
   },
   {
    "duration": 38,
    "start_time": "2021-11-14T06:14:27.268Z"
   },
   {
    "duration": 8,
    "start_time": "2021-11-14T06:14:27.308Z"
   },
   {
    "duration": 18,
    "start_time": "2021-11-14T06:17:30.512Z"
   },
   {
    "duration": 33,
    "start_time": "2021-11-14T06:22:26.235Z"
   },
   {
    "duration": 383,
    "start_time": "2021-11-14T06:27:25.202Z"
   },
   {
    "duration": 34,
    "start_time": "2021-11-14T06:28:24.606Z"
   },
   {
    "duration": 362,
    "start_time": "2021-11-14T06:30:55.709Z"
   },
   {
    "duration": 334,
    "start_time": "2021-11-14T06:31:08.576Z"
   },
   {
    "duration": 9,
    "start_time": "2021-11-14T06:31:14.936Z"
   },
   {
    "duration": 285,
    "start_time": "2021-11-14T06:35:32.429Z"
   },
   {
    "duration": 20,
    "start_time": "2021-11-14T06:35:53.034Z"
   },
   {
    "duration": 17,
    "start_time": "2021-11-14T06:56:52.888Z"
   },
   {
    "duration": 282,
    "start_time": "2021-11-14T06:57:02.346Z"
   },
   {
    "duration": 319,
    "start_time": "2021-11-14T06:57:28.816Z"
   },
   {
    "duration": 29,
    "start_time": "2021-11-14T06:57:52.221Z"
   },
   {
    "duration": 16,
    "start_time": "2021-11-14T07:11:26.736Z"
   },
   {
    "duration": 10,
    "start_time": "2021-11-14T07:14:07.769Z"
   },
   {
    "duration": 9,
    "start_time": "2021-11-14T07:14:17.452Z"
   },
   {
    "duration": 25,
    "start_time": "2021-11-14T07:18:55.388Z"
   },
   {
    "duration": 33,
    "start_time": "2021-11-14T07:19:23.114Z"
   },
   {
    "duration": 30,
    "start_time": "2021-11-14T07:20:46.707Z"
   },
   {
    "duration": 47,
    "start_time": "2021-11-14T07:21:20.744Z"
   },
   {
    "duration": 360,
    "start_time": "2021-11-14T07:21:59.373Z"
   },
   {
    "duration": 47,
    "start_time": "2021-11-14T07:22:35.372Z"
   },
   {
    "duration": 47,
    "start_time": "2021-11-14T07:23:43.923Z"
   },
   {
    "duration": 40,
    "start_time": "2021-11-14T07:27:56.654Z"
   },
   {
    "duration": 826,
    "start_time": "2021-11-14T07:31:46.575Z"
   },
   {
    "duration": 35,
    "start_time": "2021-11-14T07:31:47.403Z"
   },
   {
    "duration": 54,
    "start_time": "2021-11-14T07:31:47.440Z"
   },
   {
    "duration": 81,
    "start_time": "2021-11-14T07:31:47.496Z"
   },
   {
    "duration": 18,
    "start_time": "2021-11-14T07:31:47.580Z"
   },
   {
    "duration": 25,
    "start_time": "2021-11-14T07:31:47.600Z"
   },
   {
    "duration": 42,
    "start_time": "2021-11-14T07:31:47.627Z"
   },
   {
    "duration": 17,
    "start_time": "2021-11-14T07:31:47.673Z"
   },
   {
    "duration": 8,
    "start_time": "2021-11-14T07:31:47.693Z"
   },
   {
    "duration": 26,
    "start_time": "2021-11-14T07:31:47.703Z"
   },
   {
    "duration": 3,
    "start_time": "2021-11-14T07:31:47.768Z"
   },
   {
    "duration": 43,
    "start_time": "2021-11-14T07:31:47.773Z"
   },
   {
    "duration": 7,
    "start_time": "2021-11-14T07:31:47.818Z"
   },
   {
    "duration": 20,
    "start_time": "2021-11-14T07:32:30.859Z"
   },
   {
    "duration": 27,
    "start_time": "2021-11-14T07:35:42.567Z"
   },
   {
    "duration": 20,
    "start_time": "2021-11-14T07:36:14.219Z"
   },
   {
    "duration": 824,
    "start_time": "2021-11-14T08:01:23.324Z"
   },
   {
    "duration": 38,
    "start_time": "2021-11-14T08:01:24.150Z"
   },
   {
    "duration": 37,
    "start_time": "2021-11-14T08:01:24.191Z"
   },
   {
    "duration": 44,
    "start_time": "2021-11-14T08:01:24.231Z"
   },
   {
    "duration": 20,
    "start_time": "2021-11-14T08:01:24.278Z"
   },
   {
    "duration": 24,
    "start_time": "2021-11-14T08:01:24.301Z"
   },
   {
    "duration": 52,
    "start_time": "2021-11-14T08:01:24.328Z"
   },
   {
    "duration": 20,
    "start_time": "2021-11-14T08:01:24.383Z"
   },
   {
    "duration": 9,
    "start_time": "2021-11-14T08:01:24.406Z"
   },
   {
    "duration": 52,
    "start_time": "2021-11-14T08:01:24.417Z"
   },
   {
    "duration": 5,
    "start_time": "2021-11-14T08:01:24.471Z"
   },
   {
    "duration": 42,
    "start_time": "2021-11-14T08:01:24.478Z"
   },
   {
    "duration": 8,
    "start_time": "2021-11-14T08:01:24.522Z"
   },
   {
    "duration": 30,
    "start_time": "2021-11-14T08:16:06.812Z"
   },
   {
    "duration": 33,
    "start_time": "2021-11-14T08:17:09.928Z"
   },
   {
    "duration": 35,
    "start_time": "2021-11-14T08:20:11.281Z"
   },
   {
    "duration": 36,
    "start_time": "2021-11-14T08:24:15.796Z"
   },
   {
    "duration": 35,
    "start_time": "2021-11-14T08:26:02.908Z"
   },
   {
    "duration": 20,
    "start_time": "2021-11-14T08:32:18.373Z"
   },
   {
    "duration": 17,
    "start_time": "2021-11-14T08:32:47.951Z"
   },
   {
    "duration": 21,
    "start_time": "2021-11-14T08:33:47.489Z"
   },
   {
    "duration": 14,
    "start_time": "2021-11-14T08:34:23.919Z"
   },
   {
    "duration": 22,
    "start_time": "2021-11-14T08:44:23.749Z"
   },
   {
    "duration": 17,
    "start_time": "2021-11-14T08:45:40.961Z"
   },
   {
    "duration": 33,
    "start_time": "2021-11-14T08:45:56.056Z"
   },
   {
    "duration": 801,
    "start_time": "2021-11-14T08:46:25.396Z"
   },
   {
    "duration": 32,
    "start_time": "2021-11-14T08:46:26.200Z"
   },
   {
    "duration": 55,
    "start_time": "2021-11-14T08:46:26.237Z"
   },
   {
    "duration": 18,
    "start_time": "2021-11-14T08:46:26.295Z"
   },
   {
    "duration": 20,
    "start_time": "2021-11-14T08:46:26.316Z"
   },
   {
    "duration": 49,
    "start_time": "2021-11-14T08:46:26.338Z"
   },
   {
    "duration": 19,
    "start_time": "2021-11-14T08:46:26.390Z"
   },
   {
    "duration": 60,
    "start_time": "2021-11-14T08:46:26.412Z"
   },
   {
    "duration": 8,
    "start_time": "2021-11-14T08:46:26.475Z"
   },
   {
    "duration": 20,
    "start_time": "2021-11-14T08:46:26.485Z"
   },
   {
    "duration": 7,
    "start_time": "2021-11-14T08:46:26.507Z"
   },
   {
    "duration": 69,
    "start_time": "2021-11-14T08:46:26.516Z"
   },
   {
    "duration": 7,
    "start_time": "2021-11-14T08:46:26.587Z"
   },
   {
    "duration": 17,
    "start_time": "2021-11-14T08:47:16.805Z"
   },
   {
    "duration": 17,
    "start_time": "2021-11-14T08:48:34.436Z"
   },
   {
    "duration": 23,
    "start_time": "2021-11-14T08:54:16.192Z"
   },
   {
    "duration": 24,
    "start_time": "2021-11-14T08:54:29.706Z"
   },
   {
    "duration": 30,
    "start_time": "2021-11-14T08:54:45.340Z"
   },
   {
    "duration": 29,
    "start_time": "2021-11-14T09:02:23.247Z"
   },
   {
    "duration": 896,
    "start_time": "2021-11-14T09:02:34.253Z"
   },
   {
    "duration": 52,
    "start_time": "2021-11-14T09:02:35.153Z"
   },
   {
    "duration": 37,
    "start_time": "2021-11-14T09:02:35.208Z"
   },
   {
    "duration": 17,
    "start_time": "2021-11-14T09:02:35.268Z"
   },
   {
    "duration": 31,
    "start_time": "2021-11-14T09:02:35.287Z"
   },
   {
    "duration": 50,
    "start_time": "2021-11-14T09:02:35.321Z"
   },
   {
    "duration": 18,
    "start_time": "2021-11-14T09:02:35.374Z"
   },
   {
    "duration": 33,
    "start_time": "2021-11-14T09:02:35.395Z"
   },
   {
    "duration": 42,
    "start_time": "2021-11-14T09:02:35.431Z"
   },
   {
    "duration": 30,
    "start_time": "2021-11-14T09:02:35.476Z"
   },
   {
    "duration": 7,
    "start_time": "2021-11-14T09:02:35.508Z"
   },
   {
    "duration": 68,
    "start_time": "2021-11-14T09:02:35.517Z"
   },
   {
    "duration": 8,
    "start_time": "2021-11-14T09:02:35.587Z"
   },
   {
    "duration": 824,
    "start_time": "2021-11-14T09:03:11.400Z"
   },
   {
    "duration": 45,
    "start_time": "2021-11-14T09:03:12.228Z"
   },
   {
    "duration": 40,
    "start_time": "2021-11-14T09:03:12.276Z"
   },
   {
    "duration": 17,
    "start_time": "2021-11-14T09:03:12.319Z"
   },
   {
    "duration": 52,
    "start_time": "2021-11-14T09:03:12.339Z"
   },
   {
    "duration": 25,
    "start_time": "2021-11-14T09:03:12.394Z"
   },
   {
    "duration": 45,
    "start_time": "2021-11-14T09:03:12.422Z"
   },
   {
    "duration": 27,
    "start_time": "2021-11-14T09:03:12.471Z"
   },
   {
    "duration": 9,
    "start_time": "2021-11-14T09:03:12.501Z"
   },
   {
    "duration": 56,
    "start_time": "2021-11-14T09:03:12.513Z"
   },
   {
    "duration": 4,
    "start_time": "2021-11-14T09:03:12.571Z"
   },
   {
    "duration": 8,
    "start_time": "2021-11-14T09:03:12.578Z"
   },
   {
    "duration": 13,
    "start_time": "2021-11-14T09:03:12.588Z"
   },
   {
    "duration": 623,
    "start_time": "2021-11-14T09:19:51.674Z"
   },
   {
    "duration": 32,
    "start_time": "2021-11-14T09:20:10.341Z"
   },
   {
    "duration": 31,
    "start_time": "2021-11-14T09:20:43.183Z"
   },
   {
    "duration": 29,
    "start_time": "2021-11-14T09:23:11.586Z"
   },
   {
    "duration": 29,
    "start_time": "2021-11-14T09:23:42.892Z"
   },
   {
    "duration": 22,
    "start_time": "2021-11-14T09:26:35.814Z"
   },
   {
    "duration": 833,
    "start_time": "2021-11-14T09:27:09.821Z"
   },
   {
    "duration": 37,
    "start_time": "2021-11-14T09:27:10.657Z"
   },
   {
    "duration": 39,
    "start_time": "2021-11-14T09:27:10.698Z"
   },
   {
    "duration": 18,
    "start_time": "2021-11-14T09:27:10.769Z"
   },
   {
    "duration": 24,
    "start_time": "2021-11-14T09:27:10.790Z"
   },
   {
    "duration": 51,
    "start_time": "2021-11-14T09:27:10.818Z"
   },
   {
    "duration": 20,
    "start_time": "2021-11-14T09:27:10.872Z"
   },
   {
    "duration": 27,
    "start_time": "2021-11-14T09:27:10.896Z"
   },
   {
    "duration": 52,
    "start_time": "2021-11-14T09:27:10.926Z"
   },
   {
    "duration": 10,
    "start_time": "2021-11-14T09:27:10.981Z"
   },
   {
    "duration": 7,
    "start_time": "2021-11-14T09:27:10.993Z"
   },
   {
    "duration": 16,
    "start_time": "2021-11-14T09:27:11.002Z"
   },
   {
    "duration": 20,
    "start_time": "2021-11-14T09:29:41.491Z"
   },
   {
    "duration": 31,
    "start_time": "2021-11-14T09:33:07.133Z"
   },
   {
    "duration": 33,
    "start_time": "2021-11-14T11:00:19.588Z"
   },
   {
    "duration": 14,
    "start_time": "2021-11-14T11:02:27.536Z"
   },
   {
    "duration": 16,
    "start_time": "2021-11-14T11:03:45.792Z"
   },
   {
    "duration": 11,
    "start_time": "2021-11-14T11:04:36.676Z"
   },
   {
    "duration": 13,
    "start_time": "2021-11-14T11:05:02.863Z"
   },
   {
    "duration": 11,
    "start_time": "2021-11-14T11:09:47.502Z"
   },
   {
    "duration": 20,
    "start_time": "2021-11-14T11:11:16.609Z"
   },
   {
    "duration": 23,
    "start_time": "2021-11-14T11:11:33.662Z"
   },
   {
    "duration": 21,
    "start_time": "2021-11-14T11:11:41.933Z"
   },
   {
    "duration": 11,
    "start_time": "2021-11-14T11:11:44.759Z"
   },
   {
    "duration": 818,
    "start_time": "2021-11-14T11:12:06.995Z"
   },
   {
    "duration": 35,
    "start_time": "2021-11-14T11:12:07.815Z"
   },
   {
    "duration": 37,
    "start_time": "2021-11-14T11:12:07.867Z"
   },
   {
    "duration": 16,
    "start_time": "2021-11-14T11:12:07.907Z"
   },
   {
    "duration": 50,
    "start_time": "2021-11-14T11:12:07.925Z"
   },
   {
    "duration": 24,
    "start_time": "2021-11-14T11:12:07.978Z"
   },
   {
    "duration": 23,
    "start_time": "2021-11-14T11:12:08.004Z"
   },
   {
    "duration": 43,
    "start_time": "2021-11-14T11:12:08.030Z"
   },
   {
    "duration": 20,
    "start_time": "2021-11-14T11:12:08.076Z"
   },
   {
    "duration": 5,
    "start_time": "2021-11-14T11:12:08.099Z"
   },
   {
    "duration": 6,
    "start_time": "2021-11-14T11:12:08.106Z"
   },
   {
    "duration": 11,
    "start_time": "2021-11-14T11:12:08.114Z"
   },
   {
    "duration": 27,
    "start_time": "2021-11-14T11:14:55.610Z"
   },
   {
    "duration": 28,
    "start_time": "2021-11-14T11:15:10.060Z"
   },
   {
    "duration": 28,
    "start_time": "2021-11-14T11:51:00.425Z"
   },
   {
    "duration": 839,
    "start_time": "2021-11-14T11:52:34.157Z"
   },
   {
    "duration": 34,
    "start_time": "2021-11-14T11:52:34.998Z"
   },
   {
    "duration": 54,
    "start_time": "2021-11-14T11:52:35.036Z"
   },
   {
    "duration": 15,
    "start_time": "2021-11-14T11:52:35.093Z"
   },
   {
    "duration": 22,
    "start_time": "2021-11-14T11:52:35.111Z"
   },
   {
    "duration": 53,
    "start_time": "2021-11-14T11:52:35.135Z"
   },
   {
    "duration": 36,
    "start_time": "2021-11-14T11:52:35.191Z"
   },
   {
    "duration": 50,
    "start_time": "2021-11-14T11:52:35.230Z"
   },
   {
    "duration": 3,
    "start_time": "2021-11-14T11:52:35.282Z"
   },
   {
    "duration": 25,
    "start_time": "2021-11-14T11:52:35.287Z"
   },
   {
    "duration": 8,
    "start_time": "2021-11-14T11:52:35.315Z"
   },
   {
    "duration": 15,
    "start_time": "2021-11-14T11:52:35.325Z"
   },
   {
    "duration": 18,
    "start_time": "2021-11-14T11:53:12.948Z"
   },
   {
    "duration": 25,
    "start_time": "2021-11-14T11:53:14.837Z"
   },
   {
    "duration": 30,
    "start_time": "2021-11-14T11:55:43.676Z"
   },
   {
    "duration": 113,
    "start_time": "2021-11-14T11:57:45.840Z"
   },
   {
    "duration": 96,
    "start_time": "2021-11-14T11:57:53.552Z"
   },
   {
    "duration": 29,
    "start_time": "2021-11-14T11:58:02.506Z"
   },
   {
    "duration": 50,
    "start_time": "2021-11-14T12:00:24.725Z"
   },
   {
    "duration": 844,
    "start_time": "2021-11-14T12:00:43.023Z"
   },
   {
    "duration": 35,
    "start_time": "2021-11-14T12:00:43.870Z"
   },
   {
    "duration": 59,
    "start_time": "2021-11-14T12:00:43.909Z"
   },
   {
    "duration": 17,
    "start_time": "2021-11-14T12:00:43.971Z"
   },
   {
    "duration": 22,
    "start_time": "2021-11-14T12:00:43.990Z"
   },
   {
    "duration": 52,
    "start_time": "2021-11-14T12:00:44.015Z"
   },
   {
    "duration": 23,
    "start_time": "2021-11-14T12:00:44.070Z"
   },
   {
    "duration": 83,
    "start_time": "2021-11-14T12:00:44.097Z"
   },
   {
    "duration": 4,
    "start_time": "2021-11-14T12:00:44.182Z"
   },
   {
    "duration": 7,
    "start_time": "2021-11-14T12:00:44.188Z"
   },
   {
    "duration": 7,
    "start_time": "2021-11-14T12:00:44.197Z"
   },
   {
    "duration": 12,
    "start_time": "2021-11-14T12:00:44.207Z"
   },
   {
    "duration": 851,
    "start_time": "2021-11-14T12:02:46.251Z"
   },
   {
    "duration": 36,
    "start_time": "2021-11-14T12:02:47.105Z"
   },
   {
    "duration": 54,
    "start_time": "2021-11-14T12:02:47.148Z"
   },
   {
    "duration": 17,
    "start_time": "2021-11-14T12:02:47.204Z"
   },
   {
    "duration": 44,
    "start_time": "2021-11-14T12:02:47.224Z"
   },
   {
    "duration": 24,
    "start_time": "2021-11-14T12:02:47.271Z"
   },
   {
    "duration": 23,
    "start_time": "2021-11-14T12:02:47.298Z"
   },
   {
    "duration": 84,
    "start_time": "2021-11-14T12:02:47.323Z"
   },
   {
    "duration": 3,
    "start_time": "2021-11-14T12:02:47.410Z"
   },
   {
    "duration": 9,
    "start_time": "2021-11-14T12:02:47.415Z"
   },
   {
    "duration": 5,
    "start_time": "2021-11-14T12:02:47.426Z"
   },
   {
    "duration": 33,
    "start_time": "2021-11-14T12:02:47.434Z"
   },
   {
    "duration": 82,
    "start_time": "2021-11-14T12:03:05.116Z"
   },
   {
    "duration": 34,
    "start_time": "2021-11-14T12:03:07.366Z"
   },
   {
    "duration": 35,
    "start_time": "2021-11-14T12:03:10.957Z"
   },
   {
    "duration": 15,
    "start_time": "2021-11-14T12:03:12.428Z"
   },
   {
    "duration": 18,
    "start_time": "2021-11-14T12:03:15.820Z"
   },
   {
    "duration": 26,
    "start_time": "2021-11-14T12:03:16.747Z"
   },
   {
    "duration": 21,
    "start_time": "2021-11-14T12:03:18.950Z"
   },
   {
    "duration": 55,
    "start_time": "2021-11-14T12:03:35.348Z"
   },
   {
    "duration": 47,
    "start_time": "2021-11-14T12:14:09.054Z"
   },
   {
    "duration": 10,
    "start_time": "2021-11-14T12:15:15.020Z"
   },
   {
    "duration": 28,
    "start_time": "2021-11-14T12:51:50.906Z"
   },
   {
    "duration": 25,
    "start_time": "2021-11-14T12:54:16.506Z"
   },
   {
    "duration": 3,
    "start_time": "2021-11-14T12:54:21.683Z"
   },
   {
    "duration": 3,
    "start_time": "2021-11-14T12:54:26.663Z"
   },
   {
    "duration": 831,
    "start_time": "2021-11-14T12:54:35.072Z"
   },
   {
    "duration": 34,
    "start_time": "2021-11-14T12:54:35.906Z"
   },
   {
    "duration": 50,
    "start_time": "2021-11-14T12:54:35.943Z"
   },
   {
    "duration": 16,
    "start_time": "2021-11-14T12:54:35.996Z"
   },
   {
    "duration": 26,
    "start_time": "2021-11-14T12:54:36.015Z"
   },
   {
    "duration": 45,
    "start_time": "2021-11-14T12:54:36.043Z"
   },
   {
    "duration": 28,
    "start_time": "2021-11-14T12:54:36.090Z"
   },
   {
    "duration": 52,
    "start_time": "2021-11-14T12:54:36.122Z"
   },
   {
    "duration": 3,
    "start_time": "2021-11-14T12:54:36.176Z"
   },
   {
    "duration": 10,
    "start_time": "2021-11-14T12:54:36.182Z"
   },
   {
    "duration": 7,
    "start_time": "2021-11-14T12:54:36.194Z"
   },
   {
    "duration": 11,
    "start_time": "2021-11-14T12:54:36.203Z"
   },
   {
    "duration": 77,
    "start_time": "2021-11-14T12:54:52.344Z"
   },
   {
    "duration": 35,
    "start_time": "2021-11-14T12:55:44.253Z"
   },
   {
    "duration": 37,
    "start_time": "2021-11-14T12:55:46.781Z"
   },
   {
    "duration": 17,
    "start_time": "2021-11-14T12:55:51.605Z"
   },
   {
    "duration": 18,
    "start_time": "2021-11-14T12:55:55.225Z"
   },
   {
    "duration": 24,
    "start_time": "2021-11-14T12:55:56.809Z"
   },
   {
    "duration": 22,
    "start_time": "2021-11-14T12:56:01.570Z"
   },
   {
    "duration": 26,
    "start_time": "2021-11-14T12:56:22.372Z"
   },
   {
    "duration": 27,
    "start_time": "2021-11-14T12:57:24.823Z"
   },
   {
    "duration": 37,
    "start_time": "2021-11-14T12:57:45.287Z"
   },
   {
    "duration": 3,
    "start_time": "2021-11-14T12:57:46.248Z"
   },
   {
    "duration": 871,
    "start_time": "2021-11-14T12:58:15.561Z"
   },
   {
    "duration": 43,
    "start_time": "2021-11-14T12:58:16.435Z"
   },
   {
    "duration": 40,
    "start_time": "2021-11-14T12:58:16.481Z"
   },
   {
    "duration": 17,
    "start_time": "2021-11-14T12:58:16.524Z"
   },
   {
    "duration": 20,
    "start_time": "2021-11-14T12:58:16.567Z"
   },
   {
    "duration": 24,
    "start_time": "2021-11-14T12:58:16.590Z"
   },
   {
    "duration": 53,
    "start_time": "2021-11-14T12:58:16.616Z"
   },
   {
    "duration": 28,
    "start_time": "2021-11-14T12:58:16.672Z"
   },
   {
    "duration": 2,
    "start_time": "2021-11-14T12:58:16.703Z"
   },
   {
    "duration": 10,
    "start_time": "2021-11-14T12:58:16.708Z"
   },
   {
    "duration": 9,
    "start_time": "2021-11-14T12:58:16.721Z"
   },
   {
    "duration": 34,
    "start_time": "2021-11-14T12:58:16.733Z"
   },
   {
    "duration": 54,
    "start_time": "2021-11-14T12:59:37.216Z"
   },
   {
    "duration": 3,
    "start_time": "2021-11-14T12:59:40.768Z"
   },
   {
    "duration": 29,
    "start_time": "2021-11-14T13:00:00.066Z"
   },
   {
    "duration": 57,
    "start_time": "2021-11-14T13:01:51.211Z"
   },
   {
    "duration": 33,
    "start_time": "2021-11-14T13:01:52.651Z"
   },
   {
    "duration": 78,
    "start_time": "2021-11-14T13:34:48.343Z"
   },
   {
    "duration": 9,
    "start_time": "2021-11-14T13:58:15.729Z"
   },
   {
    "duration": 12,
    "start_time": "2021-11-14T14:03:40.625Z"
   },
   {
    "duration": 8,
    "start_time": "2021-11-14T14:04:02.180Z"
   },
   {
    "duration": 5,
    "start_time": "2021-11-14T14:05:31.402Z"
   },
   {
    "duration": 5,
    "start_time": "2021-11-14T14:05:56.002Z"
   },
   {
    "duration": 5,
    "start_time": "2021-11-14T14:06:14.139Z"
   },
   {
    "duration": 5,
    "start_time": "2021-11-14T14:07:37.493Z"
   },
   {
    "duration": 11,
    "start_time": "2021-11-14T14:09:20.210Z"
   },
   {
    "duration": 10,
    "start_time": "2021-11-14T14:09:47.078Z"
   },
   {
    "duration": 10,
    "start_time": "2021-11-14T14:09:53.078Z"
   },
   {
    "duration": 15,
    "start_time": "2021-11-14T14:10:32.091Z"
   },
   {
    "duration": 12,
    "start_time": "2021-11-14T14:10:43.105Z"
   },
   {
    "duration": 12,
    "start_time": "2021-11-14T14:11:18.587Z"
   },
   {
    "duration": 90,
    "start_time": "2021-11-14T14:26:20.118Z"
   },
   {
    "duration": 18,
    "start_time": "2021-11-14T14:26:43.783Z"
   },
   {
    "duration": 12,
    "start_time": "2021-11-14T14:27:17.926Z"
   },
   {
    "duration": 12,
    "start_time": "2021-11-14T14:27:34.191Z"
   },
   {
    "duration": 11,
    "start_time": "2021-11-14T14:28:09.339Z"
   },
   {
    "duration": 1116,
    "start_time": "2021-11-14T14:28:21.519Z"
   },
   {
    "duration": 56,
    "start_time": "2021-11-14T14:28:22.639Z"
   },
   {
    "duration": 81,
    "start_time": "2021-11-14T14:28:22.704Z"
   },
   {
    "duration": 110,
    "start_time": "2021-11-14T14:28:22.788Z"
   },
   {
    "duration": 33,
    "start_time": "2021-11-14T14:28:22.901Z"
   },
   {
    "duration": 49,
    "start_time": "2021-11-14T14:28:22.936Z"
   },
   {
    "duration": 22,
    "start_time": "2021-11-14T14:28:22.989Z"
   },
   {
    "duration": 97,
    "start_time": "2021-11-14T14:28:23.013Z"
   },
   {
    "duration": 29,
    "start_time": "2021-11-14T14:28:23.112Z"
   },
   {
    "duration": 31,
    "start_time": "2021-11-14T14:28:23.144Z"
   },
   {
    "duration": 5,
    "start_time": "2021-11-14T14:28:23.177Z"
   },
   {
    "duration": 6,
    "start_time": "2021-11-14T14:28:23.184Z"
   },
   {
    "duration": 14,
    "start_time": "2021-11-14T14:28:23.193Z"
   },
   {
    "duration": 13,
    "start_time": "2021-11-14T14:28:41.479Z"
   },
   {
    "duration": 18,
    "start_time": "2021-11-14T15:30:31.744Z"
   },
   {
    "duration": 94,
    "start_time": "2021-11-14T15:30:46.522Z"
   },
   {
    "duration": 82,
    "start_time": "2021-11-14T15:30:54.234Z"
   },
   {
    "duration": 36,
    "start_time": "2021-11-14T15:31:07.985Z"
   },
   {
    "duration": 15,
    "start_time": "2021-11-14T15:31:16.431Z"
   },
   {
    "duration": 17,
    "start_time": "2021-11-14T15:32:02.534Z"
   },
   {
    "duration": 309,
    "start_time": "2021-11-15T05:18:26.565Z"
   },
   {
    "duration": 674,
    "start_time": "2021-11-15T05:19:06.728Z"
   },
   {
    "duration": 22,
    "start_time": "2021-11-15T05:19:07.404Z"
   },
   {
    "duration": 28,
    "start_time": "2021-11-15T05:19:07.430Z"
   },
   {
    "duration": 38,
    "start_time": "2021-11-15T05:19:07.460Z"
   },
   {
    "duration": 11,
    "start_time": "2021-11-15T05:19:07.500Z"
   },
   {
    "duration": 43,
    "start_time": "2021-11-15T05:19:07.513Z"
   },
   {
    "duration": 12,
    "start_time": "2021-11-15T05:19:07.558Z"
   },
   {
    "duration": 37,
    "start_time": "2021-11-15T05:19:07.572Z"
   },
   {
    "duration": 38,
    "start_time": "2021-11-15T05:19:07.611Z"
   },
   {
    "duration": 8,
    "start_time": "2021-11-15T05:19:07.651Z"
   },
   {
    "duration": 20,
    "start_time": "2021-11-15T05:19:07.660Z"
   },
   {
    "duration": 2,
    "start_time": "2021-11-15T05:19:07.681Z"
   },
   {
    "duration": 8,
    "start_time": "2021-11-15T05:19:07.685Z"
   },
   {
    "duration": 8,
    "start_time": "2021-11-15T05:19:07.695Z"
   },
   {
    "duration": 25,
    "start_time": "2021-11-15T05:46:18.339Z"
   },
   {
    "duration": 24,
    "start_time": "2021-11-15T05:46:31.686Z"
   },
   {
    "duration": 689,
    "start_time": "2021-11-15T05:46:46.429Z"
   },
   {
    "duration": 22,
    "start_time": "2021-11-15T05:46:47.120Z"
   },
   {
    "duration": 29,
    "start_time": "2021-11-15T05:46:47.145Z"
   },
   {
    "duration": 68,
    "start_time": "2021-11-15T05:46:47.177Z"
   },
   {
    "duration": 14,
    "start_time": "2021-11-15T05:46:47.247Z"
   },
   {
    "duration": 22,
    "start_time": "2021-11-15T05:46:47.263Z"
   },
   {
    "duration": 16,
    "start_time": "2021-11-15T05:46:47.286Z"
   },
   {
    "duration": 68,
    "start_time": "2021-11-15T05:46:47.305Z"
   },
   {
    "duration": 14,
    "start_time": "2021-11-15T05:46:47.375Z"
   },
   {
    "duration": 8,
    "start_time": "2021-11-15T05:46:47.391Z"
   },
   {
    "duration": 19,
    "start_time": "2021-11-15T05:46:47.400Z"
   },
   {
    "duration": 2,
    "start_time": "2021-11-15T05:46:47.445Z"
   },
   {
    "duration": 33,
    "start_time": "2021-11-15T05:46:47.449Z"
   },
   {
    "duration": 4,
    "start_time": "2021-11-15T05:46:47.484Z"
   },
   {
    "duration": 24,
    "start_time": "2021-11-15T05:56:23.191Z"
   },
   {
    "duration": 1108,
    "start_time": "2021-11-15T05:58:15.060Z"
   },
   {
    "duration": 10,
    "start_time": "2021-11-15T06:06:38.652Z"
   },
   {
    "duration": 629,
    "start_time": "2021-11-15T06:09:04.497Z"
   },
   {
    "duration": 22,
    "start_time": "2021-11-15T06:09:05.129Z"
   },
   {
    "duration": 24,
    "start_time": "2021-11-15T06:09:05.153Z"
   },
   {
    "duration": 42,
    "start_time": "2021-11-15T06:09:05.179Z"
   },
   {
    "duration": 13,
    "start_time": "2021-11-15T06:09:05.245Z"
   },
   {
    "duration": 21,
    "start_time": "2021-11-15T06:09:05.260Z"
   },
   {
    "duration": 18,
    "start_time": "2021-11-15T06:09:05.283Z"
   },
   {
    "duration": 61,
    "start_time": "2021-11-15T06:09:05.303Z"
   },
   {
    "duration": 13,
    "start_time": "2021-11-15T06:09:05.366Z"
   },
   {
    "duration": 7,
    "start_time": "2021-11-15T06:09:05.381Z"
   },
   {
    "duration": 21,
    "start_time": "2021-11-15T06:09:05.390Z"
   },
   {
    "duration": 34,
    "start_time": "2021-11-15T06:09:05.413Z"
   },
   {
    "duration": 2,
    "start_time": "2021-11-15T06:09:05.449Z"
   },
   {
    "duration": 27,
    "start_time": "2021-11-15T06:09:05.452Z"
   },
   {
    "duration": 4,
    "start_time": "2021-11-15T06:09:05.480Z"
   },
   {
    "duration": 113,
    "start_time": "2021-11-15T06:17:10.450Z"
   },
   {
    "duration": 15,
    "start_time": "2021-11-15T06:17:11.939Z"
   },
   {
    "duration": 8,
    "start_time": "2021-11-15T06:17:15.734Z"
   },
   {
    "duration": 22,
    "start_time": "2021-11-15T06:17:22.014Z"
   },
   {
    "duration": 11,
    "start_time": "2021-11-15T06:17:23.664Z"
   },
   {
    "duration": 13,
    "start_time": "2021-11-15T06:18:27.274Z"
   },
   {
    "duration": 24,
    "start_time": "2021-11-15T06:18:38.822Z"
   },
   {
    "duration": 13,
    "start_time": "2021-11-15T06:19:07.479Z"
   },
   {
    "duration": 20,
    "start_time": "2021-11-15T06:19:51.790Z"
   },
   {
    "duration": 17,
    "start_time": "2021-11-15T06:21:38.203Z"
   },
   {
    "duration": 17,
    "start_time": "2021-11-15T06:21:54.592Z"
   },
   {
    "duration": 29,
    "start_time": "2021-11-15T06:22:48.489Z"
   },
   {
    "duration": 29,
    "start_time": "2021-11-15T06:23:02.119Z"
   },
   {
    "duration": 30,
    "start_time": "2021-11-15T06:23:51.508Z"
   },
   {
    "duration": 29,
    "start_time": "2021-11-15T06:24:23.589Z"
   },
   {
    "duration": 739,
    "start_time": "2021-11-15T06:25:58.918Z"
   },
   {
    "duration": 26,
    "start_time": "2021-11-15T06:25:59.659Z"
   },
   {
    "duration": 26,
    "start_time": "2021-11-15T06:25:59.687Z"
   },
   {
    "duration": 59,
    "start_time": "2021-11-15T06:25:59.715Z"
   },
   {
    "duration": 13,
    "start_time": "2021-11-15T06:25:59.776Z"
   },
   {
    "duration": 19,
    "start_time": "2021-11-15T06:25:59.790Z"
   },
   {
    "duration": 39,
    "start_time": "2021-11-15T06:25:59.810Z"
   },
   {
    "duration": 127,
    "start_time": "2021-11-15T06:25:59.852Z"
   },
   {
    "duration": 15,
    "start_time": "2021-11-15T06:25:59.982Z"
   },
   {
    "duration": 8,
    "start_time": "2021-11-15T06:25:59.998Z"
   },
   {
    "duration": 41,
    "start_time": "2021-11-15T06:26:00.008Z"
   },
   {
    "duration": 11,
    "start_time": "2021-11-15T06:26:00.051Z"
   },
   {
    "duration": 13,
    "start_time": "2021-11-15T06:26:00.064Z"
   },
   {
    "duration": 65,
    "start_time": "2021-11-15T06:26:00.079Z"
   },
   {
    "duration": 8,
    "start_time": "2021-11-15T06:26:00.146Z"
   },
   {
    "duration": 9,
    "start_time": "2021-11-15T06:50:02.356Z"
   },
   {
    "duration": 8,
    "start_time": "2021-11-15T06:50:08.135Z"
   },
   {
    "duration": 36,
    "start_time": "2021-11-15T07:06:02.396Z"
   },
   {
    "duration": 10,
    "start_time": "2021-11-15T07:14:58.117Z"
   },
   {
    "duration": 11,
    "start_time": "2021-11-15T07:15:02.555Z"
   },
   {
    "duration": 11,
    "start_time": "2021-11-15T07:15:13.671Z"
   },
   {
    "duration": 36,
    "start_time": "2021-11-15T07:15:21.915Z"
   },
   {
    "duration": 701,
    "start_time": "2021-11-15T07:15:29.367Z"
   },
   {
    "duration": 26,
    "start_time": "2021-11-15T07:15:30.070Z"
   },
   {
    "duration": 26,
    "start_time": "2021-11-15T07:15:30.099Z"
   },
   {
    "duration": 62,
    "start_time": "2021-11-15T07:15:30.127Z"
   },
   {
    "duration": 14,
    "start_time": "2021-11-15T07:15:30.191Z"
   },
   {
    "duration": 41,
    "start_time": "2021-11-15T07:15:30.207Z"
   },
   {
    "duration": 16,
    "start_time": "2021-11-15T07:15:30.250Z"
   },
   {
    "duration": 135,
    "start_time": "2021-11-15T07:15:30.269Z"
   },
   {
    "duration": 15,
    "start_time": "2021-11-15T07:15:30.406Z"
   },
   {
    "duration": 23,
    "start_time": "2021-11-15T07:15:30.423Z"
   },
   {
    "duration": 23,
    "start_time": "2021-11-15T07:15:30.448Z"
   },
   {
    "duration": 13,
    "start_time": "2021-11-15T07:15:30.473Z"
   },
   {
    "duration": 17,
    "start_time": "2021-11-15T07:15:30.489Z"
   },
   {
    "duration": 74,
    "start_time": "2021-11-15T07:15:30.508Z"
   },
   {
    "duration": 9,
    "start_time": "2021-11-15T07:15:30.584Z"
   },
   {
    "duration": 13,
    "start_time": "2021-11-15T07:15:54.770Z"
   },
   {
    "duration": 38,
    "start_time": "2021-11-15T07:18:38.843Z"
   },
   {
    "duration": 11,
    "start_time": "2021-11-15T08:02:07.869Z"
   },
   {
    "duration": 6,
    "start_time": "2021-11-15T08:03:57.350Z"
   },
   {
    "duration": 7,
    "start_time": "2021-11-15T08:04:19.879Z"
   },
   {
    "duration": 7,
    "start_time": "2021-11-15T08:05:43.579Z"
   },
   {
    "duration": 24,
    "start_time": "2021-11-15T08:20:47.683Z"
   },
   {
    "duration": 37,
    "start_time": "2021-11-15T08:23:06.251Z"
   },
   {
    "duration": 18,
    "start_time": "2021-11-15T08:23:15.401Z"
   },
   {
    "duration": 4,
    "start_time": "2021-11-15T08:26:40.957Z"
   },
   {
    "duration": 98,
    "start_time": "2021-11-15T08:27:04.035Z"
   },
   {
    "duration": 51,
    "start_time": "2021-11-15T08:27:24.550Z"
   },
   {
    "duration": 27,
    "start_time": "2021-11-15T08:28:53.396Z"
   },
   {
    "duration": 16,
    "start_time": "2021-11-15T08:31:22.587Z"
   },
   {
    "duration": 16,
    "start_time": "2021-11-15T08:31:40.259Z"
   },
   {
    "duration": 776,
    "start_time": "2021-11-15T08:31:47.272Z"
   },
   {
    "duration": 23,
    "start_time": "2021-11-15T08:31:48.050Z"
   },
   {
    "duration": 430,
    "start_time": "2021-11-15T08:31:48.076Z"
   },
   {
    "duration": 14,
    "start_time": "2021-11-15T08:31:48.509Z"
   },
   {
    "duration": 11,
    "start_time": "2021-11-15T08:31:48.525Z"
   },
   {
    "duration": 16,
    "start_time": "2021-11-15T08:31:48.538Z"
   },
   {
    "duration": 11,
    "start_time": "2021-11-15T08:31:48.556Z"
   },
   {
    "duration": 123,
    "start_time": "2021-11-15T08:31:48.569Z"
   },
   {
    "duration": 13,
    "start_time": "2021-11-15T08:31:48.694Z"
   },
   {
    "duration": 8,
    "start_time": "2021-11-15T08:31:48.709Z"
   },
   {
    "duration": 44,
    "start_time": "2021-11-15T08:31:48.718Z"
   },
   {
    "duration": 12,
    "start_time": "2021-11-15T08:31:48.764Z"
   },
   {
    "duration": 15,
    "start_time": "2021-11-15T08:31:48.777Z"
   },
   {
    "duration": 55,
    "start_time": "2021-11-15T08:31:48.794Z"
   },
   {
    "duration": 18,
    "start_time": "2021-11-15T08:31:48.852Z"
   },
   {
    "duration": 22,
    "start_time": "2021-11-15T08:31:48.872Z"
   },
   {
    "duration": 695,
    "start_time": "2021-11-15T08:39:34.069Z"
   },
   {
    "duration": 36,
    "start_time": "2021-11-15T08:39:34.766Z"
   },
   {
    "duration": 54,
    "start_time": "2021-11-15T08:39:34.804Z"
   },
   {
    "duration": 15,
    "start_time": "2021-11-15T08:39:34.861Z"
   },
   {
    "duration": 12,
    "start_time": "2021-11-15T08:39:34.878Z"
   },
   {
    "duration": 17,
    "start_time": "2021-11-15T08:39:34.892Z"
   },
   {
    "duration": 42,
    "start_time": "2021-11-15T08:39:34.910Z"
   },
   {
    "duration": 135,
    "start_time": "2021-11-15T08:39:34.955Z"
   },
   {
    "duration": 22,
    "start_time": "2021-11-15T08:39:35.092Z"
   },
   {
    "duration": 9,
    "start_time": "2021-11-15T08:39:35.115Z"
   },
   {
    "duration": 36,
    "start_time": "2021-11-15T08:39:35.126Z"
   },
   {
    "duration": 19,
    "start_time": "2021-11-15T08:39:35.164Z"
   },
   {
    "duration": 13,
    "start_time": "2021-11-15T08:39:35.186Z"
   },
   {
    "duration": 62,
    "start_time": "2021-11-15T08:39:35.201Z"
   },
   {
    "duration": 21,
    "start_time": "2021-11-15T08:39:35.265Z"
   },
   {
    "duration": 17,
    "start_time": "2021-11-15T08:39:35.288Z"
   },
   {
    "duration": 19,
    "start_time": "2021-11-15T08:42:49.776Z"
   },
   {
    "duration": 28,
    "start_time": "2021-11-15T08:47:46.778Z"
   },
   {
    "duration": 27,
    "start_time": "2021-11-15T08:48:23.345Z"
   },
   {
    "duration": 32,
    "start_time": "2021-11-15T08:48:51.873Z"
   },
   {
    "duration": 36,
    "start_time": "2021-11-15T08:53:18.308Z"
   },
   {
    "duration": 28,
    "start_time": "2021-11-15T09:08:39.935Z"
   },
   {
    "duration": 1249,
    "start_time": "2021-11-15T09:33:15.300Z"
   },
   {
    "duration": 47,
    "start_time": "2021-11-15T09:36:06.118Z"
   },
   {
    "duration": 36,
    "start_time": "2021-11-15T09:36:54.116Z"
   },
   {
    "duration": 663,
    "start_time": "2021-11-15T09:41:04.723Z"
   },
   {
    "duration": 659,
    "start_time": "2021-11-15T09:41:32.925Z"
   },
   {
    "duration": 56,
    "start_time": "2021-11-15T09:42:30.880Z"
   },
   {
    "duration": 735,
    "start_time": "2021-11-15T09:43:57.368Z"
   },
   {
    "duration": 723,
    "start_time": "2021-11-15T10:21:09.613Z"
   },
   {
    "duration": 667,
    "start_time": "2021-11-15T10:21:32.221Z"
   },
   {
    "duration": 395,
    "start_time": "2021-11-15T10:30:29.039Z"
   },
   {
    "duration": 8,
    "start_time": "2021-11-15T10:32:27.995Z"
   },
   {
    "duration": 6,
    "start_time": "2021-11-15T10:33:00.473Z"
   },
   {
    "duration": 643,
    "start_time": "2021-11-15T11:34:48.720Z"
   },
   {
    "duration": 691,
    "start_time": "2021-11-15T11:36:18.089Z"
   },
   {
    "duration": 699,
    "start_time": "2021-11-15T11:36:35.940Z"
   },
   {
    "duration": 24,
    "start_time": "2021-11-15T11:36:36.641Z"
   },
   {
    "duration": 26,
    "start_time": "2021-11-15T11:36:36.668Z"
   },
   {
    "duration": 27,
    "start_time": "2021-11-15T11:36:36.696Z"
   },
   {
    "duration": 25,
    "start_time": "2021-11-15T11:36:36.725Z"
   },
   {
    "duration": 21,
    "start_time": "2021-11-15T11:36:36.751Z"
   },
   {
    "duration": 29,
    "start_time": "2021-11-15T11:36:36.774Z"
   },
   {
    "duration": 134,
    "start_time": "2021-11-15T11:36:36.806Z"
   },
   {
    "duration": 15,
    "start_time": "2021-11-15T11:36:36.942Z"
   },
   {
    "duration": 7,
    "start_time": "2021-11-15T11:36:36.958Z"
   },
   {
    "duration": 31,
    "start_time": "2021-11-15T11:36:36.967Z"
   },
   {
    "duration": 11,
    "start_time": "2021-11-15T11:36:37.000Z"
   },
   {
    "duration": 34,
    "start_time": "2021-11-15T11:36:37.012Z"
   },
   {
    "duration": 40,
    "start_time": "2021-11-15T11:36:37.048Z"
   },
   {
    "duration": 54,
    "start_time": "2021-11-15T11:36:37.090Z"
   },
   {
    "duration": 668,
    "start_time": "2021-11-15T11:36:37.146Z"
   },
   {
    "duration": 641,
    "start_time": "2021-11-15T11:36:37.817Z"
   },
   {
    "duration": 104,
    "start_time": "2021-11-15T11:39:36.879Z"
   },
   {
    "duration": 95,
    "start_time": "2021-11-15T11:40:09.550Z"
   },
   {
    "duration": 96,
    "start_time": "2021-11-15T11:41:27.414Z"
   },
   {
    "duration": 99,
    "start_time": "2021-11-15T11:41:52.708Z"
   },
   {
    "duration": 1071,
    "start_time": "2021-11-15T11:42:27.373Z"
   },
   {
    "duration": 709,
    "start_time": "2021-11-15T11:44:32.077Z"
   },
   {
    "duration": 682,
    "start_time": "2021-11-15T11:44:44.856Z"
   },
   {
    "duration": 1835,
    "start_time": "2021-11-15T11:50:46.876Z"
   },
   {
    "duration": 999,
    "start_time": "2021-11-15T11:51:28.923Z"
   },
   {
    "duration": 477,
    "start_time": "2021-11-15T11:51:55.755Z"
   },
   {
    "duration": 654,
    "start_time": "2021-11-15T11:52:20.283Z"
   },
   {
    "duration": 829,
    "start_time": "2021-11-15T12:01:36.363Z"
   },
   {
    "duration": 693,
    "start_time": "2021-11-15T12:01:56.773Z"
   },
   {
    "duration": 718,
    "start_time": "2021-11-15T12:02:22.591Z"
   },
   {
    "duration": 1032,
    "start_time": "2021-11-15T12:04:19.270Z"
   },
   {
    "duration": 1115,
    "start_time": "2021-11-15T12:07:35.396Z"
   },
   {
    "duration": 694,
    "start_time": "2021-11-15T12:07:59.059Z"
   },
   {
    "duration": 715,
    "start_time": "2021-11-15T12:11:57.129Z"
   },
   {
    "duration": 801,
    "start_time": "2021-11-15T12:12:13.998Z"
   },
   {
    "duration": 727,
    "start_time": "2021-11-15T12:14:15.147Z"
   },
   {
    "duration": 736,
    "start_time": "2021-11-15T12:15:07.681Z"
   },
   {
    "duration": 97,
    "start_time": "2021-11-15T12:54:02.187Z"
   },
   {
    "duration": 4707,
    "start_time": "2021-11-15T12:54:12.024Z"
   },
   {
    "duration": 10731,
    "start_time": "2021-11-15T12:54:45.745Z"
   },
   {
    "duration": 693,
    "start_time": "2021-11-15T12:55:10.230Z"
   },
   {
    "duration": 26,
    "start_time": "2021-11-15T12:55:10.925Z"
   },
   {
    "duration": 25,
    "start_time": "2021-11-15T12:55:10.953Z"
   },
   {
    "duration": 14,
    "start_time": "2021-11-15T12:55:10.980Z"
   },
   {
    "duration": 13,
    "start_time": "2021-11-15T12:55:10.996Z"
   },
   {
    "duration": 45,
    "start_time": "2021-11-15T12:55:11.010Z"
   },
   {
    "duration": 19,
    "start_time": "2021-11-15T12:55:11.057Z"
   },
   {
    "duration": 122,
    "start_time": "2021-11-15T12:55:11.078Z"
   },
   {
    "duration": 14,
    "start_time": "2021-11-15T12:55:11.201Z"
   },
   {
    "duration": 10,
    "start_time": "2021-11-15T12:55:11.217Z"
   },
   {
    "duration": 19,
    "start_time": "2021-11-15T12:55:11.245Z"
   },
   {
    "duration": 10,
    "start_time": "2021-11-15T12:55:11.265Z"
   },
   {
    "duration": 15,
    "start_time": "2021-11-15T12:55:11.277Z"
   },
   {
    "duration": 62,
    "start_time": "2021-11-15T12:55:11.294Z"
   },
   {
    "duration": 24,
    "start_time": "2021-11-15T12:55:11.358Z"
   },
   {
    "duration": 4716,
    "start_time": "2021-11-15T12:55:11.384Z"
   },
   {
    "duration": 599,
    "start_time": "2021-11-15T12:55:16.102Z"
   },
   {
    "duration": 5826,
    "start_time": "2021-11-15T12:59:22.887Z"
   },
   {
    "duration": 69,
    "start_time": "2021-11-15T13:14:28.468Z"
   },
   {
    "duration": 60,
    "start_time": "2021-11-15T13:14:56.068Z"
   },
   {
    "duration": 19074,
    "start_time": "2021-11-15T13:16:38.190Z"
   },
   {
    "duration": 19601,
    "start_time": "2021-11-15T13:18:28.585Z"
   },
   {
    "duration": 19598,
    "start_time": "2021-11-15T13:19:22.800Z"
   },
   {
    "duration": 5032,
    "start_time": "2021-11-15T13:19:50.943Z"
   },
   {
    "duration": 11225,
    "start_time": "2021-11-15T13:20:49.282Z"
   },
   {
    "duration": 703,
    "start_time": "2021-11-15T13:21:56.612Z"
   },
   {
    "duration": 24,
    "start_time": "2021-11-15T13:21:57.317Z"
   },
   {
    "duration": 26,
    "start_time": "2021-11-15T13:21:57.344Z"
   },
   {
    "duration": 15,
    "start_time": "2021-11-15T13:21:57.373Z"
   },
   {
    "duration": 14,
    "start_time": "2021-11-15T13:21:57.390Z"
   },
   {
    "duration": 49,
    "start_time": "2021-11-15T13:21:57.406Z"
   },
   {
    "duration": 15,
    "start_time": "2021-11-15T13:21:57.457Z"
   },
   {
    "duration": 165,
    "start_time": "2021-11-15T13:21:57.475Z"
   },
   {
    "duration": 21,
    "start_time": "2021-11-15T13:21:57.644Z"
   },
   {
    "duration": 11,
    "start_time": "2021-11-15T13:21:57.668Z"
   },
   {
    "duration": 29,
    "start_time": "2021-11-15T13:21:57.681Z"
   },
   {
    "duration": 43,
    "start_time": "2021-11-15T13:21:57.712Z"
   },
   {
    "duration": 13,
    "start_time": "2021-11-15T13:21:57.757Z"
   },
   {
    "duration": 39,
    "start_time": "2021-11-15T13:21:57.771Z"
   },
   {
    "duration": 48,
    "start_time": "2021-11-15T13:21:57.812Z"
   },
   {
    "duration": 19272,
    "start_time": "2021-11-15T13:21:57.862Z"
   },
   {
    "duration": 804,
    "start_time": "2021-11-15T13:22:17.137Z"
   },
   {
    "duration": 18355,
    "start_time": "2021-11-15T13:36:30.032Z"
   },
   {
    "duration": 698,
    "start_time": "2021-11-15T13:37:15.442Z"
   },
   {
    "duration": 700,
    "start_time": "2021-11-15T13:37:38.513Z"
   },
   {
    "duration": 23,
    "start_time": "2021-11-15T13:37:39.215Z"
   },
   {
    "duration": 38,
    "start_time": "2021-11-15T13:37:39.240Z"
   },
   {
    "duration": 21,
    "start_time": "2021-11-15T13:37:39.280Z"
   },
   {
    "duration": 45,
    "start_time": "2021-11-15T13:37:39.303Z"
   },
   {
    "duration": 28,
    "start_time": "2021-11-15T13:37:39.351Z"
   },
   {
    "duration": 21,
    "start_time": "2021-11-15T13:37:39.381Z"
   },
   {
    "duration": 143,
    "start_time": "2021-11-15T13:37:39.405Z"
   },
   {
    "duration": 15,
    "start_time": "2021-11-15T13:37:39.550Z"
   },
   {
    "duration": 8,
    "start_time": "2021-11-15T13:37:39.567Z"
   },
   {
    "duration": 21,
    "start_time": "2021-11-15T13:37:39.577Z"
   },
   {
    "duration": 12,
    "start_time": "2021-11-15T13:37:39.600Z"
   },
   {
    "duration": 13,
    "start_time": "2021-11-15T13:37:39.644Z"
   },
   {
    "duration": 40,
    "start_time": "2021-11-15T13:37:39.659Z"
   },
   {
    "duration": 55,
    "start_time": "2021-11-15T13:37:39.701Z"
   },
   {
    "duration": 735,
    "start_time": "2021-11-15T13:37:39.758Z"
   },
   {
    "duration": 17408,
    "start_time": "2021-11-15T13:37:40.495Z"
   },
   {
    "duration": 676,
    "start_time": "2021-11-15T13:43:34.959Z"
   },
   {
    "duration": 31,
    "start_time": "2021-11-15T13:43:35.637Z"
   },
   {
    "duration": 27,
    "start_time": "2021-11-15T13:43:35.671Z"
   },
   {
    "duration": 15,
    "start_time": "2021-11-15T13:43:35.700Z"
   },
   {
    "duration": 34,
    "start_time": "2021-11-15T13:43:35.717Z"
   },
   {
    "duration": 20,
    "start_time": "2021-11-15T13:43:35.753Z"
   },
   {
    "duration": 11,
    "start_time": "2021-11-15T13:43:35.775Z"
   },
   {
    "duration": 144,
    "start_time": "2021-11-15T13:43:35.789Z"
   },
   {
    "duration": 15,
    "start_time": "2021-11-15T13:43:35.935Z"
   },
   {
    "duration": 8,
    "start_time": "2021-11-15T13:43:35.952Z"
   },
   {
    "duration": 20,
    "start_time": "2021-11-15T13:43:35.962Z"
   },
   {
    "duration": 11,
    "start_time": "2021-11-15T13:43:35.983Z"
   },
   {
    "duration": 50,
    "start_time": "2021-11-15T13:43:35.996Z"
   },
   {
    "duration": 39,
    "start_time": "2021-11-15T13:43:36.048Z"
   },
   {
    "duration": 58,
    "start_time": "2021-11-15T13:43:36.089Z"
   },
   {
    "duration": 710,
    "start_time": "2021-11-15T13:43:36.149Z"
   },
   {
    "duration": 17384,
    "start_time": "2021-11-15T13:43:36.862Z"
   },
   {
    "duration": 17375,
    "start_time": "2021-11-15T13:44:55.144Z"
   },
   {
    "duration": 664,
    "start_time": "2021-11-15T13:45:36.772Z"
   },
   {
    "duration": 23,
    "start_time": "2021-11-15T13:45:37.438Z"
   },
   {
    "duration": 25,
    "start_time": "2021-11-15T13:45:37.463Z"
   },
   {
    "duration": 13,
    "start_time": "2021-11-15T13:45:37.490Z"
   },
   {
    "duration": 40,
    "start_time": "2021-11-15T13:45:37.505Z"
   },
   {
    "duration": 17,
    "start_time": "2021-11-15T13:45:37.547Z"
   },
   {
    "duration": 13,
    "start_time": "2021-11-15T13:45:37.566Z"
   },
   {
    "duration": 135,
    "start_time": "2021-11-15T13:45:37.582Z"
   },
   {
    "duration": 13,
    "start_time": "2021-11-15T13:45:37.719Z"
   },
   {
    "duration": 16,
    "start_time": "2021-11-15T13:45:37.734Z"
   },
   {
    "duration": 19,
    "start_time": "2021-11-15T13:45:37.751Z"
   },
   {
    "duration": 10,
    "start_time": "2021-11-15T13:45:37.772Z"
   },
   {
    "duration": 11,
    "start_time": "2021-11-15T13:45:37.784Z"
   },
   {
    "duration": 70,
    "start_time": "2021-11-15T13:45:37.797Z"
   },
   {
    "duration": 25,
    "start_time": "2021-11-15T13:45:37.869Z"
   },
   {
    "duration": 682,
    "start_time": "2021-11-15T13:45:37.896Z"
   },
   {
    "duration": 17279,
    "start_time": "2021-11-15T13:45:38.580Z"
   },
   {
    "duration": 914,
    "start_time": "2021-11-16T07:13:14.684Z"
   },
   {
    "duration": 60,
    "start_time": "2021-11-16T07:13:15.601Z"
   },
   {
    "duration": 52,
    "start_time": "2021-11-16T07:13:15.665Z"
   },
   {
    "duration": 49,
    "start_time": "2021-11-16T07:13:15.720Z"
   },
   {
    "duration": 20,
    "start_time": "2021-11-16T07:13:15.772Z"
   },
   {
    "duration": 29,
    "start_time": "2021-11-16T07:13:15.795Z"
   },
   {
    "duration": 44,
    "start_time": "2021-11-16T07:13:15.826Z"
   },
   {
    "duration": 206,
    "start_time": "2021-11-16T07:13:15.873Z"
   },
   {
    "duration": 23,
    "start_time": "2021-11-16T07:13:16.081Z"
   },
   {
    "duration": 12,
    "start_time": "2021-11-16T07:13:16.107Z"
   },
   {
    "duration": 61,
    "start_time": "2021-11-16T07:13:16.122Z"
   },
   {
    "duration": 21,
    "start_time": "2021-11-16T07:13:16.186Z"
   },
   {
    "duration": 19,
    "start_time": "2021-11-16T07:13:16.209Z"
   },
   {
    "duration": 73,
    "start_time": "2021-11-16T07:13:16.260Z"
   },
   {
    "duration": 75,
    "start_time": "2021-11-16T07:13:16.335Z"
   },
   {
    "duration": 1030,
    "start_time": "2021-11-16T07:13:16.413Z"
   },
   {
    "duration": 29181,
    "start_time": "2021-11-16T07:13:17.446Z"
   },
   {
    "duration": 10,
    "start_time": "2021-11-16T07:30:11.179Z"
   },
   {
    "duration": 19,
    "start_time": "2021-11-16T07:31:05.005Z"
   },
   {
    "duration": 805,
    "start_time": "2021-11-16T07:33:25.218Z"
   },
   {
    "duration": 43,
    "start_time": "2021-11-16T07:33:26.027Z"
   },
   {
    "duration": 38,
    "start_time": "2021-11-16T07:33:26.073Z"
   },
   {
    "duration": 45,
    "start_time": "2021-11-16T07:33:26.114Z"
   },
   {
    "duration": 21,
    "start_time": "2021-11-16T07:33:26.162Z"
   },
   {
    "duration": 27,
    "start_time": "2021-11-16T07:33:26.186Z"
   },
   {
    "duration": 45,
    "start_time": "2021-11-16T07:33:26.216Z"
   },
   {
    "duration": 176,
    "start_time": "2021-11-16T07:33:26.265Z"
   },
   {
    "duration": 25,
    "start_time": "2021-11-16T07:33:26.444Z"
   },
   {
    "duration": 19,
    "start_time": "2021-11-16T07:33:26.471Z"
   },
   {
    "duration": 42,
    "start_time": "2021-11-16T07:33:26.493Z"
   },
   {
    "duration": 26,
    "start_time": "2021-11-16T07:33:26.538Z"
   },
   {
    "duration": 28,
    "start_time": "2021-11-16T07:33:26.566Z"
   },
   {
    "duration": 64,
    "start_time": "2021-11-16T07:33:26.597Z"
   },
   {
    "duration": 34,
    "start_time": "2021-11-16T07:33:26.663Z"
   },
   {
    "duration": 902,
    "start_time": "2021-11-16T07:33:26.700Z"
   },
   {
    "duration": 27931,
    "start_time": "2021-11-16T07:33:27.605Z"
   },
   {
    "duration": 813,
    "start_time": "2021-11-16T07:44:16.982Z"
   },
   {
    "duration": 31,
    "start_time": "2021-11-16T07:44:17.799Z"
   },
   {
    "duration": 57,
    "start_time": "2021-11-16T07:44:17.833Z"
   },
   {
    "duration": 21,
    "start_time": "2021-11-16T07:44:17.893Z"
   },
   {
    "duration": 51,
    "start_time": "2021-11-16T07:44:17.916Z"
   },
   {
    "duration": 17,
    "start_time": "2021-11-16T07:44:17.969Z"
   },
   {
    "duration": 176,
    "start_time": "2021-11-16T07:44:17.989Z"
   },
   {
    "duration": 22,
    "start_time": "2021-11-16T07:44:18.168Z"
   },
   {
    "duration": 11,
    "start_time": "2021-11-16T07:44:18.192Z"
   },
   {
    "duration": 57,
    "start_time": "2021-11-16T07:44:18.205Z"
   },
   {
    "duration": 13,
    "start_time": "2021-11-16T07:44:18.264Z"
   },
   {
    "duration": 20,
    "start_time": "2021-11-16T07:44:18.279Z"
   },
   {
    "duration": 81,
    "start_time": "2021-11-16T07:44:18.301Z"
   },
   {
    "duration": 34,
    "start_time": "2021-11-16T07:44:18.384Z"
   },
   {
    "duration": 923,
    "start_time": "2021-11-16T07:44:18.420Z"
   },
   {
    "duration": 28314,
    "start_time": "2021-11-16T07:44:19.346Z"
   },
   {
    "duration": 834,
    "start_time": "2021-11-16T07:44:57.117Z"
   },
   {
    "duration": 32,
    "start_time": "2021-11-16T07:44:57.954Z"
   },
   {
    "duration": 35,
    "start_time": "2021-11-16T07:44:57.989Z"
   },
   {
    "duration": 43,
    "start_time": "2021-11-16T07:44:58.027Z"
   },
   {
    "duration": 20,
    "start_time": "2021-11-16T07:44:58.072Z"
   },
   {
    "duration": 17,
    "start_time": "2021-11-16T07:44:58.095Z"
   },
   {
    "duration": 198,
    "start_time": "2021-11-16T07:44:58.114Z"
   },
   {
    "duration": 20,
    "start_time": "2021-11-16T07:44:58.315Z"
   },
   {
    "duration": 28,
    "start_time": "2021-11-16T07:44:58.337Z"
   },
   {
    "duration": 27,
    "start_time": "2021-11-16T07:44:58.367Z"
   },
   {
    "duration": 13,
    "start_time": "2021-11-16T07:44:58.396Z"
   },
   {
    "duration": 52,
    "start_time": "2021-11-16T07:44:58.412Z"
   },
   {
    "duration": 54,
    "start_time": "2021-11-16T07:44:58.466Z"
   },
   {
    "duration": 61,
    "start_time": "2021-11-16T07:44:58.523Z"
   },
   {
    "duration": 944,
    "start_time": "2021-11-16T07:44:58.587Z"
   },
   {
    "duration": 28553,
    "start_time": "2021-11-16T07:44:59.534Z"
   },
   {
    "duration": 806,
    "start_time": "2021-11-16T08:33:35.015Z"
   },
   {
    "duration": 43,
    "start_time": "2021-11-16T08:33:35.824Z"
   },
   {
    "duration": 36,
    "start_time": "2021-11-16T08:33:35.870Z"
   },
   {
    "duration": 22,
    "start_time": "2021-11-16T08:33:35.909Z"
   },
   {
    "duration": 19,
    "start_time": "2021-11-16T08:33:35.959Z"
   },
   {
    "duration": 18,
    "start_time": "2021-11-16T08:33:35.980Z"
   },
   {
    "duration": 196,
    "start_time": "2021-11-16T08:33:36.001Z"
   },
   {
    "duration": 21,
    "start_time": "2021-11-16T08:33:36.201Z"
   },
   {
    "duration": 12,
    "start_time": "2021-11-16T08:33:36.224Z"
   },
   {
    "duration": 27,
    "start_time": "2021-11-16T08:33:36.260Z"
   },
   {
    "duration": 14,
    "start_time": "2021-11-16T08:33:36.289Z"
   },
   {
    "duration": 23,
    "start_time": "2021-11-16T08:33:36.305Z"
   },
   {
    "duration": 80,
    "start_time": "2021-11-16T08:33:36.330Z"
   },
   {
    "duration": 57,
    "start_time": "2021-11-16T08:33:36.412Z"
   },
   {
    "duration": 812,
    "start_time": "2021-11-16T08:34:12.383Z"
   },
   {
    "duration": 35,
    "start_time": "2021-11-16T08:34:13.197Z"
   },
   {
    "duration": 47,
    "start_time": "2021-11-16T08:34:13.235Z"
   },
   {
    "duration": 18,
    "start_time": "2021-11-16T08:34:13.285Z"
   },
   {
    "duration": 18,
    "start_time": "2021-11-16T08:34:13.306Z"
   },
   {
    "duration": 17,
    "start_time": "2021-11-16T08:34:13.359Z"
   },
   {
    "duration": 179,
    "start_time": "2021-11-16T08:34:13.378Z"
   },
   {
    "duration": 22,
    "start_time": "2021-11-16T08:34:13.561Z"
   },
   {
    "duration": 10,
    "start_time": "2021-11-16T08:34:13.585Z"
   },
   {
    "duration": 25,
    "start_time": "2021-11-16T08:34:13.598Z"
   },
   {
    "duration": 14,
    "start_time": "2021-11-16T08:34:13.659Z"
   },
   {
    "duration": 17,
    "start_time": "2021-11-16T08:34:13.676Z"
   },
   {
    "duration": 82,
    "start_time": "2021-11-16T08:34:13.695Z"
   },
   {
    "duration": 34,
    "start_time": "2021-11-16T08:34:13.780Z"
   },
   {
    "duration": 54,
    "start_time": "2021-11-16T08:35:12.206Z"
   },
   {
    "duration": 1208,
    "start_time": "2021-11-16T08:35:43.657Z"
   },
   {
    "duration": 32,
    "start_time": "2021-11-16T08:35:44.867Z"
   },
   {
    "duration": 61,
    "start_time": "2021-11-16T08:35:44.902Z"
   },
   {
    "duration": 20,
    "start_time": "2021-11-16T08:35:44.965Z"
   },
   {
    "duration": 19,
    "start_time": "2021-11-16T08:35:44.987Z"
   },
   {
    "duration": 24,
    "start_time": "2021-11-16T08:35:45.009Z"
   },
   {
    "duration": 177,
    "start_time": "2021-11-16T08:35:45.061Z"
   },
   {
    "duration": 32,
    "start_time": "2021-11-16T08:35:45.243Z"
   },
   {
    "duration": 14,
    "start_time": "2021-11-16T08:35:45.278Z"
   },
   {
    "duration": 67,
    "start_time": "2021-11-16T08:35:45.295Z"
   },
   {
    "duration": 17,
    "start_time": "2021-11-16T08:35:45.365Z"
   },
   {
    "duration": 21,
    "start_time": "2021-11-16T08:35:45.384Z"
   },
   {
    "duration": 94,
    "start_time": "2021-11-16T08:35:45.408Z"
   },
   {
    "duration": 68,
    "start_time": "2021-11-16T08:35:45.505Z"
   },
   {
    "duration": 944,
    "start_time": "2021-11-16T08:35:45.575Z"
   },
   {
    "duration": 804,
    "start_time": "2021-11-16T08:36:34.900Z"
   },
   {
    "duration": 32,
    "start_time": "2021-11-16T08:36:35.707Z"
   },
   {
    "duration": 35,
    "start_time": "2021-11-16T08:36:35.760Z"
   },
   {
    "duration": 19,
    "start_time": "2021-11-16T08:36:35.798Z"
   },
   {
    "duration": 50,
    "start_time": "2021-11-16T08:36:35.820Z"
   },
   {
    "duration": 18,
    "start_time": "2021-11-16T08:36:35.873Z"
   },
   {
    "duration": 189,
    "start_time": "2021-11-16T08:36:35.894Z"
   },
   {
    "duration": 21,
    "start_time": "2021-11-16T08:36:36.086Z"
   },
   {
    "duration": 11,
    "start_time": "2021-11-16T08:36:36.110Z"
   },
   {
    "duration": 56,
    "start_time": "2021-11-16T08:36:36.123Z"
   },
   {
    "duration": 15,
    "start_time": "2021-11-16T08:36:36.181Z"
   },
   {
    "duration": 20,
    "start_time": "2021-11-16T08:36:36.198Z"
   },
   {
    "duration": 90,
    "start_time": "2021-11-16T08:36:36.220Z"
   },
   {
    "duration": 58,
    "start_time": "2021-11-16T08:36:36.312Z"
   },
   {
    "duration": 28919,
    "start_time": "2021-11-16T08:36:36.373Z"
   },
   {
    "duration": 796,
    "start_time": "2021-11-16T08:37:09.094Z"
   },
   {
    "duration": 34,
    "start_time": "2021-11-16T08:37:09.893Z"
   },
   {
    "duration": 58,
    "start_time": "2021-11-16T08:37:09.931Z"
   },
   {
    "duration": 22,
    "start_time": "2021-11-16T08:37:09.992Z"
   },
   {
    "duration": 49,
    "start_time": "2021-11-16T08:37:10.016Z"
   },
   {
    "duration": 18,
    "start_time": "2021-11-16T08:37:10.068Z"
   },
   {
    "duration": 195,
    "start_time": "2021-11-16T08:37:10.088Z"
   },
   {
    "duration": 22,
    "start_time": "2021-11-16T08:37:10.286Z"
   },
   {
    "duration": 12,
    "start_time": "2021-11-16T08:37:10.312Z"
   },
   {
    "duration": 58,
    "start_time": "2021-11-16T08:37:10.327Z"
   },
   {
    "duration": 17,
    "start_time": "2021-11-16T08:37:10.388Z"
   },
   {
    "duration": 54,
    "start_time": "2021-11-16T08:37:10.408Z"
   },
   {
    "duration": 55,
    "start_time": "2021-11-16T08:37:10.464Z"
   },
   {
    "duration": 53,
    "start_time": "2021-11-16T08:37:10.521Z"
   },
   {
    "duration": 1031,
    "start_time": "2021-11-16T08:37:10.577Z"
   },
   {
    "duration": 893,
    "start_time": "2021-11-16T08:37:46.326Z"
   },
   {
    "duration": 47,
    "start_time": "2021-11-16T08:37:47.223Z"
   },
   {
    "duration": 35,
    "start_time": "2021-11-16T08:37:47.274Z"
   },
   {
    "duration": 48,
    "start_time": "2021-11-16T08:37:47.311Z"
   },
   {
    "duration": 19,
    "start_time": "2021-11-16T08:37:47.362Z"
   },
   {
    "duration": 16,
    "start_time": "2021-11-16T08:37:47.383Z"
   },
   {
    "duration": 192,
    "start_time": "2021-11-16T08:37:47.401Z"
   },
   {
    "duration": 21,
    "start_time": "2021-11-16T08:37:47.596Z"
   },
   {
    "duration": 10,
    "start_time": "2021-11-16T08:37:47.620Z"
   },
   {
    "duration": 53,
    "start_time": "2021-11-16T08:37:47.632Z"
   },
   {
    "duration": 14,
    "start_time": "2021-11-16T08:37:47.687Z"
   },
   {
    "duration": 19,
    "start_time": "2021-11-16T08:37:47.704Z"
   },
   {
    "duration": 83,
    "start_time": "2021-11-16T08:37:47.725Z"
   },
   {
    "duration": 58,
    "start_time": "2021-11-16T08:37:47.811Z"
   },
   {
    "duration": 899,
    "start_time": "2021-11-16T08:37:47.871Z"
   },
   {
    "duration": 27831,
    "start_time": "2021-11-16T08:37:48.772Z"
   },
   {
    "duration": 841,
    "start_time": "2021-11-16T08:39:44.058Z"
   },
   {
    "duration": 34,
    "start_time": "2021-11-16T08:39:44.903Z"
   },
   {
    "duration": 51,
    "start_time": "2021-11-16T08:39:44.941Z"
   },
   {
    "duration": 26,
    "start_time": "2021-11-16T08:39:44.995Z"
   },
   {
    "duration": 20,
    "start_time": "2021-11-16T08:39:45.059Z"
   },
   {
    "duration": 18,
    "start_time": "2021-11-16T08:39:45.082Z"
   },
   {
    "duration": 196,
    "start_time": "2021-11-16T08:39:45.102Z"
   },
   {
    "duration": 21,
    "start_time": "2021-11-16T08:39:45.301Z"
   },
   {
    "duration": 296,
    "start_time": "2021-11-16T08:39:45.324Z"
   },
   {
    "duration": 27,
    "start_time": "2021-11-16T08:39:45.622Z"
   },
   {
    "duration": 13,
    "start_time": "2021-11-16T08:39:45.652Z"
   },
   {
    "duration": 19,
    "start_time": "2021-11-16T08:39:45.667Z"
   },
   {
    "duration": 81,
    "start_time": "2021-11-16T08:39:45.688Z"
   },
   {
    "duration": 33,
    "start_time": "2021-11-16T08:39:45.771Z"
   },
   {
    "duration": 983,
    "start_time": "2021-11-16T08:39:45.806Z"
   },
   {
    "duration": 27918,
    "start_time": "2021-11-16T08:39:46.792Z"
   },
   {
    "duration": 46,
    "start_time": "2021-11-16T10:25:36.573Z"
   },
   {
    "duration": 2220,
    "start_time": "2021-11-16T10:26:36.938Z"
   },
   {
    "duration": 40,
    "start_time": "2021-11-16T10:26:39.162Z"
   },
   {
    "duration": 59,
    "start_time": "2021-11-16T10:26:39.207Z"
   },
   {
    "duration": 27,
    "start_time": "2021-11-16T10:26:39.269Z"
   },
   {
    "duration": 32,
    "start_time": "2021-11-16T10:26:39.299Z"
   },
   {
    "duration": 24,
    "start_time": "2021-11-16T10:26:39.361Z"
   },
   {
    "duration": 227,
    "start_time": "2021-11-16T10:26:39.390Z"
   },
   {
    "duration": 24,
    "start_time": "2021-11-16T10:26:39.621Z"
   },
   {
    "duration": 15,
    "start_time": "2021-11-16T10:26:39.660Z"
   },
   {
    "duration": 16,
    "start_time": "2021-11-16T10:26:39.678Z"
   },
   {
    "duration": 65,
    "start_time": "2021-11-16T10:26:39.697Z"
   },
   {
    "duration": 59,
    "start_time": "2021-11-16T10:26:39.765Z"
   },
   {
    "duration": 60,
    "start_time": "2021-11-16T10:26:39.828Z"
   },
   {
    "duration": 1094,
    "start_time": "2021-11-16T10:26:39.891Z"
   },
   {
    "duration": 28848,
    "start_time": "2021-11-16T10:26:40.988Z"
   },
   {
    "duration": 37,
    "start_time": "2021-11-16T10:27:09.839Z"
   },
   {
    "duration": 11,
    "start_time": "2021-11-16T11:28:43.578Z"
   },
   {
    "duration": 9,
    "start_time": "2021-11-16T11:32:46.700Z"
   },
   {
    "duration": 11,
    "start_time": "2021-11-16T11:32:59.669Z"
   },
   {
    "duration": 16,
    "start_time": "2021-11-16T11:33:16.111Z"
   },
   {
    "duration": 140,
    "start_time": "2021-11-16T12:16:09.172Z"
   },
   {
    "duration": 591,
    "start_time": "2021-11-16T12:18:00.658Z"
   },
   {
    "duration": 34,
    "start_time": "2021-11-16T12:18:17.222Z"
   },
   {
    "duration": 30,
    "start_time": "2021-11-16T12:18:56.599Z"
   },
   {
    "duration": 49,
    "start_time": "2021-11-16T12:19:12.054Z"
   },
   {
    "duration": 48,
    "start_time": "2021-11-16T12:19:55.885Z"
   },
   {
    "duration": 136,
    "start_time": "2021-11-16T12:22:31.553Z"
   },
   {
    "duration": 23,
    "start_time": "2021-11-16T12:22:38.024Z"
   },
   {
    "duration": 33,
    "start_time": "2021-11-16T12:24:15.625Z"
   },
   {
    "duration": 46,
    "start_time": "2021-11-16T12:24:31.129Z"
   },
   {
    "duration": 181,
    "start_time": "2021-11-16T12:25:08.692Z"
   },
   {
    "duration": 397,
    "start_time": "2021-11-16T12:26:34.789Z"
   },
   {
    "duration": 152,
    "start_time": "2021-11-16T12:27:14.879Z"
   },
   {
    "duration": 487,
    "start_time": "2021-11-16T12:27:23.028Z"
   },
   {
    "duration": 426,
    "start_time": "2021-11-16T12:27:55.747Z"
   },
   {
    "duration": 26,
    "start_time": "2021-11-16T12:28:02.472Z"
   },
   {
    "duration": 151,
    "start_time": "2021-11-16T12:28:25.705Z"
   },
   {
    "duration": 52,
    "start_time": "2021-11-16T12:28:34.748Z"
   },
   {
    "duration": 34,
    "start_time": "2021-11-16T12:34:00.069Z"
   },
   {
    "duration": 25,
    "start_time": "2021-11-16T12:39:09.543Z"
   },
   {
    "duration": 21,
    "start_time": "2021-11-16T12:40:12.427Z"
   },
   {
    "duration": 34,
    "start_time": "2021-11-16T12:40:50.434Z"
   },
   {
    "duration": 41,
    "start_time": "2021-11-16T12:41:06.727Z"
   },
   {
    "duration": 47,
    "start_time": "2021-11-16T12:41:17.667Z"
   },
   {
    "duration": 26,
    "start_time": "2021-11-16T12:44:42.830Z"
   },
   {
    "duration": 411,
    "start_time": "2021-11-16T13:07:43.265Z"
   },
   {
    "duration": 429,
    "start_time": "2021-11-16T13:08:13.101Z"
   },
   {
    "duration": 32,
    "start_time": "2021-11-16T13:08:41.622Z"
   },
   {
    "duration": 36,
    "start_time": "2021-11-16T13:11:35.162Z"
   },
   {
    "duration": 902,
    "start_time": "2021-11-16T13:11:42.430Z"
   },
   {
    "duration": 47,
    "start_time": "2021-11-16T13:11:43.334Z"
   },
   {
    "duration": 39,
    "start_time": "2021-11-16T13:11:43.385Z"
   },
   {
    "duration": 50,
    "start_time": "2021-11-16T13:11:43.428Z"
   },
   {
    "duration": 21,
    "start_time": "2021-11-16T13:11:43.481Z"
   },
   {
    "duration": 54,
    "start_time": "2021-11-16T13:11:43.505Z"
   },
   {
    "duration": 180,
    "start_time": "2021-11-16T13:11:43.562Z"
   },
   {
    "duration": 29,
    "start_time": "2021-11-16T13:11:43.746Z"
   },
   {
    "duration": 15,
    "start_time": "2021-11-16T13:11:43.779Z"
   },
   {
    "duration": 20,
    "start_time": "2021-11-16T13:11:43.797Z"
   },
   {
    "duration": 58,
    "start_time": "2021-11-16T13:11:43.820Z"
   },
   {
    "duration": 88,
    "start_time": "2021-11-16T13:11:43.881Z"
   },
   {
    "duration": 46,
    "start_time": "2021-11-16T13:11:43.971Z"
   },
   {
    "duration": 1063,
    "start_time": "2021-11-16T13:11:44.020Z"
   },
   {
    "duration": 42162,
    "start_time": "2021-11-16T13:11:45.086Z"
   },
   {
    "duration": 159,
    "start_time": "2021-11-16T13:12:27.251Z"
   },
   {
    "duration": -646,
    "start_time": "2021-11-16T13:12:28.059Z"
   },
   {
    "duration": -652,
    "start_time": "2021-11-16T13:12:28.067Z"
   },
   {
    "duration": 27,
    "start_time": "2021-11-16T13:12:38.332Z"
   },
   {
    "duration": 507,
    "start_time": "2021-11-16T13:47:34.772Z"
   },
   {
    "duration": 27,
    "start_time": "2021-11-16T13:49:16.025Z"
   },
   {
    "duration": 33,
    "start_time": "2021-11-16T13:50:31.420Z"
   },
   {
    "duration": 23,
    "start_time": "2021-11-16T13:50:47.908Z"
   },
   {
    "duration": 25,
    "start_time": "2021-11-16T13:54:26.252Z"
   },
   {
    "duration": 1801,
    "start_time": "2021-11-16T14:09:02.850Z"
   },
   {
    "duration": 1047,
    "start_time": "2021-11-16T14:10:27.923Z"
   },
   {
    "duration": 973,
    "start_time": "2021-11-16T14:11:53.472Z"
   },
   {
    "duration": 28,
    "start_time": "2021-11-16T14:12:37.712Z"
   },
   {
    "duration": 418,
    "start_time": "2021-11-16T14:13:50.985Z"
   },
   {
    "duration": 25,
    "start_time": "2021-11-16T14:14:06.395Z"
   },
   {
    "duration": 26,
    "start_time": "2021-11-16T14:15:49.267Z"
   },
   {
    "duration": 33,
    "start_time": "2021-11-16T14:15:56.005Z"
   },
   {
    "duration": 980,
    "start_time": "2021-11-16T14:16:03.640Z"
   },
   {
    "duration": 45,
    "start_time": "2021-11-16T14:16:04.623Z"
   },
   {
    "duration": 53,
    "start_time": "2021-11-16T14:16:04.672Z"
   },
   {
    "duration": 49,
    "start_time": "2021-11-16T14:16:04.730Z"
   },
   {
    "duration": 31,
    "start_time": "2021-11-16T14:16:04.782Z"
   },
   {
    "duration": 55,
    "start_time": "2021-11-16T14:16:04.816Z"
   },
   {
    "duration": 268,
    "start_time": "2021-11-16T14:16:04.874Z"
   },
   {
    "duration": 39,
    "start_time": "2021-11-16T14:16:05.145Z"
   },
   {
    "duration": 13,
    "start_time": "2021-11-16T14:16:05.187Z"
   },
   {
    "duration": 24,
    "start_time": "2021-11-16T14:16:05.203Z"
   },
   {
    "duration": 53,
    "start_time": "2021-11-16T14:16:05.230Z"
   },
   {
    "duration": 85,
    "start_time": "2021-11-16T14:16:05.286Z"
   },
   {
    "duration": 52,
    "start_time": "2021-11-16T14:16:05.374Z"
   },
   {
    "duration": 1386,
    "start_time": "2021-11-16T14:16:05.430Z"
   },
   {
    "duration": 37630,
    "start_time": "2021-11-16T14:16:06.820Z"
   },
   {
    "duration": 45,
    "start_time": "2021-11-16T14:16:44.453Z"
   },
   {
    "duration": 59,
    "start_time": "2021-11-16T14:16:44.500Z"
   },
   {
    "duration": 34,
    "start_time": "2021-11-16T14:16:44.563Z"
   },
   {
    "duration": 13,
    "start_time": "2021-11-16T14:18:13.308Z"
   },
   {
    "duration": 15,
    "start_time": "2021-11-16T14:18:25.412Z"
   },
   {
    "duration": 41,
    "start_time": "2021-11-16T14:21:11.936Z"
   },
   {
    "duration": 24,
    "start_time": "2021-11-16T14:21:37.321Z"
   },
   {
    "duration": 20,
    "start_time": "2021-11-16T14:22:21.297Z"
   },
   {
    "duration": 533,
    "start_time": "2021-11-16T14:35:13.548Z"
   },
   {
    "duration": 384,
    "start_time": "2021-11-16T14:35:41.189Z"
   },
   {
    "duration": 1046,
    "start_time": "2021-11-16T14:35:54.664Z"
   },
   {
    "duration": 58,
    "start_time": "2021-11-16T14:35:55.713Z"
   },
   {
    "duration": 51,
    "start_time": "2021-11-16T14:35:55.775Z"
   },
   {
    "duration": 42,
    "start_time": "2021-11-16T14:35:55.829Z"
   },
   {
    "duration": 21,
    "start_time": "2021-11-16T14:35:55.874Z"
   },
   {
    "duration": 17,
    "start_time": "2021-11-16T14:35:55.897Z"
   },
   {
    "duration": 216,
    "start_time": "2021-11-16T14:35:55.918Z"
   },
   {
    "duration": 35,
    "start_time": "2021-11-16T14:35:56.139Z"
   },
   {
    "duration": 15,
    "start_time": "2021-11-16T14:35:56.178Z"
   },
   {
    "duration": 19,
    "start_time": "2021-11-16T14:35:56.196Z"
   },
   {
    "duration": 58,
    "start_time": "2021-11-16T14:35:56.218Z"
   },
   {
    "duration": 51,
    "start_time": "2021-11-16T14:35:56.278Z"
   },
   {
    "duration": 35,
    "start_time": "2021-11-16T14:35:56.359Z"
   },
   {
    "duration": 973,
    "start_time": "2021-11-16T14:35:56.397Z"
   },
   {
    "duration": 30846,
    "start_time": "2021-11-16T14:35:57.373Z"
   },
   {
    "duration": 51,
    "start_time": "2021-11-16T14:36:28.222Z"
   },
   {
    "duration": 480,
    "start_time": "2021-11-16T14:36:28.276Z"
   },
   {
    "duration": -801,
    "start_time": "2021-11-16T14:36:29.561Z"
   },
   {
    "duration": 28,
    "start_time": "2021-11-16T14:37:49.010Z"
   },
   {
    "duration": 392,
    "start_time": "2021-11-16T14:37:55.273Z"
   },
   {
    "duration": 414,
    "start_time": "2021-11-16T14:39:37.660Z"
   },
   {
    "duration": 417,
    "start_time": "2021-11-16T14:40:53.352Z"
   },
   {
    "duration": 920,
    "start_time": "2021-11-16T14:41:45.124Z"
   },
   {
    "duration": 53,
    "start_time": "2021-11-16T14:41:46.046Z"
   },
   {
    "duration": 64,
    "start_time": "2021-11-16T14:41:46.102Z"
   },
   {
    "duration": 30,
    "start_time": "2021-11-16T14:41:46.170Z"
   },
   {
    "duration": 23,
    "start_time": "2021-11-16T14:41:46.203Z"
   },
   {
    "duration": 41,
    "start_time": "2021-11-16T14:41:46.260Z"
   },
   {
    "duration": 192,
    "start_time": "2021-11-16T14:41:46.304Z"
   },
   {
    "duration": 23,
    "start_time": "2021-11-16T14:41:46.500Z"
   },
   {
    "duration": 42,
    "start_time": "2021-11-16T14:41:46.526Z"
   },
   {
    "duration": 18,
    "start_time": "2021-11-16T14:41:46.573Z"
   },
   {
    "duration": 20,
    "start_time": "2021-11-16T14:41:46.594Z"
   },
   {
    "duration": 101,
    "start_time": "2021-11-16T14:41:46.616Z"
   },
   {
    "duration": 67,
    "start_time": "2021-11-16T14:41:46.720Z"
   },
   {
    "duration": 1127,
    "start_time": "2021-11-16T14:41:46.790Z"
   },
   {
    "duration": 34123,
    "start_time": "2021-11-16T14:41:47.920Z"
   },
   {
    "duration": 41,
    "start_time": "2021-11-16T14:42:22.045Z"
   },
   {
    "duration": 526,
    "start_time": "2021-11-16T14:42:22.088Z"
   },
   {
    "duration": 32,
    "start_time": "2021-11-16T14:43:39.458Z"
   },
   {
    "duration": 27,
    "start_time": "2021-11-16T14:48:26.992Z"
   },
   {
    "duration": 50,
    "start_time": "2021-11-16T14:52:13.797Z"
   },
   {
    "duration": 483,
    "start_time": "2021-11-16T14:56:01.897Z"
   },
   {
    "duration": 48,
    "start_time": "2021-11-16T14:56:21.685Z"
   },
   {
    "duration": 414,
    "start_time": "2021-11-16T14:59:50.370Z"
   },
   {
    "duration": 417,
    "start_time": "2021-11-16T15:00:08.089Z"
   },
   {
    "duration": 22,
    "start_time": "2021-11-16T15:00:18.919Z"
   },
   {
    "duration": 38,
    "start_time": "2021-11-16T15:03:14.596Z"
   },
   {
    "duration": 39,
    "start_time": "2021-11-16T15:03:23.440Z"
   },
   {
    "duration": 49,
    "start_time": "2021-11-16T15:03:59.553Z"
   },
   {
    "duration": 55,
    "start_time": "2021-11-16T15:04:26.315Z"
   },
   {
    "duration": 53,
    "start_time": "2021-11-16T15:04:58.401Z"
   },
   {
    "duration": 34,
    "start_time": "2021-11-16T15:07:43.684Z"
   },
   {
    "duration": 25,
    "start_time": "2021-11-16T15:23:01.631Z"
   },
   {
    "duration": 33,
    "start_time": "2021-11-16T15:23:22.160Z"
   },
   {
    "duration": 22,
    "start_time": "2021-11-16T15:26:18.358Z"
   },
   {
    "duration": 27,
    "start_time": "2021-11-16T15:29:25.229Z"
   },
   {
    "duration": 24,
    "start_time": "2021-11-16T15:30:04.488Z"
   },
   {
    "duration": 125,
    "start_time": "2021-11-16T15:31:27.800Z"
   },
   {
    "duration": 67,
    "start_time": "2021-11-16T15:31:33.651Z"
   },
   {
    "duration": 33,
    "start_time": "2021-11-16T15:31:56.152Z"
   },
   {
    "duration": 30,
    "start_time": "2021-11-16T15:32:12.556Z"
   },
   {
    "duration": 216,
    "start_time": "2021-11-16T15:35:37.433Z"
   },
   {
    "duration": 526,
    "start_time": "2021-11-16T15:36:28.456Z"
   },
   {
    "duration": 343,
    "start_time": "2021-11-16T15:37:07.343Z"
   },
   {
    "duration": 165,
    "start_time": "2021-11-16T15:37:38.560Z"
   },
   {
    "duration": 543,
    "start_time": "2021-11-16T15:38:59.122Z"
   },
   {
    "duration": 126,
    "start_time": "2021-11-16T15:39:22.049Z"
   },
   {
    "duration": 111,
    "start_time": "2021-11-16T15:40:08.903Z"
   },
   {
    "duration": 165,
    "start_time": "2021-11-16T15:40:38.265Z"
   },
   {
    "duration": 1917,
    "start_time": "2021-11-16T15:57:08.257Z"
   },
   {
    "duration": 1547,
    "start_time": "2021-11-16T15:59:24.367Z"
   },
   {
    "duration": 1423,
    "start_time": "2021-11-16T15:59:45.130Z"
   },
   {
    "duration": 591,
    "start_time": "2021-11-16T16:01:46.471Z"
   },
   {
    "duration": 496,
    "start_time": "2021-11-16T16:03:16.783Z"
   },
   {
    "duration": 723,
    "start_time": "2021-11-16T16:03:29.626Z"
   },
   {
    "duration": 729,
    "start_time": "2021-11-16T16:05:48.370Z"
   },
   {
    "duration": 709,
    "start_time": "2021-11-16T16:06:53.442Z"
   },
   {
    "duration": 712,
    "start_time": "2021-11-16T16:07:26.738Z"
   },
   {
    "duration": 1075,
    "start_time": "2021-11-16T16:07:54.091Z"
   },
   {
    "duration": 704,
    "start_time": "2021-11-16T16:32:26.065Z"
   },
   {
    "duration": 694,
    "start_time": "2021-11-16T16:32:32.627Z"
   },
   {
    "duration": 1417,
    "start_time": "2021-11-16T16:33:22.622Z"
   },
   {
    "duration": 1381,
    "start_time": "2021-11-16T16:35:17.497Z"
   },
   {
    "duration": 1247,
    "start_time": "2021-11-16T16:36:41.110Z"
   },
   {
    "duration": 879,
    "start_time": "2021-11-16T16:37:38.193Z"
   },
   {
    "duration": 1348,
    "start_time": "2021-11-16T16:38:56.099Z"
   },
   {
    "duration": 397,
    "start_time": "2021-11-16T16:41:57.244Z"
   },
   {
    "duration": 1273,
    "start_time": "2021-11-16T16:42:33.166Z"
   },
   {
    "duration": 1272,
    "start_time": "2021-11-16T16:43:25.680Z"
   },
   {
    "duration": 32,
    "start_time": "2021-11-16T16:49:03.423Z"
   },
   {
    "duration": 34,
    "start_time": "2021-11-16T16:49:22.526Z"
   },
   {
    "duration": 139,
    "start_time": "2021-11-16T16:51:46.844Z"
   },
   {
    "duration": 493,
    "start_time": "2021-11-16T16:51:55.620Z"
   },
   {
    "duration": 1342,
    "start_time": "2021-11-16T16:52:18.624Z"
   },
   {
    "duration": 1302,
    "start_time": "2021-11-16T16:55:31.629Z"
   },
   {
    "duration": 1239,
    "start_time": "2021-11-16T16:56:53.623Z"
   },
   {
    "duration": 440,
    "start_time": "2021-11-16T16:57:30.390Z"
   },
   {
    "duration": 1256,
    "start_time": "2021-11-16T16:58:00.194Z"
   },
   {
    "duration": 1219,
    "start_time": "2021-11-16T16:59:19.355Z"
   },
   {
    "duration": 1224,
    "start_time": "2021-11-16T16:59:31.976Z"
   },
   {
    "duration": 1394,
    "start_time": "2021-11-16T17:00:06.158Z"
   },
   {
    "duration": 1206,
    "start_time": "2021-11-16T17:01:36.836Z"
   },
   {
    "duration": 942,
    "start_time": "2021-11-17T06:35:45.738Z"
   },
   {
    "duration": 47,
    "start_time": "2021-11-17T06:35:46.682Z"
   },
   {
    "duration": 36,
    "start_time": "2021-11-17T06:35:46.732Z"
   },
   {
    "duration": 47,
    "start_time": "2021-11-17T06:35:46.770Z"
   },
   {
    "duration": 20,
    "start_time": "2021-11-17T06:35:46.821Z"
   },
   {
    "duration": 17,
    "start_time": "2021-11-17T06:35:46.843Z"
   },
   {
    "duration": 232,
    "start_time": "2021-11-17T06:35:46.863Z"
   },
   {
    "duration": 30,
    "start_time": "2021-11-17T06:35:47.098Z"
   },
   {
    "duration": 13,
    "start_time": "2021-11-17T06:35:47.132Z"
   },
   {
    "duration": 53,
    "start_time": "2021-11-17T06:35:47.148Z"
   },
   {
    "duration": 24,
    "start_time": "2021-11-17T06:35:47.204Z"
   },
   {
    "duration": 94,
    "start_time": "2021-11-17T06:35:47.230Z"
   },
   {
    "duration": 36,
    "start_time": "2021-11-17T06:35:47.327Z"
   },
   {
    "duration": 1055,
    "start_time": "2021-11-17T06:35:47.366Z"
   },
   {
    "duration": 31592,
    "start_time": "2021-11-17T06:35:48.424Z"
   },
   {
    "duration": 35,
    "start_time": "2021-11-17T06:36:20.020Z"
   },
   {
    "duration": 45,
    "start_time": "2021-11-17T06:36:20.057Z"
   },
   {
    "duration": 24,
    "start_time": "2021-11-17T06:36:20.105Z"
   },
   {
    "duration": 2295,
    "start_time": "2021-11-17T06:36:20.131Z"
   },
   {
    "duration": 23,
    "start_time": "2021-11-17T06:36:22.429Z"
   },
   {
    "duration": 26,
    "start_time": "2021-11-17T06:37:15.638Z"
   },
   {
    "duration": 25,
    "start_time": "2021-11-17T06:38:03.775Z"
   },
   {
    "duration": 25,
    "start_time": "2021-11-17T06:38:59.599Z"
   },
   {
    "duration": 30,
    "start_time": "2021-11-17T06:40:03.965Z"
   },
   {
    "duration": 32,
    "start_time": "2021-11-17T06:40:33.503Z"
   },
   {
    "duration": 27,
    "start_time": "2021-11-17T06:41:03.547Z"
   },
   {
    "duration": 45,
    "start_time": "2021-11-17T06:42:12.597Z"
   },
   {
    "duration": 19,
    "start_time": "2021-11-17T06:44:18.145Z"
   },
   {
    "duration": 141,
    "start_time": "2021-11-17T06:46:42.941Z"
   },
   {
    "duration": 64,
    "start_time": "2021-11-17T06:47:36.015Z"
   },
   {
    "duration": 59,
    "start_time": "2021-11-17T06:47:59.125Z"
   },
   {
    "duration": 19,
    "start_time": "2021-11-17T06:48:05.467Z"
   },
   {
    "duration": 880,
    "start_time": "2021-11-17T06:48:16.896Z"
   },
   {
    "duration": 43,
    "start_time": "2021-11-17T06:48:17.779Z"
   },
   {
    "duration": 75,
    "start_time": "2021-11-17T06:48:17.829Z"
   },
   {
    "duration": 25,
    "start_time": "2021-11-17T06:48:17.907Z"
   },
   {
    "duration": 22,
    "start_time": "2021-11-17T06:48:17.935Z"
   },
   {
    "duration": 52,
    "start_time": "2021-11-17T06:48:17.960Z"
   },
   {
    "duration": 41,
    "start_time": "2021-11-17T06:48:18.018Z"
   },
   {
    "duration": 49,
    "start_time": "2021-11-17T06:48:18.062Z"
   },
   {
    "duration": 15,
    "start_time": "2021-11-17T06:48:18.113Z"
   },
   {
    "duration": 15,
    "start_time": "2021-11-17T06:48:18.130Z"
   },
   {
    "duration": 492,
    "start_time": "2021-11-17T06:48:18.147Z"
   },
   {
    "duration": -1385,
    "start_time": "2021-11-17T06:48:20.027Z"
   },
   {
    "duration": -1394,
    "start_time": "2021-11-17T06:48:20.037Z"
   },
   {
    "duration": -1402,
    "start_time": "2021-11-17T06:48:20.046Z"
   },
   {
    "duration": -1412,
    "start_time": "2021-11-17T06:48:20.058Z"
   },
   {
    "duration": -1415,
    "start_time": "2021-11-17T06:48:20.062Z"
   },
   {
    "duration": -1418,
    "start_time": "2021-11-17T06:48:20.067Z"
   },
   {
    "duration": -1429,
    "start_time": "2021-11-17T06:48:20.079Z"
   },
   {
    "duration": -1440,
    "start_time": "2021-11-17T06:48:20.091Z"
   },
   {
    "duration": -1442,
    "start_time": "2021-11-17T06:48:20.095Z"
   },
   {
    "duration": 192,
    "start_time": "2021-11-17T06:49:22.514Z"
   },
   {
    "duration": 20,
    "start_time": "2021-11-17T06:49:24.133Z"
   },
   {
    "duration": 896,
    "start_time": "2021-11-17T06:50:17.837Z"
   },
   {
    "duration": 33,
    "start_time": "2021-11-17T06:50:18.736Z"
   },
   {
    "duration": 56,
    "start_time": "2021-11-17T06:50:18.773Z"
   },
   {
    "duration": 23,
    "start_time": "2021-11-17T06:50:18.832Z"
   },
   {
    "duration": 59,
    "start_time": "2021-11-17T06:50:18.858Z"
   },
   {
    "duration": 20,
    "start_time": "2021-11-17T06:50:18.920Z"
   },
   {
    "duration": 225,
    "start_time": "2021-11-17T06:50:18.943Z"
   },
   {
    "duration": 28,
    "start_time": "2021-11-17T06:50:19.172Z"
   },
   {
    "duration": 13,
    "start_time": "2021-11-17T06:50:19.203Z"
   },
   {
    "duration": 15,
    "start_time": "2021-11-17T06:50:19.219Z"
   },
   {
    "duration": 20,
    "start_time": "2021-11-17T06:50:19.236Z"
   },
   {
    "duration": 94,
    "start_time": "2021-11-17T06:50:19.258Z"
   },
   {
    "duration": 60,
    "start_time": "2021-11-17T06:50:19.355Z"
   },
   {
    "duration": 1088,
    "start_time": "2021-11-17T06:50:19.418Z"
   },
   {
    "duration": 29502,
    "start_time": "2021-11-17T06:50:20.508Z"
   },
   {
    "duration": 32,
    "start_time": "2021-11-17T06:50:50.012Z"
   },
   {
    "duration": 27,
    "start_time": "2021-11-17T06:50:50.046Z"
   },
   {
    "duration": 39,
    "start_time": "2021-11-17T06:50:50.076Z"
   },
   {
    "duration": 2092,
    "start_time": "2021-11-17T06:50:50.117Z"
   },
   {
    "duration": 22,
    "start_time": "2021-11-17T06:50:52.211Z"
   },
   {
    "duration": 180,
    "start_time": "2021-11-17T07:06:14.109Z"
   },
   {
    "duration": 27,
    "start_time": "2021-11-17T07:06:18.109Z"
   },
   {
    "duration": 6,
    "start_time": "2021-11-17T07:22:26.642Z"
   },
   {
    "duration": 540,
    "start_time": "2021-11-17T07:22:59.618Z"
   },
   {
    "duration": 8,
    "start_time": "2021-11-17T07:23:22.325Z"
   },
   {
    "duration": 8,
    "start_time": "2021-11-17T07:24:28.733Z"
   },
   {
    "duration": 7,
    "start_time": "2021-11-17T07:26:34.568Z"
   },
   {
    "duration": 420,
    "start_time": "2021-11-17T07:28:52.151Z"
   },
   {
    "duration": 9,
    "start_time": "2021-11-17T07:28:59.800Z"
   },
   {
    "duration": 133,
    "start_time": "2021-11-17T07:31:50.240Z"
   },
   {
    "duration": 7,
    "start_time": "2021-11-17T07:32:07.116Z"
   },
   {
    "duration": 79,
    "start_time": "2021-11-17T07:41:38.509Z"
   },
   {
    "duration": 81,
    "start_time": "2021-11-17T07:41:49.540Z"
   },
   {
    "duration": 7,
    "start_time": "2021-11-17T07:47:16.804Z"
   },
   {
    "duration": 144,
    "start_time": "2021-11-17T07:47:53.713Z"
   },
   {
    "duration": 130,
    "start_time": "2021-11-17T07:49:12.499Z"
   },
   {
    "duration": 6,
    "start_time": "2021-11-17T07:49:38.168Z"
   },
   {
    "duration": 8,
    "start_time": "2021-11-17T07:54:59.381Z"
   },
   {
    "duration": 16,
    "start_time": "2021-11-17T07:57:41.188Z"
   },
   {
    "duration": 15,
    "start_time": "2021-11-17T07:57:56.220Z"
   },
   {
    "duration": 17,
    "start_time": "2021-11-17T08:02:03.148Z"
   },
   {
    "duration": 16,
    "start_time": "2021-11-17T08:02:29.930Z"
   },
   {
    "duration": 16,
    "start_time": "2021-11-17T08:02:51.793Z"
   },
   {
    "duration": 13,
    "start_time": "2021-11-17T08:03:09.306Z"
   },
   {
    "duration": 12,
    "start_time": "2021-11-17T08:03:36.147Z"
   },
   {
    "duration": 172,
    "start_time": "2021-11-17T08:03:58.475Z"
   },
   {
    "duration": 12,
    "start_time": "2021-11-17T08:04:05.757Z"
   },
   {
    "duration": 6,
    "start_time": "2021-11-17T08:04:07.957Z"
   },
   {
    "duration": 12,
    "start_time": "2021-11-17T08:04:10.523Z"
   },
   {
    "duration": 11,
    "start_time": "2021-11-17T08:07:49.475Z"
   },
   {
    "duration": 4,
    "start_time": "2021-11-17T08:08:28.039Z"
   },
   {
    "duration": 5,
    "start_time": "2021-11-17T08:08:30.882Z"
   },
   {
    "duration": 18,
    "start_time": "2021-11-17T08:09:29.705Z"
   },
   {
    "duration": 15,
    "start_time": "2021-11-17T08:09:58.166Z"
   },
   {
    "duration": 19,
    "start_time": "2021-11-17T08:11:10.511Z"
   },
   {
    "duration": 11,
    "start_time": "2021-11-17T08:15:22.978Z"
   },
   {
    "duration": 427,
    "start_time": "2021-11-17T08:16:58.064Z"
   },
   {
    "duration": 17,
    "start_time": "2021-11-17T08:17:32.097Z"
   },
   {
    "duration": 30,
    "start_time": "2021-11-17T08:24:44.540Z"
   },
   {
    "duration": 21,
    "start_time": "2021-11-17T08:25:28.331Z"
   },
   {
    "duration": 30,
    "start_time": "2021-11-17T08:28:54.461Z"
   },
   {
    "duration": 40,
    "start_time": "2021-11-17T08:29:06.815Z"
   },
   {
    "duration": 12,
    "start_time": "2021-11-17T08:29:07.674Z"
   },
   {
    "duration": 22,
    "start_time": "2021-11-17T08:29:12.678Z"
   },
   {
    "duration": 9,
    "start_time": "2021-11-17T08:30:52.999Z"
   },
   {
    "duration": 193,
    "start_time": "2021-11-17T08:31:03.305Z"
   },
   {
    "duration": 21,
    "start_time": "2021-11-17T08:31:06.179Z"
   },
   {
    "duration": 216,
    "start_time": "2021-11-17T08:31:22.157Z"
   },
   {
    "duration": 100,
    "start_time": "2021-11-17T08:32:33.729Z"
   },
   {
    "duration": 66,
    "start_time": "2021-11-17T08:33:12.129Z"
   },
   {
    "duration": 26,
    "start_time": "2021-11-17T08:33:24.491Z"
   },
   {
    "duration": 13,
    "start_time": "2021-11-17T08:35:20.752Z"
   },
   {
    "duration": 71,
    "start_time": "2021-11-17T08:59:02.291Z"
   },
   {
    "duration": 61,
    "start_time": "2021-11-17T09:00:07.157Z"
   },
   {
    "duration": 44,
    "start_time": "2021-11-17T09:00:27.559Z"
   },
   {
    "duration": 125,
    "start_time": "2021-11-17T09:07:18.359Z"
   },
   {
    "duration": 35,
    "start_time": "2021-11-17T09:07:35.163Z"
   },
   {
    "duration": 99,
    "start_time": "2021-11-17T09:09:11.969Z"
   },
   {
    "duration": 37,
    "start_time": "2021-11-17T09:09:15.545Z"
   },
   {
    "duration": 356,
    "start_time": "2021-11-17T09:12:41.743Z"
   },
   {
    "duration": 387,
    "start_time": "2021-11-17T09:13:03.218Z"
   },
   {
    "duration": 353,
    "start_time": "2021-11-17T09:13:12.653Z"
   },
   {
    "duration": 7,
    "start_time": "2021-11-17T09:13:27.094Z"
   },
   {
    "duration": 126,
    "start_time": "2021-11-17T09:13:56.189Z"
   },
   {
    "duration": 124,
    "start_time": "2021-11-17T09:14:09.221Z"
   },
   {
    "duration": 369,
    "start_time": "2021-11-17T09:17:41.290Z"
   },
   {
    "duration": 23,
    "start_time": "2021-11-17T09:18:22.313Z"
   },
   {
    "duration": 531,
    "start_time": "2021-11-17T09:18:42.020Z"
   },
   {
    "duration": 11,
    "start_time": "2021-11-17T09:18:53.323Z"
   },
   {
    "duration": 9,
    "start_time": "2021-11-17T09:19:06.153Z"
   },
   {
    "duration": -1601,
    "start_time": "2021-11-17T09:23:53.401Z"
   },
   {
    "duration": 916,
    "start_time": "2021-11-17T09:24:12.082Z"
   },
   {
    "duration": 39,
    "start_time": "2021-11-17T09:24:13.001Z"
   },
   {
    "duration": 8657,
    "start_time": "2021-11-17T09:24:13.044Z"
   },
   {
    "duration": -1622,
    "start_time": "2021-11-17T09:24:23.329Z"
   },
   {
    "duration": -1627,
    "start_time": "2021-11-17T09:24:23.336Z"
   },
   {
    "duration": -1630,
    "start_time": "2021-11-17T09:24:23.342Z"
   },
   {
    "duration": -1635,
    "start_time": "2021-11-17T09:24:23.350Z"
   },
   {
    "duration": -1637,
    "start_time": "2021-11-17T09:24:23.354Z"
   },
   {
    "duration": -1639,
    "start_time": "2021-11-17T09:24:23.359Z"
   },
   {
    "duration": -1642,
    "start_time": "2021-11-17T09:24:23.364Z"
   },
   {
    "duration": -1644,
    "start_time": "2021-11-17T09:24:23.368Z"
   },
   {
    "duration": -1648,
    "start_time": "2021-11-17T09:24:23.373Z"
   },
   {
    "duration": -1649,
    "start_time": "2021-11-17T09:24:23.376Z"
   },
   {
    "duration": -1655,
    "start_time": "2021-11-17T09:24:23.384Z"
   },
   {
    "duration": -1659,
    "start_time": "2021-11-17T09:24:23.389Z"
   },
   {
    "duration": -1661,
    "start_time": "2021-11-17T09:24:23.393Z"
   },
   {
    "duration": -1673,
    "start_time": "2021-11-17T09:24:23.407Z"
   },
   {
    "duration": -1679,
    "start_time": "2021-11-17T09:24:23.414Z"
   },
   {
    "duration": -1681,
    "start_time": "2021-11-17T09:24:23.418Z"
   },
   {
    "duration": -1684,
    "start_time": "2021-11-17T09:24:23.422Z"
   },
   {
    "duration": -1687,
    "start_time": "2021-11-17T09:24:23.426Z"
   },
   {
    "duration": -1690,
    "start_time": "2021-11-17T09:24:23.431Z"
   },
   {
    "duration": -1700,
    "start_time": "2021-11-17T09:24:23.442Z"
   },
   {
    "duration": 9944,
    "start_time": "2021-11-17T09:25:10.466Z"
   },
   {
    "duration": 10,
    "start_time": "2021-11-17T09:25:44.932Z"
   },
   {
    "duration": 993,
    "start_time": "2021-11-17T09:27:32.184Z"
   },
   {
    "duration": 47,
    "start_time": "2021-11-17T09:27:33.179Z"
   },
   {
    "duration": 10,
    "start_time": "2021-11-17T09:27:33.230Z"
   },
   {
    "duration": 78,
    "start_time": "2021-11-17T09:27:33.244Z"
   },
   {
    "duration": 20,
    "start_time": "2021-11-17T09:27:33.324Z"
   },
   {
    "duration": 21,
    "start_time": "2021-11-17T09:27:33.347Z"
   },
   {
    "duration": 49,
    "start_time": "2021-11-17T09:27:33.370Z"
   },
   {
    "duration": 18,
    "start_time": "2021-11-17T09:27:33.425Z"
   },
   {
    "duration": 4,
    "start_time": "2021-11-17T09:27:33.447Z"
   },
   {
    "duration": 55,
    "start_time": "2021-11-17T09:27:33.454Z"
   },
   {
    "duration": 30,
    "start_time": "2021-11-17T09:27:33.512Z"
   },
   {
    "duration": 12,
    "start_time": "2021-11-17T09:27:33.544Z"
   },
   {
    "duration": 48,
    "start_time": "2021-11-17T09:27:33.558Z"
   },
   {
    "duration": 447,
    "start_time": "2021-11-17T09:27:33.609Z"
   },
   {
    "duration": -1636,
    "start_time": "2021-11-17T09:27:35.695Z"
   },
   {
    "duration": -1666,
    "start_time": "2021-11-17T09:27:35.726Z"
   },
   {
    "duration": -1669,
    "start_time": "2021-11-17T09:27:35.731Z"
   },
   {
    "duration": -1671,
    "start_time": "2021-11-17T09:27:35.734Z"
   },
   {
    "duration": -1674,
    "start_time": "2021-11-17T09:27:35.738Z"
   },
   {
    "duration": -1676,
    "start_time": "2021-11-17T09:27:35.742Z"
   },
   {
    "duration": -1679,
    "start_time": "2021-11-17T09:27:35.746Z"
   },
   {
    "duration": -1681,
    "start_time": "2021-11-17T09:27:35.750Z"
   },
   {
    "duration": -1683,
    "start_time": "2021-11-17T09:27:35.753Z"
   },
   {
    "duration": 13,
    "start_time": "2021-11-17T09:32:38.717Z"
   },
   {
    "duration": 9,
    "start_time": "2021-11-17T09:42:11.404Z"
   },
   {
    "duration": 2,
    "start_time": "2021-11-17T09:42:49.801Z"
   },
   {
    "duration": 891,
    "start_time": "2021-11-17T09:42:58.208Z"
   },
   {
    "duration": 35,
    "start_time": "2021-11-17T09:42:59.102Z"
   },
   {
    "duration": 11,
    "start_time": "2021-11-17T09:42:59.140Z"
   },
   {
    "duration": 67,
    "start_time": "2021-11-17T09:42:59.154Z"
   },
   {
    "duration": 21,
    "start_time": "2021-11-17T09:42:59.223Z"
   },
   {
    "duration": 20,
    "start_time": "2021-11-17T09:42:59.246Z"
   },
   {
    "duration": 48,
    "start_time": "2021-11-17T09:42:59.268Z"
   },
   {
    "duration": 20,
    "start_time": "2021-11-17T09:42:59.322Z"
   },
   {
    "duration": 3,
    "start_time": "2021-11-17T09:42:59.346Z"
   },
   {
    "duration": 53,
    "start_time": "2021-11-17T09:42:59.352Z"
   },
   {
    "duration": 4,
    "start_time": "2021-11-17T09:42:59.407Z"
   },
   {
    "duration": 16,
    "start_time": "2021-11-17T09:42:59.414Z"
   },
   {
    "duration": 14,
    "start_time": "2021-11-17T09:42:59.433Z"
   },
   {
    "duration": 417,
    "start_time": "2021-11-17T09:42:59.450Z"
   },
   {
    "duration": -66,
    "start_time": "2021-11-17T09:42:59.936Z"
   },
   {
    "duration": -69,
    "start_time": "2021-11-17T09:42:59.941Z"
   },
   {
    "duration": -71,
    "start_time": "2021-11-17T09:42:59.944Z"
   },
   {
    "duration": -74,
    "start_time": "2021-11-17T09:42:59.948Z"
   },
   {
    "duration": -75,
    "start_time": "2021-11-17T09:42:59.951Z"
   },
   {
    "duration": -78,
    "start_time": "2021-11-17T09:42:59.955Z"
   },
   {
    "duration": -80,
    "start_time": "2021-11-17T09:42:59.958Z"
   },
   {
    "duration": -104,
    "start_time": "2021-11-17T09:42:59.984Z"
   },
   {
    "duration": -107,
    "start_time": "2021-11-17T09:42:59.988Z"
   },
   {
    "duration": 9,
    "start_time": "2021-11-17T09:43:40.663Z"
   },
   {
    "duration": 880,
    "start_time": "2021-11-17T09:44:25.792Z"
   },
   {
    "duration": 42,
    "start_time": "2021-11-17T09:44:26.675Z"
   },
   {
    "duration": 11,
    "start_time": "2021-11-17T09:44:26.720Z"
   },
   {
    "duration": 39,
    "start_time": "2021-11-17T09:44:26.733Z"
   },
   {
    "duration": 46,
    "start_time": "2021-11-17T09:44:26.774Z"
   },
   {
    "duration": 20,
    "start_time": "2021-11-17T09:44:26.823Z"
   },
   {
    "duration": 17,
    "start_time": "2021-11-17T09:44:26.846Z"
   },
   {
    "duration": 20,
    "start_time": "2021-11-17T09:44:26.901Z"
   },
   {
    "duration": 3,
    "start_time": "2021-11-17T09:44:26.924Z"
   },
   {
    "duration": 26,
    "start_time": "2021-11-17T09:44:26.930Z"
   },
   {
    "duration": 4,
    "start_time": "2021-11-17T09:44:26.959Z"
   },
   {
    "duration": 38,
    "start_time": "2021-11-17T09:44:26.966Z"
   },
   {
    "duration": 16,
    "start_time": "2021-11-17T09:44:27.007Z"
   },
   {
    "duration": 508,
    "start_time": "2021-11-17T09:44:27.026Z"
   },
   {
    "duration": -68,
    "start_time": "2021-11-17T09:44:27.606Z"
   },
   {
    "duration": -70,
    "start_time": "2021-11-17T09:44:27.610Z"
   },
   {
    "duration": -72,
    "start_time": "2021-11-17T09:44:27.614Z"
   },
   {
    "duration": -73,
    "start_time": "2021-11-17T09:44:27.617Z"
   },
   {
    "duration": -75,
    "start_time": "2021-11-17T09:44:27.621Z"
   },
   {
    "duration": -99,
    "start_time": "2021-11-17T09:44:27.647Z"
   },
   {
    "duration": -103,
    "start_time": "2021-11-17T09:44:27.653Z"
   },
   {
    "duration": -105,
    "start_time": "2021-11-17T09:44:27.658Z"
   },
   {
    "duration": -106,
    "start_time": "2021-11-17T09:44:27.661Z"
   },
   {
    "duration": 9,
    "start_time": "2021-11-17T09:45:23.900Z"
   },
   {
    "duration": 9,
    "start_time": "2021-11-17T09:47:27.380Z"
   },
   {
    "duration": 7,
    "start_time": "2021-11-17T09:47:44.031Z"
   },
   {
    "duration": 6,
    "start_time": "2021-11-17T09:48:56.188Z"
   },
   {
    "duration": 106,
    "start_time": "2021-11-17T09:50:46.800Z"
   },
   {
    "duration": 7,
    "start_time": "2021-11-17T09:50:53.784Z"
   },
   {
    "duration": 7,
    "start_time": "2021-11-17T09:52:52.301Z"
   },
   {
    "duration": 8,
    "start_time": "2021-11-17T09:54:09.207Z"
   },
   {
    "duration": 8,
    "start_time": "2021-11-17T09:54:33.873Z"
   },
   {
    "duration": 7,
    "start_time": "2021-11-17T09:54:57.235Z"
   },
   {
    "duration": 7,
    "start_time": "2021-11-17T09:55:05.197Z"
   },
   {
    "duration": 86,
    "start_time": "2021-11-17T09:55:12.333Z"
   },
   {
    "duration": 32,
    "start_time": "2021-11-17T09:55:14.047Z"
   },
   {
    "duration": 9,
    "start_time": "2021-11-17T09:55:15.275Z"
   },
   {
    "duration": 12,
    "start_time": "2021-11-17T09:55:58.016Z"
   },
   {
    "duration": 985,
    "start_time": "2021-11-17T09:57:02.566Z"
   },
   {
    "duration": 50,
    "start_time": "2021-11-17T09:57:03.555Z"
   },
   {
    "duration": 41,
    "start_time": "2021-11-17T09:57:03.614Z"
   },
   {
    "duration": 54,
    "start_time": "2021-11-17T09:57:03.657Z"
   },
   {
    "duration": 22,
    "start_time": "2021-11-17T09:57:03.713Z"
   },
   {
    "duration": 18,
    "start_time": "2021-11-17T09:57:03.738Z"
   },
   {
    "duration": 53,
    "start_time": "2021-11-17T09:57:03.760Z"
   },
   {
    "duration": 3,
    "start_time": "2021-11-17T09:57:03.816Z"
   },
   {
    "duration": 22,
    "start_time": "2021-11-17T09:57:03.821Z"
   },
   {
    "duration": 3,
    "start_time": "2021-11-17T09:57:03.845Z"
   },
   {
    "duration": 21,
    "start_time": "2021-11-17T09:57:03.850Z"
   },
   {
    "duration": 15,
    "start_time": "2021-11-17T09:57:03.900Z"
   },
   {
    "duration": 436,
    "start_time": "2021-11-17T09:57:03.918Z"
   },
   {
    "duration": -89,
    "start_time": "2021-11-17T09:57:04.446Z"
   },
   {
    "duration": -92,
    "start_time": "2021-11-17T09:57:04.450Z"
   },
   {
    "duration": -95,
    "start_time": "2021-11-17T09:57:04.454Z"
   },
   {
    "duration": -97,
    "start_time": "2021-11-17T09:57:04.458Z"
   },
   {
    "duration": -99,
    "start_time": "2021-11-17T09:57:04.462Z"
   },
   {
    "duration": -101,
    "start_time": "2021-11-17T09:57:04.465Z"
   },
   {
    "duration": -102,
    "start_time": "2021-11-17T09:57:04.468Z"
   },
   {
    "duration": -103,
    "start_time": "2021-11-17T09:57:04.471Z"
   },
   {
    "duration": -107,
    "start_time": "2021-11-17T09:57:04.476Z"
   },
   {
    "duration": 17,
    "start_time": "2021-11-17T10:02:26.007Z"
   },
   {
    "duration": 13,
    "start_time": "2021-11-17T10:03:02.403Z"
   },
   {
    "duration": 3,
    "start_time": "2021-11-17T10:03:06.490Z"
   },
   {
    "duration": 887,
    "start_time": "2021-11-17T10:03:24.067Z"
   },
   {
    "duration": 47,
    "start_time": "2021-11-17T10:03:24.961Z"
   },
   {
    "duration": 38,
    "start_time": "2021-11-17T10:03:25.011Z"
   },
   {
    "duration": 21,
    "start_time": "2021-11-17T10:03:25.052Z"
   },
   {
    "duration": 21,
    "start_time": "2021-11-17T10:03:25.100Z"
   },
   {
    "duration": 17,
    "start_time": "2021-11-17T10:03:25.124Z"
   },
   {
    "duration": 20,
    "start_time": "2021-11-17T10:03:25.145Z"
   },
   {
    "duration": 32,
    "start_time": "2021-11-17T10:03:25.168Z"
   },
   {
    "duration": 16,
    "start_time": "2021-11-17T10:03:25.203Z"
   },
   {
    "duration": 5,
    "start_time": "2021-11-17T10:03:25.221Z"
   },
   {
    "duration": 13,
    "start_time": "2021-11-17T10:03:25.228Z"
   },
   {
    "duration": 59,
    "start_time": "2021-11-17T10:03:25.243Z"
   },
   {
    "duration": 447,
    "start_time": "2021-11-17T10:03:25.304Z"
   },
   {
    "duration": -129,
    "start_time": "2021-11-17T10:03:25.884Z"
   },
   {
    "duration": -132,
    "start_time": "2021-11-17T10:03:25.889Z"
   },
   {
    "duration": -134,
    "start_time": "2021-11-17T10:03:25.893Z"
   },
   {
    "duration": -136,
    "start_time": "2021-11-17T10:03:25.897Z"
   },
   {
    "duration": -137,
    "start_time": "2021-11-17T10:03:25.900Z"
   },
   {
    "duration": -139,
    "start_time": "2021-11-17T10:03:25.904Z"
   },
   {
    "duration": -142,
    "start_time": "2021-11-17T10:03:25.909Z"
   },
   {
    "duration": -143,
    "start_time": "2021-11-17T10:03:25.913Z"
   },
   {
    "duration": -145,
    "start_time": "2021-11-17T10:03:25.917Z"
   },
   {
    "duration": 21,
    "start_time": "2021-11-17T10:06:23.125Z"
   },
   {
    "duration": 16,
    "start_time": "2021-11-17T10:07:37.769Z"
   },
   {
    "duration": 19,
    "start_time": "2021-11-17T10:11:57.656Z"
   },
   {
    "duration": 15,
    "start_time": "2021-11-17T10:12:15.355Z"
   },
   {
    "duration": 3,
    "start_time": "2021-11-17T10:12:16.012Z"
   },
   {
    "duration": 847,
    "start_time": "2021-11-17T10:12:17.306Z"
   },
   {
    "duration": 14,
    "start_time": "2021-11-17T10:15:09.506Z"
   },
   {
    "duration": 21,
    "start_time": "2021-11-17T10:15:17.923Z"
   },
   {
    "duration": 119,
    "start_time": "2021-11-17T10:23:23.990Z"
   },
   {
    "duration": 22,
    "start_time": "2021-11-17T10:23:44.017Z"
   },
   {
    "duration": 17,
    "start_time": "2021-11-17T10:25:45.405Z"
   },
   {
    "duration": 17,
    "start_time": "2021-11-17T10:27:05.027Z"
   },
   {
    "duration": 25,
    "start_time": "2021-11-17T10:28:04.394Z"
   },
   {
    "duration": 24,
    "start_time": "2021-11-17T10:28:20.754Z"
   },
   {
    "duration": 17,
    "start_time": "2021-11-17T10:28:58.194Z"
   },
   {
    "duration": 15,
    "start_time": "2021-11-17T10:29:12.783Z"
   },
   {
    "duration": 11,
    "start_time": "2021-11-17T10:29:26.707Z"
   },
   {
    "duration": 13,
    "start_time": "2021-11-17T10:29:55.886Z"
   },
   {
    "duration": 12,
    "start_time": "2021-11-17T10:30:12.848Z"
   },
   {
    "duration": 112,
    "start_time": "2021-11-17T10:34:12.966Z"
   },
   {
    "duration": 342,
    "start_time": "2021-11-17T10:34:40.655Z"
   },
   {
    "duration": 358,
    "start_time": "2021-11-17T10:35:39.124Z"
   },
   {
    "duration": 107,
    "start_time": "2021-11-17T10:36:04.136Z"
   },
   {
    "duration": 16,
    "start_time": "2021-11-17T10:36:41.527Z"
   },
   {
    "duration": 112,
    "start_time": "2021-11-17T10:38:21.395Z"
   },
   {
    "duration": 38,
    "start_time": "2021-11-17T10:38:33.044Z"
   },
   {
    "duration": 31,
    "start_time": "2021-11-17T10:39:04.319Z"
   },
   {
    "duration": 22,
    "start_time": "2021-11-17T10:39:13.507Z"
   },
   {
    "duration": 30,
    "start_time": "2021-11-17T10:40:32.387Z"
   },
   {
    "duration": 21,
    "start_time": "2021-11-17T10:40:38.483Z"
   },
   {
    "duration": 373,
    "start_time": "2021-11-17T10:41:30.810Z"
   },
   {
    "duration": 31,
    "start_time": "2021-11-17T10:41:53.312Z"
   },
   {
    "duration": 22,
    "start_time": "2021-11-17T10:41:58.946Z"
   },
   {
    "duration": 835,
    "start_time": "2021-11-17T10:42:10.732Z"
   },
   {
    "duration": 46,
    "start_time": "2021-11-17T10:42:11.570Z"
   },
   {
    "duration": 36,
    "start_time": "2021-11-17T10:42:11.619Z"
   },
   {
    "duration": 52,
    "start_time": "2021-11-17T10:42:11.658Z"
   },
   {
    "duration": 19,
    "start_time": "2021-11-17T10:42:11.713Z"
   },
   {
    "duration": 17,
    "start_time": "2021-11-17T10:42:11.734Z"
   },
   {
    "duration": 47,
    "start_time": "2021-11-17T10:42:11.754Z"
   },
   {
    "duration": 4,
    "start_time": "2021-11-17T10:42:11.806Z"
   },
   {
    "duration": 37,
    "start_time": "2021-11-17T10:42:11.813Z"
   },
   {
    "duration": 61,
    "start_time": "2021-11-17T10:42:11.854Z"
   },
   {
    "duration": 12,
    "start_time": "2021-11-17T10:42:11.918Z"
   },
   {
    "duration": 13,
    "start_time": "2021-11-17T10:42:11.932Z"
   },
   {
    "duration": 467,
    "start_time": "2021-11-17T10:42:11.948Z"
   },
   {
    "duration": -169,
    "start_time": "2021-11-17T10:42:12.586Z"
   },
   {
    "duration": -172,
    "start_time": "2021-11-17T10:42:12.591Z"
   },
   {
    "duration": -174,
    "start_time": "2021-11-17T10:42:12.594Z"
   },
   {
    "duration": -175,
    "start_time": "2021-11-17T10:42:12.597Z"
   },
   {
    "duration": -178,
    "start_time": "2021-11-17T10:42:12.601Z"
   },
   {
    "duration": -180,
    "start_time": "2021-11-17T10:42:12.604Z"
   },
   {
    "duration": -184,
    "start_time": "2021-11-17T10:42:12.609Z"
   },
   {
    "duration": -185,
    "start_time": "2021-11-17T10:42:12.612Z"
   },
   {
    "duration": -188,
    "start_time": "2021-11-17T10:42:12.616Z"
   },
   {
    "duration": 33,
    "start_time": "2021-11-17T10:48:20.463Z"
   },
   {
    "duration": 48,
    "start_time": "2021-11-17T10:49:04.037Z"
   },
   {
    "duration": 32,
    "start_time": "2021-11-17T10:49:07.958Z"
   },
   {
    "duration": 23,
    "start_time": "2021-11-17T10:49:28.065Z"
   },
   {
    "duration": 14,
    "start_time": "2021-11-17T10:49:50.081Z"
   },
   {
    "duration": 4,
    "start_time": "2021-11-17T10:49:53.790Z"
   },
   {
    "duration": 867,
    "start_time": "2021-11-17T10:50:01.129Z"
   },
   {
    "duration": 36,
    "start_time": "2021-11-17T10:50:01.999Z"
   },
   {
    "duration": 60,
    "start_time": "2021-11-17T10:50:02.042Z"
   },
   {
    "duration": 30,
    "start_time": "2021-11-17T10:50:02.105Z"
   },
   {
    "duration": 50,
    "start_time": "2021-11-17T10:50:02.138Z"
   },
   {
    "duration": 56,
    "start_time": "2021-11-17T10:50:02.190Z"
   },
   {
    "duration": 47,
    "start_time": "2021-11-17T10:50:02.252Z"
   },
   {
    "duration": 13,
    "start_time": "2021-11-17T10:50:02.303Z"
   },
   {
    "duration": 43,
    "start_time": "2021-11-17T10:50:02.319Z"
   },
   {
    "duration": 42,
    "start_time": "2021-11-17T10:50:02.366Z"
   },
   {
    "duration": 14,
    "start_time": "2021-11-17T10:50:02.411Z"
   },
   {
    "duration": 29,
    "start_time": "2021-11-17T10:50:02.428Z"
   },
   {
    "duration": 473,
    "start_time": "2021-11-17T10:50:02.461Z"
   },
   {
    "duration": -207,
    "start_time": "2021-11-17T10:50:03.144Z"
   },
   {
    "duration": -209,
    "start_time": "2021-11-17T10:50:03.148Z"
   },
   {
    "duration": -210,
    "start_time": "2021-11-17T10:50:03.151Z"
   },
   {
    "duration": -212,
    "start_time": "2021-11-17T10:50:03.156Z"
   },
   {
    "duration": -214,
    "start_time": "2021-11-17T10:50:03.159Z"
   },
   {
    "duration": -216,
    "start_time": "2021-11-17T10:50:03.163Z"
   },
   {
    "duration": -217,
    "start_time": "2021-11-17T10:50:03.166Z"
   },
   {
    "duration": -218,
    "start_time": "2021-11-17T10:50:03.170Z"
   },
   {
    "duration": -220,
    "start_time": "2021-11-17T10:50:03.174Z"
   },
   {
    "duration": 44,
    "start_time": "2021-11-17T10:57:18.669Z"
   },
   {
    "duration": 334,
    "start_time": "2021-11-17T10:59:08.739Z"
   },
   {
    "duration": 373,
    "start_time": "2021-11-17T11:24:45.910Z"
   },
   {
    "duration": 10,
    "start_time": "2021-11-17T11:25:19.262Z"
   },
   {
    "duration": 11,
    "start_time": "2021-11-17T11:25:24.913Z"
   },
   {
    "duration": 127,
    "start_time": "2021-11-17T11:27:20.799Z"
   },
   {
    "duration": 37,
    "start_time": "2021-11-17T11:27:47.022Z"
   },
   {
    "duration": 30,
    "start_time": "2021-11-17T11:28:06.581Z"
   },
   {
    "duration": 31,
    "start_time": "2021-11-17T11:28:12.393Z"
   },
   {
    "duration": 879,
    "start_time": "2021-11-17T11:30:48.411Z"
   },
   {
    "duration": 34,
    "start_time": "2021-11-17T11:30:49.293Z"
   },
   {
    "duration": 40,
    "start_time": "2021-11-17T11:30:49.330Z"
   },
   {
    "duration": 45,
    "start_time": "2021-11-17T11:30:49.373Z"
   },
   {
    "duration": 20,
    "start_time": "2021-11-17T11:30:49.420Z"
   },
   {
    "duration": 17,
    "start_time": "2021-11-17T11:30:49.442Z"
   },
   {
    "duration": 53,
    "start_time": "2021-11-17T11:30:49.462Z"
   },
   {
    "duration": 2,
    "start_time": "2021-11-17T11:30:49.519Z"
   },
   {
    "duration": 440,
    "start_time": "2021-11-17T11:30:49.524Z"
   },
   {
    "duration": -243,
    "start_time": "2021-11-17T11:30:50.210Z"
   },
   {
    "duration": -247,
    "start_time": "2021-11-17T11:30:50.215Z"
   },
   {
    "duration": -250,
    "start_time": "2021-11-17T11:30:50.219Z"
   },
   {
    "duration": -254,
    "start_time": "2021-11-17T11:30:50.224Z"
   },
   {
    "duration": -262,
    "start_time": "2021-11-17T11:30:50.234Z"
   },
   {
    "duration": -264,
    "start_time": "2021-11-17T11:30:50.237Z"
   },
   {
    "duration": -267,
    "start_time": "2021-11-17T11:30:50.241Z"
   },
   {
    "duration": -269,
    "start_time": "2021-11-17T11:30:50.245Z"
   },
   {
    "duration": -271,
    "start_time": "2021-11-17T11:30:50.248Z"
   },
   {
    "duration": -273,
    "start_time": "2021-11-17T11:30:50.251Z"
   },
   {
    "duration": -276,
    "start_time": "2021-11-17T11:30:50.255Z"
   },
   {
    "duration": -278,
    "start_time": "2021-11-17T11:30:50.259Z"
   },
   {
    "duration": -281,
    "start_time": "2021-11-17T11:30:50.263Z"
   },
   {
    "duration": 8,
    "start_time": "2021-11-17T11:32:07.015Z"
   },
   {
    "duration": 30,
    "start_time": "2021-11-17T11:32:08.159Z"
   },
   {
    "duration": 19,
    "start_time": "2021-11-17T11:32:12.944Z"
   },
   {
    "duration": 27,
    "start_time": "2021-11-17T11:32:55.686Z"
   },
   {
    "duration": 25,
    "start_time": "2021-11-17T11:33:01.682Z"
   },
   {
    "duration": 24,
    "start_time": "2021-11-17T11:34:18.234Z"
   },
   {
    "duration": 28,
    "start_time": "2021-11-17T11:36:28.281Z"
   },
   {
    "duration": 27,
    "start_time": "2021-11-17T11:36:40.990Z"
   },
   {
    "duration": 21,
    "start_time": "2021-11-17T11:36:50.203Z"
   },
   {
    "duration": 8,
    "start_time": "2021-11-17T11:45:04.262Z"
   },
   {
    "duration": 9,
    "start_time": "2021-11-17T11:45:05.285Z"
   },
   {
    "duration": 30,
    "start_time": "2021-11-17T11:45:16.343Z"
   },
   {
    "duration": 16,
    "start_time": "2021-11-17T11:45:50.496Z"
   },
   {
    "duration": 14,
    "start_time": "2021-11-17T11:46:04.333Z"
   },
   {
    "duration": 9,
    "start_time": "2021-11-17T11:47:55.512Z"
   },
   {
    "duration": 11,
    "start_time": "2021-11-17T11:49:03.530Z"
   },
   {
    "duration": 43,
    "start_time": "2021-11-17T11:49:32.342Z"
   },
   {
    "duration": 14,
    "start_time": "2021-11-17T11:50:48.161Z"
   },
   {
    "duration": 15,
    "start_time": "2021-11-17T11:51:05.749Z"
   },
   {
    "duration": 6,
    "start_time": "2021-11-17T11:57:05.840Z"
   },
   {
    "duration": 7,
    "start_time": "2021-11-17T12:01:30.017Z"
   },
   {
    "duration": 307,
    "start_time": "2021-11-17T12:02:58.192Z"
   },
   {
    "duration": 9,
    "start_time": "2021-11-17T12:03:07.674Z"
   },
   {
    "duration": 10,
    "start_time": "2021-11-17T12:05:53.166Z"
   },
   {
    "duration": 10,
    "start_time": "2021-11-17T12:11:17.499Z"
   },
   {
    "duration": 120,
    "start_time": "2021-11-17T12:39:06.423Z"
   },
   {
    "duration": 115,
    "start_time": "2021-11-17T12:48:44.420Z"
   },
   {
    "duration": 112,
    "start_time": "2021-11-17T13:13:48.537Z"
   },
   {
    "duration": 102,
    "start_time": "2021-11-17T13:13:59.625Z"
   },
   {
    "duration": 316,
    "start_time": "2021-11-17T13:14:15.324Z"
   },
   {
    "duration": 12,
    "start_time": "2021-11-17T13:14:39.826Z"
   },
   {
    "duration": 104,
    "start_time": "2021-11-17T13:25:26.398Z"
   },
   {
    "duration": 1216,
    "start_time": "2021-11-17T13:25:58.415Z"
   },
   {
    "duration": 59,
    "start_time": "2021-11-17T13:26:36.912Z"
   },
   {
    "duration": 1442,
    "start_time": "2021-11-17T13:29:51.254Z"
   },
   {
    "duration": 1571,
    "start_time": "2021-11-17T13:31:27.393Z"
   },
   {
    "duration": 41,
    "start_time": "2021-11-17T13:32:03.682Z"
   },
   {
    "duration": 49,
    "start_time": "2021-11-17T13:41:12.975Z"
   },
   {
    "duration": 50,
    "start_time": "2021-11-17T13:42:04.043Z"
   },
   {
    "duration": 116,
    "start_time": "2021-11-17T13:48:02.781Z"
   },
   {
    "duration": 52,
    "start_time": "2021-11-17T13:48:12.346Z"
   },
   {
    "duration": 81,
    "start_time": "2021-11-17T13:48:50.814Z"
   },
   {
    "duration": 43,
    "start_time": "2021-11-17T13:48:50.898Z"
   },
   {
    "duration": 75,
    "start_time": "2021-11-17T13:48:50.945Z"
   },
   {
    "duration": 28,
    "start_time": "2021-11-17T13:48:51.024Z"
   },
   {
    "duration": 61,
    "start_time": "2021-11-17T13:48:51.054Z"
   },
   {
    "duration": 24,
    "start_time": "2021-11-17T13:48:51.118Z"
   },
   {
    "duration": 19,
    "start_time": "2021-11-17T13:48:51.145Z"
   },
   {
    "duration": 42,
    "start_time": "2021-11-17T13:48:51.168Z"
   },
   {
    "duration": 11,
    "start_time": "2021-11-17T13:48:51.213Z"
   },
   {
    "duration": 37,
    "start_time": "2021-11-17T13:48:51.227Z"
   },
   {
    "duration": 49,
    "start_time": "2021-11-17T13:48:51.267Z"
   },
   {
    "duration": 97,
    "start_time": "2021-11-17T13:48:51.319Z"
   },
   {
    "duration": 62,
    "start_time": "2021-11-17T13:51:02.825Z"
   },
   {
    "duration": 367,
    "start_time": "2021-11-17T13:55:13.753Z"
   },
   {
    "duration": 56,
    "start_time": "2021-11-17T13:55:47.928Z"
   },
   {
    "duration": 346,
    "start_time": "2021-11-17T13:56:53.945Z"
   },
   {
    "duration": 52,
    "start_time": "2021-11-17T13:57:07.158Z"
   },
   {
    "duration": 306,
    "start_time": "2021-11-17T14:01:15.645Z"
   },
   {
    "duration": 24,
    "start_time": "2021-11-17T14:01:26.276Z"
   },
   {
    "duration": 87,
    "start_time": "2021-11-17T14:01:41.191Z"
   },
   {
    "duration": 51,
    "start_time": "2021-11-17T14:01:41.281Z"
   },
   {
    "duration": 65,
    "start_time": "2021-11-17T14:01:41.336Z"
   },
   {
    "duration": 25,
    "start_time": "2021-11-17T14:01:41.405Z"
   },
   {
    "duration": 23,
    "start_time": "2021-11-17T14:01:41.433Z"
   },
   {
    "duration": 66,
    "start_time": "2021-11-17T14:01:41.459Z"
   },
   {
    "duration": 11,
    "start_time": "2021-11-17T14:01:57.720Z"
   },
   {
    "duration": 22,
    "start_time": "2021-11-17T14:02:36.553Z"
   },
   {
    "duration": 109,
    "start_time": "2021-11-17T14:10:20.720Z"
   },
   {
    "duration": 92,
    "start_time": "2021-11-17T14:10:33.062Z"
   },
   {
    "duration": 38,
    "start_time": "2021-11-17T14:11:13.087Z"
   },
   {
    "duration": 37,
    "start_time": "2021-11-17T14:14:13.780Z"
   },
   {
    "duration": 77,
    "start_time": "2021-11-17T14:14:40.728Z"
   },
   {
    "duration": 37,
    "start_time": "2021-11-17T14:14:40.808Z"
   },
   {
    "duration": 74,
    "start_time": "2021-11-17T14:14:40.848Z"
   },
   {
    "duration": 46,
    "start_time": "2021-11-17T14:15:05.948Z"
   },
   {
    "duration": 38,
    "start_time": "2021-11-17T14:16:04.158Z"
   },
   {
    "duration": 346,
    "start_time": "2021-11-17T14:19:15.273Z"
   },
   {
    "duration": 37,
    "start_time": "2021-11-17T14:25:17.325Z"
   },
   {
    "duration": 38,
    "start_time": "2021-11-17T14:25:35.982Z"
   },
   {
    "duration": 68,
    "start_time": "2021-11-17T14:27:32.442Z"
   },
   {
    "duration": 72,
    "start_time": "2021-11-17T14:32:42.987Z"
   },
   {
    "duration": 78,
    "start_time": "2021-11-17T14:41:34.066Z"
   },
   {
    "duration": 31,
    "start_time": "2021-11-17T14:41:34.147Z"
   },
   {
    "duration": 34,
    "start_time": "2021-11-17T14:41:54.037Z"
   },
   {
    "duration": 34,
    "start_time": "2021-11-17T14:43:13.096Z"
   },
   {
    "duration": 98,
    "start_time": "2021-11-17T14:44:24.917Z"
   },
   {
    "duration": 114,
    "start_time": "2021-11-17T14:45:12.488Z"
   },
   {
    "duration": 40,
    "start_time": "2021-11-17T14:45:24.868Z"
   },
   {
    "duration": 40,
    "start_time": "2021-11-17T14:45:33.989Z"
   },
   {
    "duration": 39,
    "start_time": "2021-11-17T14:45:57.027Z"
   },
   {
    "duration": 66,
    "start_time": "2021-11-17T14:46:52.596Z"
   },
   {
    "duration": 71,
    "start_time": "2021-11-17T14:49:33.353Z"
   },
   {
    "duration": 72,
    "start_time": "2021-11-17T14:50:10.085Z"
   },
   {
    "duration": 67,
    "start_time": "2021-11-17T14:50:57.950Z"
   },
   {
    "duration": 72,
    "start_time": "2021-11-17T14:51:07.610Z"
   },
   {
    "duration": 71,
    "start_time": "2021-11-17T14:51:24.457Z"
   },
   {
    "duration": 70,
    "start_time": "2021-11-17T14:51:40.536Z"
   },
   {
    "duration": 69,
    "start_time": "2021-11-17T14:52:00.606Z"
   },
   {
    "duration": 69,
    "start_time": "2021-11-17T14:52:13.068Z"
   },
   {
    "duration": 70,
    "start_time": "2021-11-17T14:53:06.388Z"
   },
   {
    "duration": 72,
    "start_time": "2021-11-17T14:53:20.189Z"
   },
   {
    "duration": 70,
    "start_time": "2021-11-17T14:54:08.486Z"
   },
   {
    "duration": 69,
    "start_time": "2021-11-17T14:54:44.625Z"
   },
   {
    "duration": 70,
    "start_time": "2021-11-17T14:54:52.871Z"
   },
   {
    "duration": 68,
    "start_time": "2021-11-17T14:55:06.639Z"
   },
   {
    "duration": 72,
    "start_time": "2021-11-17T14:55:52.482Z"
   },
   {
    "duration": 70,
    "start_time": "2021-11-17T14:56:06.025Z"
   },
   {
    "duration": 70,
    "start_time": "2021-11-17T14:57:05.797Z"
   },
   {
    "duration": 70,
    "start_time": "2021-11-17T14:57:21.287Z"
   },
   {
    "duration": 72,
    "start_time": "2021-11-17T14:57:34.897Z"
   },
   {
    "duration": 69,
    "start_time": "2021-11-17T14:57:55.218Z"
   },
   {
    "duration": 71,
    "start_time": "2021-11-17T14:58:07.650Z"
   },
   {
    "duration": 69,
    "start_time": "2021-11-17T14:58:18.408Z"
   },
   {
    "duration": 70,
    "start_time": "2021-11-17T14:58:26.661Z"
   },
   {
    "duration": 40,
    "start_time": "2021-11-17T15:06:45.762Z"
   },
   {
    "duration": 52,
    "start_time": "2021-11-17T15:11:05.777Z"
   },
   {
    "duration": 65,
    "start_time": "2021-11-17T15:16:44.987Z"
   },
   {
    "duration": 43,
    "start_time": "2021-11-17T15:17:07.764Z"
   },
   {
    "duration": 38,
    "start_time": "2021-11-17T15:17:50.391Z"
   },
   {
    "duration": 58,
    "start_time": "2021-11-17T15:20:31.397Z"
   },
   {
    "duration": 16,
    "start_time": "2021-11-17T15:29:59.737Z"
   },
   {
    "duration": 15,
    "start_time": "2021-11-17T15:34:21.914Z"
   },
   {
    "duration": 467,
    "start_time": "2021-11-17T15:35:03.848Z"
   },
   {
    "duration": 568,
    "start_time": "2021-11-17T15:35:15.866Z"
   },
   {
    "duration": 12,
    "start_time": "2021-11-17T15:35:32.648Z"
   },
   {
    "duration": 348,
    "start_time": "2021-11-17T15:36:57.511Z"
   },
   {
    "duration": 12,
    "start_time": "2021-11-17T15:37:30.919Z"
   },
   {
    "duration": 331,
    "start_time": "2021-11-17T15:38:48.355Z"
   },
   {
    "duration": 312,
    "start_time": "2021-11-17T15:39:17.363Z"
   },
   {
    "duration": 12,
    "start_time": "2021-11-17T15:39:40.885Z"
   },
   {
    "duration": 45,
    "start_time": "2021-11-17T15:49:42.338Z"
   },
   {
    "duration": 30,
    "start_time": "2021-11-17T16:21:01.915Z"
   },
   {
    "duration": 39,
    "start_time": "2021-11-17T16:35:51.325Z"
   },
   {
    "duration": 358,
    "start_time": "2021-11-17T16:55:58.023Z"
   },
   {
    "duration": 88,
    "start_time": "2021-11-17T16:56:21.688Z"
   },
   {
    "duration": 53,
    "start_time": "2021-11-17T16:57:10.842Z"
   },
   {
    "duration": 53,
    "start_time": "2021-11-17T17:00:20.728Z"
   },
   {
    "duration": 88,
    "start_time": "2021-11-17T17:04:51.628Z"
   },
   {
    "duration": 22,
    "start_time": "2021-11-17T17:16:19.349Z"
   },
   {
    "duration": 19,
    "start_time": "2021-11-17T17:17:18.282Z"
   },
   {
    "duration": 28,
    "start_time": "2021-11-17T17:17:55.145Z"
   },
   {
    "duration": 885,
    "start_time": "2021-11-17T17:18:02.861Z"
   },
   {
    "duration": 36,
    "start_time": "2021-11-17T17:18:03.750Z"
   },
   {
    "duration": 17,
    "start_time": "2021-11-17T17:18:03.801Z"
   },
   {
    "duration": 30,
    "start_time": "2021-11-17T17:18:03.821Z"
   },
   {
    "duration": 55,
    "start_time": "2021-11-17T17:18:03.854Z"
   },
   {
    "duration": 40,
    "start_time": "2021-11-17T17:18:03.912Z"
   },
   {
    "duration": 52,
    "start_time": "2021-11-17T17:18:03.956Z"
   },
   {
    "duration": 10,
    "start_time": "2021-11-17T17:18:04.012Z"
   },
   {
    "duration": 10,
    "start_time": "2021-11-17T17:18:04.024Z"
   },
   {
    "duration": 80,
    "start_time": "2021-11-17T17:18:04.037Z"
   },
   {
    "duration": 11,
    "start_time": "2021-11-17T17:18:04.120Z"
   },
   {
    "duration": 1599,
    "start_time": "2021-11-17T17:18:04.135Z"
   },
   {
    "duration": -827,
    "start_time": "2021-11-17T17:18:06.563Z"
   },
   {
    "duration": -833,
    "start_time": "2021-11-17T17:18:06.571Z"
   },
   {
    "duration": -835,
    "start_time": "2021-11-17T17:18:06.575Z"
   },
   {
    "duration": -838,
    "start_time": "2021-11-17T17:18:06.579Z"
   },
   {
    "duration": -843,
    "start_time": "2021-11-17T17:18:06.586Z"
   },
   {
    "duration": -846,
    "start_time": "2021-11-17T17:18:06.590Z"
   },
   {
    "duration": -849,
    "start_time": "2021-11-17T17:18:06.595Z"
   },
   {
    "duration": -852,
    "start_time": "2021-11-17T17:18:06.599Z"
   },
   {
    "duration": -855,
    "start_time": "2021-11-17T17:18:06.604Z"
   },
   {
    "duration": -857,
    "start_time": "2021-11-17T17:18:06.607Z"
   },
   {
    "duration": 49,
    "start_time": "2021-11-17T17:19:38.450Z"
   },
   {
    "duration": 898,
    "start_time": "2021-11-17T17:21:02.889Z"
   },
   {
    "duration": 42,
    "start_time": "2021-11-17T17:21:03.790Z"
   },
   {
    "duration": 15,
    "start_time": "2021-11-17T17:21:03.835Z"
   },
   {
    "duration": 47,
    "start_time": "2021-11-17T17:21:03.853Z"
   },
   {
    "duration": 23,
    "start_time": "2021-11-17T17:21:03.904Z"
   },
   {
    "duration": 59,
    "start_time": "2021-11-17T17:21:03.929Z"
   },
   {
    "duration": 57,
    "start_time": "2021-11-17T17:21:03.990Z"
   },
   {
    "duration": 14,
    "start_time": "2021-11-17T17:21:04.051Z"
   },
   {
    "duration": 44,
    "start_time": "2021-11-17T17:21:04.068Z"
   },
   {
    "duration": 48,
    "start_time": "2021-11-17T17:21:04.115Z"
   },
   {
    "duration": 12,
    "start_time": "2021-11-17T17:21:04.165Z"
   },
   {
    "duration": 67,
    "start_time": "2021-11-17T17:21:04.179Z"
   },
   {
    "duration": 20,
    "start_time": "2021-11-17T17:21:04.248Z"
   },
   {
    "duration": 92,
    "start_time": "2021-11-17T17:21:04.271Z"
   },
   {
    "duration": 68,
    "start_time": "2021-11-17T17:21:04.366Z"
   },
   {
    "duration": 1064,
    "start_time": "2021-11-17T17:21:04.436Z"
   },
   {
    "duration": 31224,
    "start_time": "2021-11-17T17:21:05.503Z"
   },
   {
    "duration": 30,
    "start_time": "2021-11-17T17:21:36.730Z"
   },
   {
    "duration": 43,
    "start_time": "2021-11-17T17:21:36.763Z"
   },
   {
    "duration": 23,
    "start_time": "2021-11-17T17:21:36.808Z"
   },
   {
    "duration": 2153,
    "start_time": "2021-11-17T17:21:36.834Z"
   },
   {
    "duration": 32,
    "start_time": "2021-11-17T17:21:38.990Z"
   },
   {
    "duration": 42,
    "start_time": "2021-11-17T17:55:14.972Z"
   },
   {
    "duration": 1286,
    "start_time": "2021-11-18T06:04:22.164Z"
   },
   {
    "duration": 52,
    "start_time": "2021-11-18T06:04:23.454Z"
   },
   {
    "duration": 21,
    "start_time": "2021-11-18T06:04:23.510Z"
   },
   {
    "duration": 43,
    "start_time": "2021-11-18T06:04:23.534Z"
   },
   {
    "duration": 22,
    "start_time": "2021-11-18T06:04:23.581Z"
   },
   {
    "duration": 88,
    "start_time": "2021-11-18T06:04:23.606Z"
   },
   {
    "duration": 20,
    "start_time": "2021-11-18T06:04:23.698Z"
   },
   {
    "duration": 36,
    "start_time": "2021-11-18T06:04:23.723Z"
   },
   {
    "duration": 7,
    "start_time": "2021-11-18T06:04:23.763Z"
   },
   {
    "duration": 51,
    "start_time": "2021-11-18T06:04:23.773Z"
   },
   {
    "duration": 35,
    "start_time": "2021-11-18T06:04:23.827Z"
   },
   {
    "duration": 63,
    "start_time": "2021-11-18T06:04:23.865Z"
   },
   {
    "duration": 47,
    "start_time": "2021-11-18T06:04:23.931Z"
   },
   {
    "duration": 84,
    "start_time": "2021-11-18T06:04:23.981Z"
   },
   {
    "duration": 43,
    "start_time": "2021-11-18T06:04:24.067Z"
   },
   {
    "duration": 1058,
    "start_time": "2021-11-18T06:04:24.112Z"
   },
   {
    "duration": 29645,
    "start_time": "2021-11-18T06:04:25.174Z"
   },
   {
    "duration": 43,
    "start_time": "2021-11-18T06:04:54.821Z"
   },
   {
    "duration": 22,
    "start_time": "2021-11-18T06:04:54.866Z"
   },
   {
    "duration": 21,
    "start_time": "2021-11-18T06:04:54.891Z"
   },
   {
    "duration": 1975,
    "start_time": "2021-11-18T06:04:54.915Z"
   },
   {
    "duration": 21,
    "start_time": "2021-11-18T06:04:56.893Z"
   },
   {
    "duration": 61,
    "start_time": "2021-11-18T06:11:39.908Z"
   },
   {
    "duration": 62,
    "start_time": "2021-11-18T06:12:18.972Z"
   },
   {
    "duration": 861,
    "start_time": "2021-11-18T06:12:28.026Z"
   },
   {
    "duration": 30,
    "start_time": "2021-11-18T06:12:28.890Z"
   },
   {
    "duration": 14,
    "start_time": "2021-11-18T06:12:28.923Z"
   },
   {
    "duration": 53,
    "start_time": "2021-11-18T06:12:28.940Z"
   },
   {
    "duration": 20,
    "start_time": "2021-11-18T06:12:28.995Z"
   },
   {
    "duration": 63,
    "start_time": "2021-11-18T06:12:29.018Z"
   },
   {
    "duration": 21,
    "start_time": "2021-11-18T06:12:29.083Z"
   },
   {
    "duration": 10,
    "start_time": "2021-11-18T06:12:29.107Z"
   },
   {
    "duration": 7,
    "start_time": "2021-11-18T06:12:29.120Z"
   },
   {
    "duration": 68,
    "start_time": "2021-11-18T06:12:29.129Z"
   },
   {
    "duration": 13,
    "start_time": "2021-11-18T06:12:29.199Z"
   },
   {
    "duration": 79,
    "start_time": "2021-11-18T06:12:29.214Z"
   },
   {
    "duration": 19,
    "start_time": "2021-11-18T06:12:29.295Z"
   },
   {
    "duration": 87,
    "start_time": "2021-11-18T06:12:29.316Z"
   },
   {
    "duration": 74,
    "start_time": "2021-11-18T06:12:29.405Z"
   },
   {
    "duration": 945,
    "start_time": "2021-11-18T06:12:29.481Z"
   },
   {
    "duration": 28747,
    "start_time": "2021-11-18T06:12:30.430Z"
   },
   {
    "duration": 32,
    "start_time": "2021-11-18T06:12:59.179Z"
   },
   {
    "duration": 20,
    "start_time": "2021-11-18T06:12:59.213Z"
   },
   {
    "duration": 20,
    "start_time": "2021-11-18T06:12:59.260Z"
   },
   {
    "duration": 1991,
    "start_time": "2021-11-18T06:12:59.282Z"
   },
   {
    "duration": 22,
    "start_time": "2021-11-18T06:13:01.275Z"
   },
   {
    "duration": 49,
    "start_time": "2021-11-18T06:31:03.081Z"
   },
   {
    "duration": 47,
    "start_time": "2021-11-18T06:31:53.792Z"
   },
   {
    "duration": 46,
    "start_time": "2021-11-18T06:32:48.385Z"
   },
   {
    "duration": 79,
    "start_time": "2021-11-18T06:32:54.260Z"
   },
   {
    "duration": 45,
    "start_time": "2021-11-18T06:32:54.342Z"
   },
   {
    "duration": 13,
    "start_time": "2021-11-18T06:32:54.390Z"
   },
   {
    "duration": 31,
    "start_time": "2021-11-18T06:32:54.406Z"
   },
   {
    "duration": 20,
    "start_time": "2021-11-18T06:32:54.460Z"
   },
   {
    "duration": 40,
    "start_time": "2021-11-18T06:32:54.483Z"
   },
   {
    "duration": 17,
    "start_time": "2021-11-18T06:32:54.559Z"
   },
   {
    "duration": 170,
    "start_time": "2021-11-18T06:32:54.580Z"
   },
   {
    "duration": -267,
    "start_time": "2021-11-18T06:32:55.021Z"
   },
   {
    "duration": -278,
    "start_time": "2021-11-18T06:32:55.034Z"
   },
   {
    "duration": -280,
    "start_time": "2021-11-18T06:32:55.039Z"
   },
   {
    "duration": -282,
    "start_time": "2021-11-18T06:32:55.043Z"
   },
   {
    "duration": -283,
    "start_time": "2021-11-18T06:32:55.046Z"
   },
   {
    "duration": 37,
    "start_time": "2021-11-18T06:34:29.743Z"
   },
   {
    "duration": 23,
    "start_time": "2021-11-18T06:36:38.180Z"
   },
   {
    "duration": 64,
    "start_time": "2021-11-18T06:48:41.104Z"
   },
   {
    "duration": 76,
    "start_time": "2021-11-18T06:49:08.845Z"
   },
   {
    "duration": 57,
    "start_time": "2021-11-18T06:49:08.923Z"
   },
   {
    "duration": 13,
    "start_time": "2021-11-18T06:49:08.983Z"
   },
   {
    "duration": 33,
    "start_time": "2021-11-18T06:49:08.998Z"
   },
   {
    "duration": 41,
    "start_time": "2021-11-18T06:49:09.034Z"
   },
   {
    "duration": 43,
    "start_time": "2021-11-18T06:49:09.077Z"
   },
   {
    "duration": 40,
    "start_time": "2021-11-18T06:49:09.123Z"
   },
   {
    "duration": 22,
    "start_time": "2021-11-18T06:49:09.165Z"
   },
   {
    "duration": 10,
    "start_time": "2021-11-18T06:49:09.191Z"
   },
   {
    "duration": 8,
    "start_time": "2021-11-18T06:49:09.204Z"
   },
   {
    "duration": 53,
    "start_time": "2021-11-18T06:49:09.214Z"
   },
   {
    "duration": 23,
    "start_time": "2021-11-18T06:49:57.206Z"
   },
   {
    "duration": 15,
    "start_time": "2021-11-18T07:20:21.293Z"
   },
   {
    "duration": 74,
    "start_time": "2021-11-18T07:20:31.467Z"
   },
   {
    "duration": 32,
    "start_time": "2021-11-18T07:20:31.543Z"
   },
   {
    "duration": 12,
    "start_time": "2021-11-18T07:20:31.578Z"
   },
   {
    "duration": 24,
    "start_time": "2021-11-18T07:20:31.593Z"
   },
   {
    "duration": 48,
    "start_time": "2021-11-18T07:20:31.620Z"
   },
   {
    "duration": 21,
    "start_time": "2021-11-18T07:20:31.670Z"
   },
   {
    "duration": 16,
    "start_time": "2021-11-18T07:20:38.832Z"
   },
   {
    "duration": 14,
    "start_time": "2021-11-18T07:22:09.174Z"
   },
   {
    "duration": 16,
    "start_time": "2021-11-18T07:23:39.210Z"
   },
   {
    "duration": 15,
    "start_time": "2021-11-18T07:24:33.491Z"
   },
   {
    "duration": 15,
    "start_time": "2021-11-18T07:24:58.804Z"
   },
   {
    "duration": 15,
    "start_time": "2021-11-18T07:25:12.199Z"
   },
   {
    "duration": 17,
    "start_time": "2021-11-18T07:26:01.316Z"
   },
   {
    "duration": 15,
    "start_time": "2021-11-18T07:29:37.757Z"
   },
   {
    "duration": 55,
    "start_time": "2021-11-18T07:32:19.593Z"
   },
   {
    "duration": 27,
    "start_time": "2021-11-18T07:42:12.803Z"
   },
   {
    "duration": 73,
    "start_time": "2021-11-18T07:42:59.348Z"
   },
   {
    "duration": 52,
    "start_time": "2021-11-18T07:42:59.423Z"
   },
   {
    "duration": 12,
    "start_time": "2021-11-18T07:42:59.478Z"
   },
   {
    "duration": 24,
    "start_time": "2021-11-18T07:42:59.493Z"
   },
   {
    "duration": 48,
    "start_time": "2021-11-18T07:42:59.520Z"
   },
   {
    "duration": 23,
    "start_time": "2021-11-18T07:42:59.570Z"
   },
   {
    "duration": 18,
    "start_time": "2021-11-18T07:42:59.595Z"
   },
   {
    "duration": 64,
    "start_time": "2021-11-18T07:42:59.616Z"
   },
   {
    "duration": 23,
    "start_time": "2021-11-18T07:44:55.811Z"
   },
   {
    "duration": 27,
    "start_time": "2021-11-18T07:54:49.332Z"
   },
   {
    "duration": 31,
    "start_time": "2021-11-18T07:55:23.545Z"
   },
   {
    "duration": 45,
    "start_time": "2021-11-18T07:58:48.781Z"
   },
   {
    "duration": 63,
    "start_time": "2021-11-18T07:59:49.414Z"
   },
   {
    "duration": 67,
    "start_time": "2021-11-18T08:00:17.377Z"
   },
   {
    "duration": 22,
    "start_time": "2021-11-18T08:00:45.257Z"
   },
   {
    "duration": 54,
    "start_time": "2021-11-18T08:14:37.731Z"
   },
   {
    "duration": 43,
    "start_time": "2021-11-18T08:18:14.030Z"
   },
   {
    "duration": 74,
    "start_time": "2021-11-18T08:18:25.735Z"
   },
   {
    "duration": 47,
    "start_time": "2021-11-18T08:18:25.812Z"
   },
   {
    "duration": 13,
    "start_time": "2021-11-18T08:18:25.862Z"
   },
   {
    "duration": 28,
    "start_time": "2021-11-18T08:18:25.878Z"
   },
   {
    "duration": 21,
    "start_time": "2021-11-18T08:18:25.908Z"
   },
   {
    "duration": 23,
    "start_time": "2021-11-18T08:18:25.960Z"
   },
   {
    "duration": 25,
    "start_time": "2021-11-18T08:18:25.986Z"
   },
   {
    "duration": 77,
    "start_time": "2021-11-18T08:18:59.529Z"
   },
   {
    "duration": 50,
    "start_time": "2021-11-18T08:18:59.609Z"
   },
   {
    "duration": 13,
    "start_time": "2021-11-18T08:18:59.662Z"
   },
   {
    "duration": 28,
    "start_time": "2021-11-18T08:18:59.678Z"
   },
   {
    "duration": 20,
    "start_time": "2021-11-18T08:18:59.709Z"
   },
   {
    "duration": 23,
    "start_time": "2021-11-18T08:18:59.759Z"
   },
   {
    "duration": 36,
    "start_time": "2021-11-18T08:19:21.653Z"
   },
   {
    "duration": 32,
    "start_time": "2021-11-18T08:19:44.666Z"
   },
   {
    "duration": 38,
    "start_time": "2021-11-18T08:20:16.727Z"
   },
   {
    "duration": 48,
    "start_time": "2021-11-18T08:20:44.921Z"
   },
   {
    "duration": 64,
    "start_time": "2021-11-18T09:42:08.232Z"
   },
   {
    "duration": 67,
    "start_time": "2021-11-18T09:42:39.126Z"
   },
   {
    "duration": 84,
    "start_time": "2021-11-18T10:09:34.591Z"
   },
   {
    "duration": 50,
    "start_time": "2021-11-18T10:16:47.003Z"
   },
   {
    "duration": 64,
    "start_time": "2021-11-18T10:16:57.444Z"
   },
   {
    "duration": 67,
    "start_time": "2021-11-18T10:18:21.240Z"
   },
   {
    "duration": 2171,
    "start_time": "2021-11-18T10:47:42.437Z"
   },
   {
    "duration": 1866,
    "start_time": "2021-11-18T10:49:35.705Z"
   },
   {
    "duration": 1690,
    "start_time": "2021-11-18T10:51:42.816Z"
   },
   {
    "duration": 51,
    "start_time": "2021-11-18T10:52:40.408Z"
   },
   {
    "duration": 855,
    "start_time": "2021-11-18T10:56:09.505Z"
   },
   {
    "duration": 37,
    "start_time": "2021-11-18T10:56:10.363Z"
   },
   {
    "duration": 14,
    "start_time": "2021-11-18T10:56:10.403Z"
   },
   {
    "duration": 58,
    "start_time": "2021-11-18T10:56:10.419Z"
   },
   {
    "duration": 20,
    "start_time": "2021-11-18T10:56:10.480Z"
   },
   {
    "duration": 21,
    "start_time": "2021-11-18T10:56:10.503Z"
   },
   {
    "duration": 49,
    "start_time": "2021-11-18T10:56:10.527Z"
   },
   {
    "duration": 53,
    "start_time": "2021-11-18T10:56:10.580Z"
   },
   {
    "duration": 31,
    "start_time": "2021-11-18T10:56:10.635Z"
   },
   {
    "duration": 21,
    "start_time": "2021-11-18T10:56:10.668Z"
   },
   {
    "duration": 14,
    "start_time": "2021-11-18T10:56:10.691Z"
   },
   {
    "duration": 766,
    "start_time": "2021-11-18T10:56:10.707Z"
   },
   {
    "duration": -717,
    "start_time": "2021-11-18T10:56:12.193Z"
   },
   {
    "duration": -719,
    "start_time": "2021-11-18T10:56:12.196Z"
   },
   {
    "duration": -722,
    "start_time": "2021-11-18T10:56:12.200Z"
   },
   {
    "duration": -724,
    "start_time": "2021-11-18T10:56:12.204Z"
   },
   {
    "duration": -727,
    "start_time": "2021-11-18T10:56:12.208Z"
   },
   {
    "duration": -729,
    "start_time": "2021-11-18T10:56:12.211Z"
   },
   {
    "duration": -732,
    "start_time": "2021-11-18T10:56:12.215Z"
   },
   {
    "duration": -733,
    "start_time": "2021-11-18T10:56:12.218Z"
   },
   {
    "duration": -736,
    "start_time": "2021-11-18T10:56:12.222Z"
   },
   {
    "duration": 132,
    "start_time": "2021-11-18T10:59:07.908Z"
   },
   {
    "duration": 56,
    "start_time": "2021-11-18T10:59:16.930Z"
   },
   {
    "duration": 25,
    "start_time": "2021-11-18T11:04:28.872Z"
   },
   {
    "duration": 37,
    "start_time": "2021-11-18T11:04:51.304Z"
   },
   {
    "duration": 14,
    "start_time": "2021-11-18T11:09:06.456Z"
   },
   {
    "duration": 20,
    "start_time": "2021-11-18T11:10:43.938Z"
   },
   {
    "duration": 7,
    "start_time": "2021-11-18T11:13:21.922Z"
   },
   {
    "duration": 77,
    "start_time": "2021-11-18T11:14:33.517Z"
   },
   {
    "duration": 30,
    "start_time": "2021-11-18T11:14:33.597Z"
   },
   {
    "duration": 34,
    "start_time": "2021-11-18T11:14:33.630Z"
   },
   {
    "duration": 40,
    "start_time": "2021-11-18T11:14:33.666Z"
   },
   {
    "duration": 22,
    "start_time": "2021-11-18T11:14:33.709Z"
   },
   {
    "duration": 44,
    "start_time": "2021-11-18T11:14:33.734Z"
   },
   {
    "duration": 11,
    "start_time": "2021-11-18T11:14:38.051Z"
   },
   {
    "duration": 15,
    "start_time": "2021-11-18T11:14:39.395Z"
   },
   {
    "duration": 10,
    "start_time": "2021-11-18T11:14:41.518Z"
   },
   {
    "duration": 8,
    "start_time": "2021-11-18T11:14:43.850Z"
   },
   {
    "duration": 17,
    "start_time": "2021-11-18T11:15:26.618Z"
   },
   {
    "duration": 11,
    "start_time": "2021-11-18T11:16:10.681Z"
   },
   {
    "duration": 10,
    "start_time": "2021-11-18T11:16:20.644Z"
   },
   {
    "duration": 15,
    "start_time": "2021-11-18T11:16:22.208Z"
   },
   {
    "duration": 392,
    "start_time": "2021-11-18T11:16:29.239Z"
   },
   {
    "duration": 54,
    "start_time": "2021-11-18T11:20:45.766Z"
   },
   {
    "duration": 34,
    "start_time": "2021-11-18T11:21:42.911Z"
   },
   {
    "duration": 43,
    "start_time": "2021-11-18T11:22:11.123Z"
   },
   {
    "duration": 44,
    "start_time": "2021-11-18T11:25:16.857Z"
   },
   {
    "duration": 72,
    "start_time": "2021-11-18T11:27:13.368Z"
   },
   {
    "duration": 34,
    "start_time": "2021-11-18T11:27:13.443Z"
   },
   {
    "duration": 13,
    "start_time": "2021-11-18T11:27:13.480Z"
   },
   {
    "duration": 37,
    "start_time": "2021-11-18T11:27:13.496Z"
   },
   {
    "duration": 34,
    "start_time": "2021-11-18T11:27:13.535Z"
   },
   {
    "duration": 40,
    "start_time": "2021-11-18T11:27:13.571Z"
   },
   {
    "duration": 12,
    "start_time": "2021-11-18T11:27:18.410Z"
   },
   {
    "duration": 15,
    "start_time": "2021-11-18T11:27:20.485Z"
   },
   {
    "duration": 10,
    "start_time": "2021-11-18T11:27:22.435Z"
   },
   {
    "duration": 9,
    "start_time": "2021-11-18T11:27:23.489Z"
   },
   {
    "duration": 15,
    "start_time": "2021-11-18T11:27:28.726Z"
   },
   {
    "duration": 9,
    "start_time": "2021-11-18T11:29:13.214Z"
   },
   {
    "duration": 75,
    "start_time": "2021-11-18T11:29:24.785Z"
   },
   {
    "duration": 29,
    "start_time": "2021-11-18T11:29:24.863Z"
   },
   {
    "duration": 13,
    "start_time": "2021-11-18T11:29:24.895Z"
   },
   {
    "duration": 54,
    "start_time": "2021-11-18T11:29:24.911Z"
   },
   {
    "duration": 19,
    "start_time": "2021-11-18T11:29:24.967Z"
   },
   {
    "duration": 25,
    "start_time": "2021-11-18T11:29:24.988Z"
   },
   {
    "duration": 39,
    "start_time": "2021-11-18T11:29:25.016Z"
   },
   {
    "duration": 20,
    "start_time": "2021-11-18T11:29:25.058Z"
   },
   {
    "duration": 26,
    "start_time": "2021-11-18T11:29:25.080Z"
   },
   {
    "duration": 18,
    "start_time": "2021-11-18T11:29:25.108Z"
   },
   {
    "duration": 31,
    "start_time": "2021-11-18T11:29:25.128Z"
   },
   {
    "duration": 55,
    "start_time": "2021-11-18T11:29:25.161Z"
   },
   {
    "duration": 497,
    "start_time": "2021-11-18T11:33:29.265Z"
   },
   {
    "duration": 398,
    "start_time": "2021-11-18T11:33:55.196Z"
   },
   {
    "duration": 50,
    "start_time": "2021-11-18T11:34:32.192Z"
   },
   {
    "duration": 69,
    "start_time": "2021-11-18T11:39:06.901Z"
   },
   {
    "duration": 10,
    "start_time": "2021-11-18T11:39:11.533Z"
   },
   {
    "duration": 61,
    "start_time": "2021-11-18T11:45:55.956Z"
   },
   {
    "duration": 40,
    "start_time": "2021-11-18T11:46:39.281Z"
   },
   {
    "duration": 30,
    "start_time": "2021-11-18T11:47:09.417Z"
   },
   {
    "duration": 86,
    "start_time": "2021-11-18T11:47:15.999Z"
   },
   {
    "duration": 33,
    "start_time": "2021-11-18T11:47:16.088Z"
   },
   {
    "duration": 13,
    "start_time": "2021-11-18T11:47:16.124Z"
   },
   {
    "duration": 28,
    "start_time": "2021-11-18T11:47:16.161Z"
   },
   {
    "duration": 20,
    "start_time": "2021-11-18T11:47:16.192Z"
   },
   {
    "duration": 55,
    "start_time": "2021-11-18T11:47:16.214Z"
   },
   {
    "duration": 15,
    "start_time": "2021-11-18T11:47:16.271Z"
   },
   {
    "duration": 19,
    "start_time": "2021-11-18T11:47:16.289Z"
   },
   {
    "duration": 11,
    "start_time": "2021-11-18T11:47:16.311Z"
   },
   {
    "duration": 9,
    "start_time": "2021-11-18T11:47:16.360Z"
   },
   {
    "duration": 22,
    "start_time": "2021-11-18T11:47:16.372Z"
   },
   {
    "duration": 82,
    "start_time": "2021-11-18T11:47:23.939Z"
   },
   {
    "duration": 50,
    "start_time": "2021-11-18T11:47:24.024Z"
   },
   {
    "duration": 14,
    "start_time": "2021-11-18T11:47:24.078Z"
   },
   {
    "duration": 26,
    "start_time": "2021-11-18T11:47:24.095Z"
   },
   {
    "duration": 48,
    "start_time": "2021-11-18T11:47:24.124Z"
   },
   {
    "duration": 35,
    "start_time": "2021-11-18T11:47:24.175Z"
   },
   {
    "duration": 16,
    "start_time": "2021-11-18T11:47:24.212Z"
   },
   {
    "duration": 36,
    "start_time": "2021-11-18T11:47:24.231Z"
   },
   {
    "duration": 10,
    "start_time": "2021-11-18T11:47:24.270Z"
   },
   {
    "duration": 12,
    "start_time": "2021-11-18T11:47:24.283Z"
   },
   {
    "duration": 19,
    "start_time": "2021-11-18T11:47:24.298Z"
   },
   {
    "duration": 38,
    "start_time": "2021-11-18T11:47:27.216Z"
   },
   {
    "duration": 848,
    "start_time": "2021-11-18T11:48:09.971Z"
   },
   {
    "duration": 40,
    "start_time": "2021-11-18T11:48:10.822Z"
   },
   {
    "duration": 13,
    "start_time": "2021-11-18T11:48:10.865Z"
   },
   {
    "duration": 26,
    "start_time": "2021-11-18T11:48:10.882Z"
   },
   {
    "duration": 19,
    "start_time": "2021-11-18T11:48:10.911Z"
   },
   {
    "duration": 48,
    "start_time": "2021-11-18T11:48:10.932Z"
   },
   {
    "duration": 15,
    "start_time": "2021-11-18T11:48:10.983Z"
   },
   {
    "duration": 56,
    "start_time": "2021-11-18T11:48:11.003Z"
   },
   {
    "duration": 13,
    "start_time": "2021-11-18T11:48:11.062Z"
   },
   {
    "duration": 12,
    "start_time": "2021-11-18T11:48:11.078Z"
   },
   {
    "duration": 19,
    "start_time": "2021-11-18T11:48:11.093Z"
   },
   {
    "duration": 76,
    "start_time": "2021-11-18T11:48:11.115Z"
   },
   {
    "duration": 12,
    "start_time": "2021-11-18T11:48:11.194Z"
   },
   {
    "duration": 459,
    "start_time": "2021-11-18T11:48:11.208Z"
   },
   {
    "duration": -853,
    "start_time": "2021-11-18T11:48:12.522Z"
   },
   {
    "duration": -856,
    "start_time": "2021-11-18T11:48:12.527Z"
   },
   {
    "duration": -858,
    "start_time": "2021-11-18T11:48:12.531Z"
   },
   {
    "duration": -861,
    "start_time": "2021-11-18T11:48:12.535Z"
   },
   {
    "duration": -864,
    "start_time": "2021-11-18T11:48:12.540Z"
   },
   {
    "duration": -867,
    "start_time": "2021-11-18T11:48:12.544Z"
   },
   {
    "duration": -870,
    "start_time": "2021-11-18T11:48:12.548Z"
   },
   {
    "duration": -873,
    "start_time": "2021-11-18T11:48:12.553Z"
   },
   {
    "duration": -876,
    "start_time": "2021-11-18T11:48:12.557Z"
   },
   {
    "duration": 39,
    "start_time": "2021-11-18T12:05:04.832Z"
   },
   {
    "duration": 39,
    "start_time": "2021-11-18T12:07:31.383Z"
   },
   {
    "duration": 39,
    "start_time": "2021-11-18T12:32:18.425Z"
   },
   {
    "duration": 10,
    "start_time": "2021-11-18T12:32:23.382Z"
   },
   {
    "duration": 37,
    "start_time": "2021-11-18T12:39:33.713Z"
   },
   {
    "duration": 76,
    "start_time": "2021-11-18T12:40:36.001Z"
   },
   {
    "duration": 31,
    "start_time": "2021-11-18T12:40:36.079Z"
   },
   {
    "duration": 14,
    "start_time": "2021-11-18T12:40:36.113Z"
   },
   {
    "duration": 58,
    "start_time": "2021-11-18T12:40:36.131Z"
   },
   {
    "duration": 29,
    "start_time": "2021-11-18T12:40:36.193Z"
   },
   {
    "duration": 53,
    "start_time": "2021-11-18T12:40:36.226Z"
   },
   {
    "duration": 12,
    "start_time": "2021-11-18T12:40:36.282Z"
   },
   {
    "duration": 19,
    "start_time": "2021-11-18T12:40:36.297Z"
   },
   {
    "duration": 43,
    "start_time": "2021-11-18T12:40:36.319Z"
   },
   {
    "duration": 10,
    "start_time": "2021-11-18T12:40:36.364Z"
   },
   {
    "duration": 17,
    "start_time": "2021-11-18T12:40:36.376Z"
   },
   {
    "duration": 71,
    "start_time": "2021-11-18T12:40:36.395Z"
   },
   {
    "duration": 852,
    "start_time": "2021-11-18T12:40:56.134Z"
   },
   {
    "duration": 32,
    "start_time": "2021-11-18T12:40:56.989Z"
   },
   {
    "duration": 13,
    "start_time": "2021-11-18T12:40:57.024Z"
   },
   {
    "duration": 36,
    "start_time": "2021-11-18T12:40:57.040Z"
   },
   {
    "duration": 20,
    "start_time": "2021-11-18T12:40:57.078Z"
   },
   {
    "duration": 22,
    "start_time": "2021-11-18T12:40:57.100Z"
   },
   {
    "duration": 44,
    "start_time": "2021-11-18T12:40:57.125Z"
   },
   {
    "duration": 20,
    "start_time": "2021-11-18T12:40:57.175Z"
   },
   {
    "duration": 9,
    "start_time": "2021-11-18T12:40:57.199Z"
   },
   {
    "duration": 50,
    "start_time": "2021-11-18T12:40:57.211Z"
   },
   {
    "duration": 14,
    "start_time": "2021-11-18T12:40:57.263Z"
   },
   {
    "duration": 38,
    "start_time": "2021-11-18T12:40:57.280Z"
   },
   {
    "duration": 46,
    "start_time": "2021-11-18T12:40:57.321Z"
   },
   {
    "duration": 20,
    "start_time": "2021-11-18T12:40:57.370Z"
   },
   {
    "duration": 87,
    "start_time": "2021-11-18T12:40:57.393Z"
   },
   {
    "duration": 77,
    "start_time": "2021-11-18T12:40:57.483Z"
   },
   {
    "duration": 923,
    "start_time": "2021-11-18T12:40:57.562Z"
   },
   {
    "duration": 28944,
    "start_time": "2021-11-18T12:40:58.488Z"
   },
   {
    "duration": 40,
    "start_time": "2021-11-18T12:41:27.435Z"
   },
   {
    "duration": 21,
    "start_time": "2021-11-18T12:41:27.477Z"
   },
   {
    "duration": 19,
    "start_time": "2021-11-18T12:41:27.500Z"
   },
   {
    "duration": 2408,
    "start_time": "2021-11-18T12:41:27.521Z"
   },
   {
    "duration": 34,
    "start_time": "2021-11-18T12:41:29.933Z"
   },
   {
    "duration": 17,
    "start_time": "2021-11-18T12:46:31.661Z"
   },
   {
    "duration": 15,
    "start_time": "2021-11-18T12:47:51.373Z"
   },
   {
    "duration": 63,
    "start_time": "2021-11-18T12:55:53.325Z"
   },
   {
    "duration": 88,
    "start_time": "2021-11-18T13:01:21.608Z"
   },
   {
    "duration": 93,
    "start_time": "2021-11-18T13:01:51.523Z"
   },
   {
    "duration": 580,
    "start_time": "2021-11-18T13:05:54.930Z"
   },
   {
    "duration": 468,
    "start_time": "2021-11-18T13:06:22.735Z"
   },
   {
    "duration": 19,
    "start_time": "2021-11-18T13:06:40.131Z"
   },
   {
    "duration": 851,
    "start_time": "2021-11-18T13:06:57.520Z"
   },
   {
    "duration": 33,
    "start_time": "2021-11-18T13:06:58.374Z"
   },
   {
    "duration": 14,
    "start_time": "2021-11-18T13:06:58.410Z"
   },
   {
    "duration": 47,
    "start_time": "2021-11-18T13:06:58.426Z"
   },
   {
    "duration": 20,
    "start_time": "2021-11-18T13:06:58.475Z"
   },
   {
    "duration": 18,
    "start_time": "2021-11-18T13:06:58.497Z"
   },
   {
    "duration": 44,
    "start_time": "2021-11-18T13:06:58.517Z"
   },
   {
    "duration": 21,
    "start_time": "2021-11-18T13:06:58.564Z"
   },
   {
    "duration": 10,
    "start_time": "2021-11-18T13:06:58.588Z"
   },
   {
    "duration": 9,
    "start_time": "2021-11-18T13:06:58.600Z"
   },
   {
    "duration": 56,
    "start_time": "2021-11-18T13:06:58.612Z"
   },
   {
    "duration": 39,
    "start_time": "2021-11-18T13:06:58.671Z"
   },
   {
    "duration": 46,
    "start_time": "2021-11-18T13:06:58.712Z"
   },
   {
    "duration": 21,
    "start_time": "2021-11-18T13:06:58.761Z"
   },
   {
    "duration": 79,
    "start_time": "2021-11-18T13:06:58.784Z"
   },
   {
    "duration": 62,
    "start_time": "2021-11-18T13:06:58.866Z"
   },
   {
    "duration": 76,
    "start_time": "2021-11-18T13:06:58.961Z"
   },
   {
    "duration": 911,
    "start_time": "2021-11-18T13:06:59.060Z"
   },
   {
    "duration": 28077,
    "start_time": "2021-11-18T13:06:59.973Z"
   },
   {
    "duration": 36,
    "start_time": "2021-11-18T13:07:28.060Z"
   },
   {
    "duration": 17,
    "start_time": "2021-11-18T13:07:28.098Z"
   },
   {
    "duration": 48,
    "start_time": "2021-11-18T13:07:28.118Z"
   },
   {
    "duration": 2234,
    "start_time": "2021-11-18T13:07:28.170Z"
   },
   {
    "duration": 23,
    "start_time": "2021-11-18T13:07:30.407Z"
   },
   {
    "duration": 66,
    "start_time": "2021-11-18T13:08:46.240Z"
   },
   {
    "duration": 17,
    "start_time": "2021-11-18T13:24:26.625Z"
   },
   {
    "duration": 15,
    "start_time": "2021-11-18T13:35:18.591Z"
   },
   {
    "duration": 15,
    "start_time": "2021-11-18T13:35:30.087Z"
   },
   {
    "duration": 93,
    "start_time": "2021-11-18T13:35:54.008Z"
   },
   {
    "duration": 56,
    "start_time": "2021-11-18T13:35:54.103Z"
   },
   {
    "duration": 13,
    "start_time": "2021-11-18T13:35:54.163Z"
   },
   {
    "duration": 27,
    "start_time": "2021-11-18T13:35:54.179Z"
   },
   {
    "duration": 19,
    "start_time": "2021-11-18T13:35:54.209Z"
   },
   {
    "duration": 19,
    "start_time": "2021-11-18T13:35:54.260Z"
   },
   {
    "duration": 12,
    "start_time": "2021-11-18T13:35:54.282Z"
   },
   {
    "duration": 16,
    "start_time": "2021-11-18T13:35:54.298Z"
   },
   {
    "duration": 51,
    "start_time": "2021-11-18T13:35:54.316Z"
   },
   {
    "duration": 10,
    "start_time": "2021-11-18T13:35:54.370Z"
   },
   {
    "duration": 15,
    "start_time": "2021-11-18T13:35:54.383Z"
   },
   {
    "duration": 77,
    "start_time": "2021-11-18T13:35:54.400Z"
   },
   {
    "duration": 8,
    "start_time": "2021-11-18T13:35:54.479Z"
   },
   {
    "duration": 24,
    "start_time": "2021-11-18T13:35:54.489Z"
   },
   {
    "duration": 93,
    "start_time": "2021-11-18T13:35:54.515Z"
   },
   {
    "duration": 84,
    "start_time": "2021-11-18T13:35:54.611Z"
   },
   {
    "duration": 81,
    "start_time": "2021-11-18T13:35:54.697Z"
   },
   {
    "duration": 961,
    "start_time": "2021-11-18T13:35:54.780Z"
   },
   {
    "duration": 28886,
    "start_time": "2021-11-18T13:35:55.744Z"
   },
   {
    "duration": 44,
    "start_time": "2021-11-18T13:36:24.633Z"
   },
   {
    "duration": 822,
    "start_time": "2021-11-18T13:36:59.712Z"
   },
   {
    "duration": 38,
    "start_time": "2021-11-18T13:37:00.536Z"
   },
   {
    "duration": 15,
    "start_time": "2021-11-18T13:37:00.577Z"
   },
   {
    "duration": 55,
    "start_time": "2021-11-18T13:37:00.594Z"
   },
   {
    "duration": 31,
    "start_time": "2021-11-18T13:37:00.651Z"
   },
   {
    "duration": 36,
    "start_time": "2021-11-18T13:37:00.684Z"
   },
   {
    "duration": 37,
    "start_time": "2021-11-18T13:37:00.723Z"
   },
   {
    "duration": 35,
    "start_time": "2021-11-18T13:37:00.764Z"
   },
   {
    "duration": 20,
    "start_time": "2021-11-18T13:37:00.802Z"
   },
   {
    "duration": 28,
    "start_time": "2021-11-18T13:37:00.824Z"
   },
   {
    "duration": 35,
    "start_time": "2021-11-18T13:37:00.855Z"
   },
   {
    "duration": 44,
    "start_time": "2021-11-18T13:37:00.892Z"
   },
   {
    "duration": 8,
    "start_time": "2021-11-18T13:37:00.938Z"
   },
   {
    "duration": 38,
    "start_time": "2021-11-18T13:37:00.949Z"
   },
   {
    "duration": 77,
    "start_time": "2021-11-18T13:37:00.990Z"
   },
   {
    "duration": 89,
    "start_time": "2021-11-18T13:37:01.070Z"
   },
   {
    "duration": 112,
    "start_time": "2021-11-18T13:37:01.163Z"
   },
   {
    "duration": 961,
    "start_time": "2021-11-18T13:37:01.277Z"
   },
   {
    "duration": 27741,
    "start_time": "2021-11-18T13:37:02.241Z"
   },
   {
    "duration": 33,
    "start_time": "2021-11-18T13:37:29.984Z"
   },
   {
    "duration": 41,
    "start_time": "2021-11-18T13:37:30.019Z"
   },
   {
    "duration": 20,
    "start_time": "2021-11-18T13:37:30.063Z"
   },
   {
    "duration": 2081,
    "start_time": "2021-11-18T13:37:30.087Z"
   },
   {
    "duration": 21,
    "start_time": "2021-11-18T13:37:32.170Z"
   },
   {
    "duration": 24,
    "start_time": "2021-11-18T13:38:30.314Z"
   },
   {
    "duration": 21,
    "start_time": "2021-11-18T13:39:50.501Z"
   },
   {
    "duration": 15,
    "start_time": "2021-11-18T13:40:50.313Z"
   },
   {
    "duration": 20,
    "start_time": "2021-11-18T13:41:11.300Z"
   },
   {
    "duration": 21,
    "start_time": "2021-11-18T13:41:29.584Z"
   },
   {
    "duration": 858,
    "start_time": "2021-11-18T13:43:07.977Z"
   },
   {
    "duration": 52,
    "start_time": "2021-11-18T13:43:08.839Z"
   },
   {
    "duration": 21,
    "start_time": "2021-11-18T13:43:08.896Z"
   },
   {
    "duration": 53,
    "start_time": "2021-11-18T13:43:08.921Z"
   },
   {
    "duration": 32,
    "start_time": "2021-11-18T13:43:08.978Z"
   },
   {
    "duration": 55,
    "start_time": "2021-11-18T13:43:09.013Z"
   },
   {
    "duration": 15,
    "start_time": "2021-11-18T13:43:09.071Z"
   },
   {
    "duration": 26,
    "start_time": "2021-11-18T13:43:09.092Z"
   },
   {
    "duration": 42,
    "start_time": "2021-11-18T13:43:09.122Z"
   },
   {
    "duration": 12,
    "start_time": "2021-11-18T13:43:09.167Z"
   },
   {
    "duration": 17,
    "start_time": "2021-11-18T13:43:09.181Z"
   },
   {
    "duration": 82,
    "start_time": "2021-11-18T13:43:09.201Z"
   },
   {
    "duration": 9,
    "start_time": "2021-11-18T13:43:09.286Z"
   },
   {
    "duration": 24,
    "start_time": "2021-11-18T13:43:09.297Z"
   },
   {
    "duration": 89,
    "start_time": "2021-11-18T13:43:09.323Z"
   },
   {
    "duration": 83,
    "start_time": "2021-11-18T13:43:09.414Z"
   },
   {
    "duration": 101,
    "start_time": "2021-11-18T13:43:09.501Z"
   },
   {
    "duration": 941,
    "start_time": "2021-11-18T13:43:09.605Z"
   },
   {
    "duration": 28763,
    "start_time": "2021-11-18T13:43:10.549Z"
   },
   {
    "duration": 49,
    "start_time": "2021-11-18T13:43:39.316Z"
   },
   {
    "duration": 20,
    "start_time": "2021-11-18T13:43:39.368Z"
   },
   {
    "duration": 18,
    "start_time": "2021-11-18T13:43:39.391Z"
   },
   {
    "duration": 1939,
    "start_time": "2021-11-18T13:43:39.413Z"
   },
   {
    "duration": 23,
    "start_time": "2021-11-18T13:43:41.354Z"
   },
   {
    "duration": 881,
    "start_time": "2021-11-18T13:48:19.734Z"
   },
   {
    "duration": 45,
    "start_time": "2021-11-18T13:48:20.618Z"
   },
   {
    "duration": 13,
    "start_time": "2021-11-18T13:48:20.666Z"
   },
   {
    "duration": 35,
    "start_time": "2021-11-18T13:48:20.681Z"
   },
   {
    "duration": 19,
    "start_time": "2021-11-18T13:48:20.718Z"
   },
   {
    "duration": 19,
    "start_time": "2021-11-18T13:48:20.759Z"
   },
   {
    "duration": 12,
    "start_time": "2021-11-18T13:48:20.780Z"
   },
   {
    "duration": 20,
    "start_time": "2021-11-18T13:48:20.796Z"
   },
   {
    "duration": 42,
    "start_time": "2021-11-18T13:48:20.819Z"
   },
   {
    "duration": 9,
    "start_time": "2021-11-18T13:48:20.864Z"
   },
   {
    "duration": 15,
    "start_time": "2021-11-18T13:48:20.876Z"
   },
   {
    "duration": 77,
    "start_time": "2021-11-18T13:48:20.894Z"
   },
   {
    "duration": 8,
    "start_time": "2021-11-18T13:48:20.973Z"
   },
   {
    "duration": 29,
    "start_time": "2021-11-18T13:48:20.983Z"
   },
   {
    "duration": 100,
    "start_time": "2021-11-18T13:48:21.014Z"
   },
   {
    "duration": 80,
    "start_time": "2021-11-18T13:48:21.116Z"
   },
   {
    "duration": 85,
    "start_time": "2021-11-18T13:48:21.199Z"
   },
   {
    "duration": 985,
    "start_time": "2021-11-18T13:48:21.287Z"
   },
   {
    "duration": 29647,
    "start_time": "2021-11-18T13:48:22.275Z"
   },
   {
    "duration": 45,
    "start_time": "2021-11-18T13:48:51.925Z"
   },
   {
    "duration": 22,
    "start_time": "2021-11-18T13:48:51.973Z"
   },
   {
    "duration": 18,
    "start_time": "2021-11-18T13:48:51.998Z"
   },
   {
    "duration": 1925,
    "start_time": "2021-11-18T13:48:52.020Z"
   },
   {
    "duration": 27,
    "start_time": "2021-11-18T13:48:53.948Z"
   },
   {
    "duration": 582,
    "start_time": "2021-11-18T14:55:18.829Z"
   },
   {
    "duration": 21,
    "start_time": "2021-11-18T14:55:19.413Z"
   },
   {
    "duration": 10,
    "start_time": "2021-11-18T14:55:19.436Z"
   },
   {
    "duration": 22,
    "start_time": "2021-11-18T14:55:19.447Z"
   },
   {
    "duration": 25,
    "start_time": "2021-11-18T14:55:19.471Z"
   },
   {
    "duration": 12,
    "start_time": "2021-11-18T14:55:19.497Z"
   },
   {
    "duration": 8,
    "start_time": "2021-11-18T14:55:19.511Z"
   },
   {
    "duration": 10,
    "start_time": "2021-11-18T14:55:19.520Z"
   },
   {
    "duration": 6,
    "start_time": "2021-11-18T14:55:19.532Z"
   },
   {
    "duration": 6,
    "start_time": "2021-11-18T14:55:19.540Z"
   },
   {
    "duration": 50,
    "start_time": "2021-11-18T14:55:19.547Z"
   },
   {
    "duration": 26,
    "start_time": "2021-11-18T14:55:19.598Z"
   },
   {
    "duration": 5,
    "start_time": "2021-11-18T14:55:19.626Z"
   },
   {
    "duration": 22,
    "start_time": "2021-11-18T14:55:19.633Z"
   },
   {
    "duration": 61,
    "start_time": "2021-11-18T14:55:19.657Z"
   },
   {
    "duration": 39,
    "start_time": "2021-11-18T14:55:19.720Z"
   },
   {
    "duration": 68,
    "start_time": "2021-11-18T14:55:19.761Z"
   },
   {
    "duration": 676,
    "start_time": "2021-11-18T14:55:19.831Z"
   },
   {
    "duration": 16119,
    "start_time": "2021-11-18T14:55:20.509Z"
   },
   {
    "duration": 20,
    "start_time": "2021-11-18T14:55:36.630Z"
   },
   {
    "duration": 12,
    "start_time": "2021-11-18T14:55:36.651Z"
   },
   {
    "duration": 27,
    "start_time": "2021-11-18T14:55:36.665Z"
   },
   {
    "duration": 1256,
    "start_time": "2021-11-18T14:55:36.693Z"
   },
   {
    "duration": 15,
    "start_time": "2021-11-18T14:55:37.951Z"
   },
   {
    "duration": 164,
    "start_time": "2021-11-19T06:47:23.098Z"
   },
   {
    "duration": 181,
    "start_time": "2021-11-19T06:49:52.978Z"
   },
   {
    "duration": 392,
    "start_time": "2021-11-19T07:12:38.121Z"
   },
   {
    "duration": 866,
    "start_time": "2021-11-19T07:12:43.217Z"
   },
   {
    "duration": 34,
    "start_time": "2021-11-19T07:12:44.086Z"
   },
   {
    "duration": 14,
    "start_time": "2021-11-19T07:12:44.123Z"
   },
   {
    "duration": 25,
    "start_time": "2021-11-19T07:12:44.140Z"
   },
   {
    "duration": 48,
    "start_time": "2021-11-19T07:12:44.168Z"
   },
   {
    "duration": 22,
    "start_time": "2021-11-19T07:12:44.219Z"
   },
   {
    "duration": 367,
    "start_time": "2021-11-19T07:12:49.725Z"
   },
   {
    "duration": 5,
    "start_time": "2021-11-19T07:12:58.787Z"
   },
   {
    "duration": 9,
    "start_time": "2021-11-19T07:14:01.509Z"
   },
   {
    "duration": 339,
    "start_time": "2021-11-19T07:16:04.312Z"
   },
   {
    "duration": 9,
    "start_time": "2021-11-19T07:16:28.994Z"
   },
   {
    "duration": 115,
    "start_time": "2021-11-19T07:16:54.594Z"
   },
   {
    "duration": 379,
    "start_time": "2021-11-19T07:17:03.994Z"
   },
   {
    "duration": 79,
    "start_time": "2021-11-19T07:17:16.960Z"
   },
   {
    "duration": 34,
    "start_time": "2021-11-19T07:17:17.043Z"
   },
   {
    "duration": 35,
    "start_time": "2021-11-19T07:17:17.080Z"
   },
   {
    "duration": 24,
    "start_time": "2021-11-19T07:17:17.117Z"
   },
   {
    "duration": 58,
    "start_time": "2021-11-19T07:17:17.144Z"
   },
   {
    "duration": 21,
    "start_time": "2021-11-19T07:17:17.205Z"
   },
   {
    "duration": 1191,
    "start_time": "2021-11-19T07:17:21.425Z"
   },
   {
    "duration": 10,
    "start_time": "2021-11-19T07:18:23.461Z"
   },
   {
    "duration": 10,
    "start_time": "2021-11-19T07:21:14.232Z"
   },
   {
    "duration": 124,
    "start_time": "2021-11-19T07:21:18.355Z"
   },
   {
    "duration": 110,
    "start_time": "2021-11-19T07:22:07.155Z"
   },
   {
    "duration": 6765,
    "start_time": "2021-11-19T07:35:37.610Z"
   },
   {
    "duration": 78,
    "start_time": "2021-11-19T07:38:47.180Z"
   },
   {
    "duration": 44,
    "start_time": "2021-11-19T07:38:47.261Z"
   },
   {
    "duration": 20,
    "start_time": "2021-11-19T07:38:47.309Z"
   },
   {
    "duration": 24,
    "start_time": "2021-11-19T07:38:47.333Z"
   },
   {
    "duration": 48,
    "start_time": "2021-11-19T07:38:47.359Z"
   },
   {
    "duration": 18,
    "start_time": "2021-11-19T07:38:47.409Z"
   },
   {
    "duration": 6688,
    "start_time": "2021-11-19T07:38:50.293Z"
   },
   {
    "duration": 16,
    "start_time": "2021-11-19T07:52:20.736Z"
   },
   {
    "duration": 435,
    "start_time": "2021-11-19T07:52:55.474Z"
   },
   {
    "duration": 20,
    "start_time": "2021-11-19T07:54:54.781Z"
   },
   {
    "duration": 21,
    "start_time": "2021-11-19T07:55:16.840Z"
   },
   {
    "duration": 27,
    "start_time": "2021-11-19T07:56:21.809Z"
   },
   {
    "duration": 63,
    "start_time": "2021-11-19T08:02:18.474Z"
   },
   {
    "duration": 62,
    "start_time": "2021-11-19T08:02:28.896Z"
   },
   {
    "duration": 62,
    "start_time": "2021-11-19T08:02:43.725Z"
   },
   {
    "duration": 61,
    "start_time": "2021-11-19T08:03:43.819Z"
   },
   {
    "duration": 61,
    "start_time": "2021-11-19T08:04:22.951Z"
   },
   {
    "duration": 61,
    "start_time": "2021-11-19T08:04:33.563Z"
   },
   {
    "duration": 64,
    "start_time": "2021-11-19T08:04:52.355Z"
   },
   {
    "duration": 62,
    "start_time": "2021-11-19T08:05:15.144Z"
   },
   {
    "duration": 60,
    "start_time": "2021-11-19T08:05:33.350Z"
   },
   {
    "duration": 398,
    "start_time": "2021-11-19T08:06:42.870Z"
   },
   {
    "duration": 883,
    "start_time": "2021-11-19T08:06:56.097Z"
   },
   {
    "duration": 115,
    "start_time": "2021-11-19T08:07:07.801Z"
   },
   {
    "duration": 1003,
    "start_time": "2021-11-19T08:07:22.759Z"
   },
   {
    "duration": 874,
    "start_time": "2021-11-19T08:07:35.410Z"
   },
   {
    "duration": 944,
    "start_time": "2021-11-19T08:07:50.162Z"
   },
   {
    "duration": 879,
    "start_time": "2021-11-19T08:08:07.517Z"
   },
   {
    "duration": 123,
    "start_time": "2021-11-19T08:08:31.666Z"
   },
   {
    "duration": 133,
    "start_time": "2021-11-19T08:08:51.120Z"
   },
   {
    "duration": 59,
    "start_time": "2021-11-19T08:08:56.706Z"
   },
   {
    "duration": 59,
    "start_time": "2021-11-19T08:09:10.465Z"
   },
   {
    "duration": 73,
    "start_time": "2021-11-19T08:09:39.305Z"
   },
   {
    "duration": 63,
    "start_time": "2021-11-19T08:09:51.826Z"
   },
   {
    "duration": 62,
    "start_time": "2021-11-19T08:12:46.134Z"
   },
   {
    "duration": 70,
    "start_time": "2021-11-19T08:16:07.609Z"
   },
   {
    "duration": 247,
    "start_time": "2021-11-19T08:17:09.343Z"
   },
   {
    "duration": 283,
    "start_time": "2021-11-19T08:17:20.510Z"
   },
   {
    "duration": 312,
    "start_time": "2021-11-19T08:17:46.264Z"
   },
   {
    "duration": 313,
    "start_time": "2021-11-19T08:20:37.277Z"
   },
   {
    "duration": 308,
    "start_time": "2021-11-19T08:20:46.878Z"
   },
   {
    "duration": 123,
    "start_time": "2021-11-19T08:21:06.461Z"
   },
   {
    "duration": 411,
    "start_time": "2021-11-19T08:22:02.807Z"
   },
   {
    "duration": 61,
    "start_time": "2021-11-19T08:22:31.416Z"
   },
   {
    "duration": 183,
    "start_time": "2021-11-19T14:04:34.015Z"
   },
   {
    "duration": 105,
    "start_time": "2021-11-19T14:05:11.723Z"
   },
   {
    "duration": 63,
    "start_time": "2021-11-19T14:06:37.598Z"
   },
   {
    "duration": 163,
    "start_time": "2021-11-19T14:10:01.068Z"
   },
   {
    "duration": 51,
    "start_time": "2021-11-19T14:10:22.378Z"
   },
   {
    "duration": 54,
    "start_time": "2021-11-19T14:10:50.527Z"
   },
   {
    "duration": 76,
    "start_time": "2021-11-19T14:11:15.996Z"
   },
   {
    "duration": 41,
    "start_time": "2021-11-19T14:11:16.075Z"
   },
   {
    "duration": 14,
    "start_time": "2021-11-19T14:11:16.119Z"
   },
   {
    "duration": 29,
    "start_time": "2021-11-19T14:11:16.136Z"
   },
   {
    "duration": 40,
    "start_time": "2021-11-19T14:11:16.167Z"
   },
   {
    "duration": 22,
    "start_time": "2021-11-19T14:11:16.209Z"
   },
   {
    "duration": 51,
    "start_time": "2021-11-19T14:11:22.364Z"
   },
   {
    "duration": 80,
    "start_time": "2021-11-19T14:11:57.953Z"
   },
   {
    "duration": 32,
    "start_time": "2021-11-19T14:11:58.035Z"
   },
   {
    "duration": 34,
    "start_time": "2021-11-19T14:11:58.069Z"
   },
   {
    "duration": 32,
    "start_time": "2021-11-19T14:11:58.105Z"
   },
   {
    "duration": 20,
    "start_time": "2021-11-19T14:11:58.139Z"
   },
   {
    "duration": 56,
    "start_time": "2021-11-19T14:11:58.162Z"
   },
   {
    "duration": 53,
    "start_time": "2021-11-19T14:12:03.344Z"
   },
   {
    "duration": 50,
    "start_time": "2021-11-19T14:12:51.427Z"
   },
   {
    "duration": 336,
    "start_time": "2021-11-19T14:13:44.366Z"
   },
   {
    "duration": 49,
    "start_time": "2021-11-19T14:13:51.886Z"
   },
   {
    "duration": 57,
    "start_time": "2021-11-19T14:14:01.672Z"
   },
   {
    "duration": 845,
    "start_time": "2021-11-19T14:47:20.831Z"
   },
   {
    "duration": 43,
    "start_time": "2021-11-19T14:47:21.679Z"
   },
   {
    "duration": 15,
    "start_time": "2021-11-19T14:47:21.726Z"
   },
   {
    "duration": 24,
    "start_time": "2021-11-19T14:47:21.744Z"
   },
   {
    "duration": 49,
    "start_time": "2021-11-19T14:47:21.770Z"
   },
   {
    "duration": 21,
    "start_time": "2021-11-19T14:47:21.822Z"
   },
   {
    "duration": 99,
    "start_time": "2021-11-19T14:47:21.847Z"
   },
   {
    "duration": 20,
    "start_time": "2021-11-19T14:47:21.952Z"
   },
   {
    "duration": 31,
    "start_time": "2021-11-19T14:47:21.975Z"
   },
   {
    "duration": 11,
    "start_time": "2021-11-19T14:47:22.009Z"
   },
   {
    "duration": 25,
    "start_time": "2021-11-19T14:47:22.022Z"
   },
   {
    "duration": 73,
    "start_time": "2021-11-19T14:47:22.050Z"
   },
   {
    "duration": 9,
    "start_time": "2021-11-19T14:47:22.125Z"
   },
   {
    "duration": 37,
    "start_time": "2021-11-19T14:47:22.136Z"
   },
   {
    "duration": 77,
    "start_time": "2021-11-19T14:47:22.175Z"
   },
   {
    "duration": 91,
    "start_time": "2021-11-19T14:47:22.254Z"
   },
   {
    "duration": 104,
    "start_time": "2021-11-19T14:47:22.348Z"
   },
   {
    "duration": 1423,
    "start_time": "2021-11-19T14:47:22.455Z"
   },
   {
    "duration": 31114,
    "start_time": "2021-11-19T14:47:23.881Z"
   },
   {
    "duration": 40,
    "start_time": "2021-11-19T14:47:55.001Z"
   },
   {
    "duration": 55,
    "start_time": "2021-11-19T14:47:55.045Z"
   },
   {
    "duration": 20,
    "start_time": "2021-11-19T14:47:55.103Z"
   },
   {
    "duration": 2083,
    "start_time": "2021-11-19T14:47:55.128Z"
   },
   {
    "duration": 23,
    "start_time": "2021-11-19T14:47:57.214Z"
   }
  ],
  "kernelspec": {
   "display_name": "Python 3 (ipykernel)",
   "language": "python",
   "name": "python3"
  },
  "language_info": {
   "codemirror_mode": {
    "name": "ipython",
    "version": 3
   },
   "file_extension": ".py",
   "mimetype": "text/x-python",
   "name": "python",
   "nbconvert_exporter": "python",
   "pygments_lexer": "ipython3",
   "version": "3.8.10"
  },
  "toc": {
   "base_numbering": 1,
   "nav_menu": {},
   "number_sections": true,
   "sideBar": true,
   "skip_h1_title": true,
   "title_cell": "Table of Contents",
   "title_sidebar": "Contents",
   "toc_cell": false,
   "toc_position": {},
   "toc_section_display": true,
   "toc_window_display": false
  }
 },
 "nbformat": 4,
 "nbformat_minor": 4
}
